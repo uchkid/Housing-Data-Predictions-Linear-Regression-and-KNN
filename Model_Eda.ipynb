{
 "cells": [
  {
   "cell_type": "code",
   "execution_count": 1,
   "metadata": {},
   "outputs": [],
   "source": [
    "import pandas as pd\n",
    "import numpy as np\n",
    "import matplotlib.pyplot as plt\n",
    "import seaborn as sns"
   ]
  },
  {
   "cell_type": "markdown",
   "metadata": {},
   "source": [
    "#### Import Data"
   ]
  },
  {
   "cell_type": "code",
   "execution_count": 2,
   "metadata": {},
   "outputs": [],
   "source": [
    "data = pd.read_csv('cleaned_raw_house_data.csv')"
   ]
  },
  {
   "cell_type": "code",
   "execution_count": 3,
   "metadata": {},
   "outputs": [],
   "source": [
    "pd.set_option('display.float_format', lambda x: f'{x:.2f}')"
   ]
  },
  {
   "cell_type": "code",
   "execution_count": 4,
   "metadata": {},
   "outputs": [],
   "source": [
    "#data= data[[\"sold_price\",\"longitude\",\"latitude\",\"bedrooms\",\"bathrooms\",\"sqrt_ft\",\"garage\",\"price_per_sqft\"]]\n",
    "#data.to_csv(\"train_data.csv\")"
   ]
  },
  {
   "cell_type": "markdown",
   "metadata": {},
   "source": [
    "#### Feature engineering [Price Per sqft]"
   ]
  },
  {
   "cell_type": "code",
   "execution_count": 5,
   "metadata": {},
   "outputs": [],
   "source": [
    "data[\"price_per_sqft\"] = data.sold_price.div(data.sqrt_ft)"
   ]
  },
  {
   "cell_type": "code",
   "execution_count": 6,
   "metadata": {},
   "outputs": [],
   "source": [
    "columns = [\"sold_price\",\"longitude\",\"latitude\",\"bedrooms\",\"bathrooms\",\"sqrt_ft\",\"garage\",\"price_per_sqft\"]\n",
    "data = data[columns]"
   ]
  },
  {
   "cell_type": "code",
   "execution_count": 7,
   "metadata": {},
   "outputs": [],
   "source": [
    "data.garage.fillna(value=0, inplace=True)"
   ]
  },
  {
   "cell_type": "code",
   "execution_count": 8,
   "metadata": {},
   "outputs": [
    {
     "data": {
      "text/html": [
       "<div>\n",
       "<style scoped>\n",
       "    .dataframe tbody tr th:only-of-type {\n",
       "        vertical-align: middle;\n",
       "    }\n",
       "\n",
       "    .dataframe tbody tr th {\n",
       "        vertical-align: top;\n",
       "    }\n",
       "\n",
       "    .dataframe thead th {\n",
       "        text-align: right;\n",
       "    }\n",
       "</style>\n",
       "<table border=\"1\" class=\"dataframe\">\n",
       "  <thead>\n",
       "    <tr style=\"text-align: right;\">\n",
       "      <th></th>\n",
       "      <th>sold_price</th>\n",
       "      <th>longitude</th>\n",
       "      <th>latitude</th>\n",
       "      <th>bedrooms</th>\n",
       "      <th>bathrooms</th>\n",
       "      <th>sqrt_ft</th>\n",
       "      <th>garage</th>\n",
       "      <th>price_per_sqft</th>\n",
       "    </tr>\n",
       "  </thead>\n",
       "  <tbody>\n",
       "    <tr>\n",
       "      <th>count</th>\n",
       "      <td>4990.00</td>\n",
       "      <td>4990.00</td>\n",
       "      <td>4990.00</td>\n",
       "      <td>4990.00</td>\n",
       "      <td>4990.00</td>\n",
       "      <td>4990.00</td>\n",
       "      <td>4990.00</td>\n",
       "      <td>4990.00</td>\n",
       "    </tr>\n",
       "    <tr>\n",
       "      <th>mean</th>\n",
       "      <td>775016.16</td>\n",
       "      <td>-110.91</td>\n",
       "      <td>32.31</td>\n",
       "      <td>3.92</td>\n",
       "      <td>3.80</td>\n",
       "      <td>3708.06</td>\n",
       "      <td>2.81</td>\n",
       "      <td>212.45</td>\n",
       "    </tr>\n",
       "    <tr>\n",
       "      <th>std</th>\n",
       "      <td>318745.47</td>\n",
       "      <td>0.12</td>\n",
       "      <td>0.18</td>\n",
       "      <td>0.97</td>\n",
       "      <td>1.06</td>\n",
       "      <td>1054.99</td>\n",
       "      <td>1.20</td>\n",
       "      <td>68.29</td>\n",
       "    </tr>\n",
       "    <tr>\n",
       "      <th>min</th>\n",
       "      <td>169000.00</td>\n",
       "      <td>-112.52</td>\n",
       "      <td>31.36</td>\n",
       "      <td>1.00</td>\n",
       "      <td>1.00</td>\n",
       "      <td>1100.00</td>\n",
       "      <td>0.00</td>\n",
       "      <td>56.65</td>\n",
       "    </tr>\n",
       "    <tr>\n",
       "      <th>25%</th>\n",
       "      <td>585000.00</td>\n",
       "      <td>-110.98</td>\n",
       "      <td>32.28</td>\n",
       "      <td>3.00</td>\n",
       "      <td>3.00</td>\n",
       "      <td>3050.25</td>\n",
       "      <td>2.00</td>\n",
       "      <td>175.39</td>\n",
       "    </tr>\n",
       "    <tr>\n",
       "      <th>50%</th>\n",
       "      <td>675000.00</td>\n",
       "      <td>-110.92</td>\n",
       "      <td>32.32</td>\n",
       "      <td>4.00</td>\n",
       "      <td>4.00</td>\n",
       "      <td>3511.50</td>\n",
       "      <td>3.00</td>\n",
       "      <td>202.11</td>\n",
       "    </tr>\n",
       "    <tr>\n",
       "      <th>75%</th>\n",
       "      <td>836750.00</td>\n",
       "      <td>-110.86</td>\n",
       "      <td>32.39</td>\n",
       "      <td>4.00</td>\n",
       "      <td>4.00</td>\n",
       "      <td>4124.50</td>\n",
       "      <td>3.00</td>\n",
       "      <td>233.64</td>\n",
       "    </tr>\n",
       "    <tr>\n",
       "      <th>max</th>\n",
       "      <td>5300000.00</td>\n",
       "      <td>-109.45</td>\n",
       "      <td>34.93</td>\n",
       "      <td>19.00</td>\n",
       "      <td>18.00</td>\n",
       "      <td>13000.00</td>\n",
       "      <td>30.00</td>\n",
       "      <td>1320.84</td>\n",
       "    </tr>\n",
       "  </tbody>\n",
       "</table>\n",
       "</div>"
      ],
      "text/plain": [
       "       sold_price  longitude  latitude  bedrooms  bathrooms  sqrt_ft  garage  \\\n",
       "count     4990.00    4990.00   4990.00   4990.00    4990.00  4990.00 4990.00   \n",
       "mean    775016.16    -110.91     32.31      3.92       3.80  3708.06    2.81   \n",
       "std     318745.47       0.12      0.18      0.97       1.06  1054.99    1.20   \n",
       "min     169000.00    -112.52     31.36      1.00       1.00  1100.00    0.00   \n",
       "25%     585000.00    -110.98     32.28      3.00       3.00  3050.25    2.00   \n",
       "50%     675000.00    -110.92     32.32      4.00       4.00  3511.50    3.00   \n",
       "75%     836750.00    -110.86     32.39      4.00       4.00  4124.50    3.00   \n",
       "max    5300000.00    -109.45     34.93     19.00      18.00 13000.00   30.00   \n",
       "\n",
       "       price_per_sqft  \n",
       "count         4990.00  \n",
       "mean           212.45  \n",
       "std             68.29  \n",
       "min             56.65  \n",
       "25%            175.39  \n",
       "50%            202.11  \n",
       "75%            233.64  \n",
       "max           1320.84  "
      ]
     },
     "execution_count": 8,
     "metadata": {},
     "output_type": "execute_result"
    }
   ],
   "source": [
    "data.describe()"
   ]
  },
  {
   "cell_type": "markdown",
   "metadata": {},
   "source": [
    "#### Remove outlier"
   ]
  },
  {
   "cell_type": "code",
   "execution_count": 9,
   "metadata": {},
   "outputs": [
    {
     "data": {
      "image/png": "[encoded data removed]",
      "text/plain": [
       "<Figure size 640x480 with 1 Axes>"
      ]
     },
     "metadata": {},
     "output_type": "display_data"
    }
   ],
   "source": [
    "# Create a figure for the first boxplot\n",
    "plt.figure()\n",
    "data.boxplot(\"price_per_sqft\")\n",
    "plt.title(\"Price per Sqft Distribution\")\n",
    "plt.show()"
   ]
  },
  {
   "cell_type": "code",
   "execution_count": 10,
   "metadata": {},
   "outputs": [],
   "source": [
    "#data[data.price_per_sqft > 1000].index"
   ]
  },
  {
   "cell_type": "code",
   "execution_count": 11,
   "metadata": {},
   "outputs": [
    {
     "data": {
      "text/html": [
       "<div>\n",
       "<style scoped>\n",
       "    .dataframe tbody tr th:only-of-type {\n",
       "        vertical-align: middle;\n",
       "    }\n",
       "\n",
       "    .dataframe tbody tr th {\n",
       "        vertical-align: top;\n",
       "    }\n",
       "\n",
       "    .dataframe thead th {\n",
       "        text-align: right;\n",
       "    }\n",
       "</style>\n",
       "<table border=\"1\" class=\"dataframe\">\n",
       "  <thead>\n",
       "    <tr style=\"text-align: right;\">\n",
       "      <th></th>\n",
       "      <th>sold_price</th>\n",
       "      <th>longitude</th>\n",
       "      <th>latitude</th>\n",
       "      <th>bedrooms</th>\n",
       "      <th>bathrooms</th>\n",
       "      <th>sqrt_ft</th>\n",
       "      <th>garage</th>\n",
       "      <th>price_per_sqft</th>\n",
       "    </tr>\n",
       "  </thead>\n",
       "  <tbody>\n",
       "    <tr>\n",
       "      <th>2</th>\n",
       "      <td>4200000.00</td>\n",
       "      <td>-111.04</td>\n",
       "      <td>31.59</td>\n",
       "      <td>2</td>\n",
       "      <td>3.00</td>\n",
       "      <td>3179.80</td>\n",
       "      <td>0.00</td>\n",
       "      <td>1320.84</td>\n",
       "    </tr>\n",
       "    <tr>\n",
       "      <th>279</th>\n",
       "      <td>1450000.00</td>\n",
       "      <td>-110.65</td>\n",
       "      <td>31.43</td>\n",
       "      <td>1</td>\n",
       "      <td>1.00</td>\n",
       "      <td>1200.00</td>\n",
       "      <td>2.00</td>\n",
       "      <td>1208.33</td>\n",
       "    </tr>\n",
       "  </tbody>\n",
       "</table>\n",
       "</div>"
      ],
      "text/plain": [
       "     sold_price  longitude  latitude  bedrooms  bathrooms  sqrt_ft  garage  \\\n",
       "2    4200000.00    -111.04     31.59         2       3.00  3179.80    0.00   \n",
       "279  1450000.00    -110.65     31.43         1       1.00  1200.00    2.00   \n",
       "\n",
       "     price_per_sqft  \n",
       "2           1320.84  \n",
       "279         1208.33  "
      ]
     },
     "execution_count": 11,
     "metadata": {},
     "output_type": "execute_result"
    }
   ],
   "source": [
    "data[data.price_per_sqft > 1000]"
   ]
  },
  {
   "cell_type": "code",
   "execution_count": 12,
   "metadata": {},
   "outputs": [],
   "source": [
    "data.drop(data[data.price_per_sqft > 1000].index, inplace=True)"
   ]
  },
  {
   "cell_type": "code",
   "execution_count": 13,
   "metadata": {},
   "outputs": [
    {
     "data": {
      "text/html": [
       "<div>\n",
       "<style scoped>\n",
       "    .dataframe tbody tr th:only-of-type {\n",
       "        vertical-align: middle;\n",
       "    }\n",
       "\n",
       "    .dataframe tbody tr th {\n",
       "        vertical-align: top;\n",
       "    }\n",
       "\n",
       "    .dataframe thead th {\n",
       "        text-align: right;\n",
       "    }\n",
       "</style>\n",
       "<table border=\"1\" class=\"dataframe\">\n",
       "  <thead>\n",
       "    <tr style=\"text-align: right;\">\n",
       "      <th></th>\n",
       "      <th>sold_price</th>\n",
       "      <th>longitude</th>\n",
       "      <th>latitude</th>\n",
       "      <th>bedrooms</th>\n",
       "      <th>bathrooms</th>\n",
       "      <th>sqrt_ft</th>\n",
       "      <th>garage</th>\n",
       "      <th>price_per_sqft</th>\n",
       "    </tr>\n",
       "  </thead>\n",
       "  <tbody>\n",
       "    <tr>\n",
       "      <th>0</th>\n",
       "      <td>5300000.00</td>\n",
       "      <td>-110.38</td>\n",
       "      <td>31.36</td>\n",
       "      <td>13</td>\n",
       "      <td>10.00</td>\n",
       "      <td>10500.00</td>\n",
       "      <td>0.00</td>\n",
       "      <td>504.76</td>\n",
       "    </tr>\n",
       "    <tr>\n",
       "      <th>1</th>\n",
       "      <td>4200000.00</td>\n",
       "      <td>-111.05</td>\n",
       "      <td>31.59</td>\n",
       "      <td>2</td>\n",
       "      <td>2.00</td>\n",
       "      <td>7300.00</td>\n",
       "      <td>0.00</td>\n",
       "      <td>575.34</td>\n",
       "    </tr>\n",
       "    <tr>\n",
       "      <th>3</th>\n",
       "      <td>4500000.00</td>\n",
       "      <td>-111.04</td>\n",
       "      <td>31.65</td>\n",
       "      <td>7</td>\n",
       "      <td>5.00</td>\n",
       "      <td>9019.00</td>\n",
       "      <td>4.00</td>\n",
       "      <td>498.95</td>\n",
       "    </tr>\n",
       "    <tr>\n",
       "      <th>4</th>\n",
       "      <td>3411450.00</td>\n",
       "      <td>-110.81</td>\n",
       "      <td>32.29</td>\n",
       "      <td>4</td>\n",
       "      <td>6.00</td>\n",
       "      <td>6396.00</td>\n",
       "      <td>3.00</td>\n",
       "      <td>533.37</td>\n",
       "    </tr>\n",
       "    <tr>\n",
       "      <th>5</th>\n",
       "      <td>3250000.00</td>\n",
       "      <td>-110.91</td>\n",
       "      <td>32.34</td>\n",
       "      <td>3</td>\n",
       "      <td>4.00</td>\n",
       "      <td>6842.00</td>\n",
       "      <td>3.00</td>\n",
       "      <td>475.01</td>\n",
       "    </tr>\n",
       "    <tr>\n",
       "      <th>...</th>\n",
       "      <td>...</td>\n",
       "      <td>...</td>\n",
       "      <td>...</td>\n",
       "      <td>...</td>\n",
       "      <td>...</td>\n",
       "      <td>...</td>\n",
       "      <td>...</td>\n",
       "      <td>...</td>\n",
       "    </tr>\n",
       "    <tr>\n",
       "      <th>4985</th>\n",
       "      <td>495000.00</td>\n",
       "      <td>-110.66</td>\n",
       "      <td>31.91</td>\n",
       "      <td>5</td>\n",
       "      <td>3.00</td>\n",
       "      <td>3601.00</td>\n",
       "      <td>3.00</td>\n",
       "      <td>137.46</td>\n",
       "    </tr>\n",
       "    <tr>\n",
       "      <th>4986</th>\n",
       "      <td>550000.00</td>\n",
       "      <td>-110.86</td>\n",
       "      <td>32.32</td>\n",
       "      <td>4</td>\n",
       "      <td>3.00</td>\n",
       "      <td>2318.00</td>\n",
       "      <td>3.00</td>\n",
       "      <td>237.27</td>\n",
       "    </tr>\n",
       "    <tr>\n",
       "      <th>4987</th>\n",
       "      <td>475000.00</td>\n",
       "      <td>-110.76</td>\n",
       "      <td>32.96</td>\n",
       "      <td>3</td>\n",
       "      <td>2.00</td>\n",
       "      <td>1772.00</td>\n",
       "      <td>0.00</td>\n",
       "      <td>268.06</td>\n",
       "    </tr>\n",
       "    <tr>\n",
       "      <th>4988</th>\n",
       "      <td>550000.00</td>\n",
       "      <td>-111.06</td>\n",
       "      <td>32.30</td>\n",
       "      <td>4</td>\n",
       "      <td>4.00</td>\n",
       "      <td>3724.00</td>\n",
       "      <td>3.00</td>\n",
       "      <td>147.69</td>\n",
       "    </tr>\n",
       "    <tr>\n",
       "      <th>4989</th>\n",
       "      <td>450000.00</td>\n",
       "      <td>-110.91</td>\n",
       "      <td>31.39</td>\n",
       "      <td>4</td>\n",
       "      <td>4.00</td>\n",
       "      <td>4317.00</td>\n",
       "      <td>0.00</td>\n",
       "      <td>104.24</td>\n",
       "    </tr>\n",
       "  </tbody>\n",
       "</table>\n",
       "<p>4988 rows × 8 columns</p>\n",
       "</div>"
      ],
      "text/plain": [
       "      sold_price  longitude  latitude  bedrooms  bathrooms  sqrt_ft  garage  \\\n",
       "0     5300000.00    -110.38     31.36        13      10.00 10500.00    0.00   \n",
       "1     4200000.00    -111.05     31.59         2       2.00  7300.00    0.00   \n",
       "3     4500000.00    -111.04     31.65         7       5.00  9019.00    4.00   \n",
       "4     3411450.00    -110.81     32.29         4       6.00  6396.00    3.00   \n",
       "5     3250000.00    -110.91     32.34         3       4.00  6842.00    3.00   \n",
       "...          ...        ...       ...       ...        ...      ...     ...   \n",
       "4985   495000.00    -110.66     31.91         5       3.00  3601.00    3.00   \n",
       "4986   550000.00    -110.86     32.32         4       3.00  2318.00    3.00   \n",
       "4987   475000.00    -110.76     32.96         3       2.00  1772.00    0.00   \n",
       "4988   550000.00    -111.06     32.30         4       4.00  3724.00    3.00   \n",
       "4989   450000.00    -110.91     31.39         4       4.00  4317.00    0.00   \n",
       "\n",
       "      price_per_sqft  \n",
       "0             504.76  \n",
       "1             575.34  \n",
       "3             498.95  \n",
       "4             533.37  \n",
       "5             475.01  \n",
       "...              ...  \n",
       "4985          137.46  \n",
       "4986          237.27  \n",
       "4987          268.06  \n",
       "4988          147.69  \n",
       "4989          104.24  \n",
       "\n",
       "[4988 rows x 8 columns]"
      ]
     },
     "execution_count": 13,
     "metadata": {},
     "output_type": "execute_result"
    }
   ],
   "source": [
    "data"
   ]
  },
  {
   "attachments": {
    "image.png": {
     "image/png": "[encoded data removed]"
    }
   },
   "cell_type": "markdown",
   "metadata": {},
   "source": [
    "#### Scaling of Data [z-score]\n",
    "\n",
    "![image.png](attachment:image.png)"
   ]
  },
  {
   "cell_type": "code",
   "execution_count": 14,
   "metadata": {},
   "outputs": [
    {
     "data": {
      "image/png": "[encoded data removed]",
      "text/plain": [
       "<Figure size 640x480 with 1 Axes>"
      ]
     },
     "metadata": {},
     "output_type": "display_data"
    }
   ],
   "source": [
    "plt.figure()\n",
    "data.sold_price.plot()\n",
    "data.sqrt_ft.plot()\n",
    "plt.show()"
   ]
  },
  {
   "cell_type": "code",
   "execution_count": 15,
   "metadata": {},
   "outputs": [],
   "source": [
    "mean_price = data.sold_price.mean()\n",
    "mean_sqft = data.sqrt_ft.mean()"
   ]
  },
  {
   "cell_type": "code",
   "execution_count": 16,
   "metadata": {},
   "outputs": [
    {
     "data": {
      "text/plain": [
       "774194.19643745"
      ]
     },
     "execution_count": 16,
     "metadata": {},
     "output_type": "execute_result"
    }
   ],
   "source": [
    "mean_price"
   ]
  },
  {
   "cell_type": "code",
   "execution_count": 17,
   "metadata": {},
   "outputs": [
    {
     "data": {
      "text/plain": [
       "3708.6733861267035"
      ]
     },
     "execution_count": 17,
     "metadata": {},
     "output_type": "execute_result"
    }
   ],
   "source": [
    "mean_sqft"
   ]
  },
  {
   "cell_type": "code",
   "execution_count": 18,
   "metadata": {},
   "outputs": [],
   "source": [
    "std_price = data.sold_price.std()\n",
    "std_sqft = data.sqrt_ft.std()"
   ]
  },
  {
   "cell_type": "code",
   "execution_count": 19,
   "metadata": {},
   "outputs": [
    {
     "data": {
      "text/plain": [
       "314952.64148004656"
      ]
     },
     "execution_count": 19,
     "metadata": {},
     "output_type": "execute_result"
    }
   ],
   "source": [
    "std_price"
   ]
  },
  {
   "cell_type": "code",
   "execution_count": 20,
   "metadata": {},
   "outputs": [
    {
     "data": {
      "text/plain": [
       "1054.5803055387605"
      ]
     },
     "execution_count": 20,
     "metadata": {},
     "output_type": "execute_result"
    }
   ],
   "source": [
    "std_sqft"
   ]
  },
  {
   "cell_type": "code",
   "execution_count": 21,
   "metadata": {},
   "outputs": [],
   "source": [
    "data[\"sold_price_z\"] = (data.sold_price - mean_price)/std_price\n",
    "data[\"sqft_z\"] = (data.sqrt_ft - mean_sqft)/std_sqft"
   ]
  },
  {
   "cell_type": "code",
   "execution_count": 22,
   "metadata": {},
   "outputs": [
    {
     "data": {
      "text/html": [
       "<div>\n",
       "<style scoped>\n",
       "    .dataframe tbody tr th:only-of-type {\n",
       "        vertical-align: middle;\n",
       "    }\n",
       "\n",
       "    .dataframe tbody tr th {\n",
       "        vertical-align: top;\n",
       "    }\n",
       "\n",
       "    .dataframe thead th {\n",
       "        text-align: right;\n",
       "    }\n",
       "</style>\n",
       "<table border=\"1\" class=\"dataframe\">\n",
       "  <thead>\n",
       "    <tr style=\"text-align: right;\">\n",
       "      <th></th>\n",
       "      <th>sold_price</th>\n",
       "      <th>longitude</th>\n",
       "      <th>latitude</th>\n",
       "      <th>bedrooms</th>\n",
       "      <th>bathrooms</th>\n",
       "      <th>sqrt_ft</th>\n",
       "      <th>garage</th>\n",
       "      <th>price_per_sqft</th>\n",
       "      <th>sold_price_z</th>\n",
       "      <th>sqft_z</th>\n",
       "    </tr>\n",
       "  </thead>\n",
       "  <tbody>\n",
       "    <tr>\n",
       "      <th>0</th>\n",
       "      <td>5300000.00</td>\n",
       "      <td>-110.38</td>\n",
       "      <td>31.36</td>\n",
       "      <td>13</td>\n",
       "      <td>10.00</td>\n",
       "      <td>10500.00</td>\n",
       "      <td>0.00</td>\n",
       "      <td>504.76</td>\n",
       "      <td>14.37</td>\n",
       "      <td>6.44</td>\n",
       "    </tr>\n",
       "    <tr>\n",
       "      <th>1</th>\n",
       "      <td>4200000.00</td>\n",
       "      <td>-111.05</td>\n",
       "      <td>31.59</td>\n",
       "      <td>2</td>\n",
       "      <td>2.00</td>\n",
       "      <td>7300.00</td>\n",
       "      <td>0.00</td>\n",
       "      <td>575.34</td>\n",
       "      <td>10.88</td>\n",
       "      <td>3.41</td>\n",
       "    </tr>\n",
       "    <tr>\n",
       "      <th>3</th>\n",
       "      <td>4500000.00</td>\n",
       "      <td>-111.04</td>\n",
       "      <td>31.65</td>\n",
       "      <td>7</td>\n",
       "      <td>5.00</td>\n",
       "      <td>9019.00</td>\n",
       "      <td>4.00</td>\n",
       "      <td>498.95</td>\n",
       "      <td>11.83</td>\n",
       "      <td>5.04</td>\n",
       "    </tr>\n",
       "    <tr>\n",
       "      <th>4</th>\n",
       "      <td>3411450.00</td>\n",
       "      <td>-110.81</td>\n",
       "      <td>32.29</td>\n",
       "      <td>4</td>\n",
       "      <td>6.00</td>\n",
       "      <td>6396.00</td>\n",
       "      <td>3.00</td>\n",
       "      <td>533.37</td>\n",
       "      <td>8.37</td>\n",
       "      <td>2.55</td>\n",
       "    </tr>\n",
       "    <tr>\n",
       "      <th>5</th>\n",
       "      <td>3250000.00</td>\n",
       "      <td>-110.91</td>\n",
       "      <td>32.34</td>\n",
       "      <td>3</td>\n",
       "      <td>4.00</td>\n",
       "      <td>6842.00</td>\n",
       "      <td>3.00</td>\n",
       "      <td>475.01</td>\n",
       "      <td>7.86</td>\n",
       "      <td>2.97</td>\n",
       "    </tr>\n",
       "  </tbody>\n",
       "</table>\n",
       "</div>"
      ],
      "text/plain": [
       "   sold_price  longitude  latitude  bedrooms  bathrooms  sqrt_ft  garage  \\\n",
       "0  5300000.00    -110.38     31.36        13      10.00 10500.00    0.00   \n",
       "1  4200000.00    -111.05     31.59         2       2.00  7300.00    0.00   \n",
       "3  4500000.00    -111.04     31.65         7       5.00  9019.00    4.00   \n",
       "4  3411450.00    -110.81     32.29         4       6.00  6396.00    3.00   \n",
       "5  3250000.00    -110.91     32.34         3       4.00  6842.00    3.00   \n",
       "\n",
       "   price_per_sqft  sold_price_z  sqft_z  \n",
       "0          504.76         14.37    6.44  \n",
       "1          575.34         10.88    3.41  \n",
       "3          498.95         11.83    5.04  \n",
       "4          533.37          8.37    2.55  \n",
       "5          475.01          7.86    2.97  "
      ]
     },
     "execution_count": 22,
     "metadata": {},
     "output_type": "execute_result"
    }
   ],
   "source": [
    "data.head()"
   ]
  },
  {
   "cell_type": "code",
   "execution_count": 23,
   "metadata": {},
   "outputs": [
    {
     "data": {
      "text/html": [
       "<div>\n",
       "<style scoped>\n",
       "    .dataframe tbody tr th:only-of-type {\n",
       "        vertical-align: middle;\n",
       "    }\n",
       "\n",
       "    .dataframe tbody tr th {\n",
       "        vertical-align: top;\n",
       "    }\n",
       "\n",
       "    .dataframe thead th {\n",
       "        text-align: right;\n",
       "    }\n",
       "</style>\n",
       "<table border=\"1\" class=\"dataframe\">\n",
       "  <thead>\n",
       "    <tr style=\"text-align: right;\">\n",
       "      <th></th>\n",
       "      <th>sold_price</th>\n",
       "      <th>longitude</th>\n",
       "      <th>latitude</th>\n",
       "      <th>bedrooms</th>\n",
       "      <th>bathrooms</th>\n",
       "      <th>sqrt_ft</th>\n",
       "      <th>garage</th>\n",
       "      <th>price_per_sqft</th>\n",
       "      <th>sold_price_z</th>\n",
       "      <th>sqft_z</th>\n",
       "    </tr>\n",
       "  </thead>\n",
       "  <tbody>\n",
       "    <tr>\n",
       "      <th>4985</th>\n",
       "      <td>495000.00</td>\n",
       "      <td>-110.66</td>\n",
       "      <td>31.91</td>\n",
       "      <td>5</td>\n",
       "      <td>3.00</td>\n",
       "      <td>3601.00</td>\n",
       "      <td>3.00</td>\n",
       "      <td>137.46</td>\n",
       "      <td>-0.89</td>\n",
       "      <td>-0.10</td>\n",
       "    </tr>\n",
       "    <tr>\n",
       "      <th>4986</th>\n",
       "      <td>550000.00</td>\n",
       "      <td>-110.86</td>\n",
       "      <td>32.32</td>\n",
       "      <td>4</td>\n",
       "      <td>3.00</td>\n",
       "      <td>2318.00</td>\n",
       "      <td>3.00</td>\n",
       "      <td>237.27</td>\n",
       "      <td>-0.71</td>\n",
       "      <td>-1.32</td>\n",
       "    </tr>\n",
       "    <tr>\n",
       "      <th>4987</th>\n",
       "      <td>475000.00</td>\n",
       "      <td>-110.76</td>\n",
       "      <td>32.96</td>\n",
       "      <td>3</td>\n",
       "      <td>2.00</td>\n",
       "      <td>1772.00</td>\n",
       "      <td>0.00</td>\n",
       "      <td>268.06</td>\n",
       "      <td>-0.95</td>\n",
       "      <td>-1.84</td>\n",
       "    </tr>\n",
       "    <tr>\n",
       "      <th>4988</th>\n",
       "      <td>550000.00</td>\n",
       "      <td>-111.06</td>\n",
       "      <td>32.30</td>\n",
       "      <td>4</td>\n",
       "      <td>4.00</td>\n",
       "      <td>3724.00</td>\n",
       "      <td>3.00</td>\n",
       "      <td>147.69</td>\n",
       "      <td>-0.71</td>\n",
       "      <td>0.01</td>\n",
       "    </tr>\n",
       "    <tr>\n",
       "      <th>4989</th>\n",
       "      <td>450000.00</td>\n",
       "      <td>-110.91</td>\n",
       "      <td>31.39</td>\n",
       "      <td>4</td>\n",
       "      <td>4.00</td>\n",
       "      <td>4317.00</td>\n",
       "      <td>0.00</td>\n",
       "      <td>104.24</td>\n",
       "      <td>-1.03</td>\n",
       "      <td>0.58</td>\n",
       "    </tr>\n",
       "  </tbody>\n",
       "</table>\n",
       "</div>"
      ],
      "text/plain": [
       "      sold_price  longitude  latitude  bedrooms  bathrooms  sqrt_ft  garage  \\\n",
       "4985   495000.00    -110.66     31.91         5       3.00  3601.00    3.00   \n",
       "4986   550000.00    -110.86     32.32         4       3.00  2318.00    3.00   \n",
       "4987   475000.00    -110.76     32.96         3       2.00  1772.00    0.00   \n",
       "4988   550000.00    -111.06     32.30         4       4.00  3724.00    3.00   \n",
       "4989   450000.00    -110.91     31.39         4       4.00  4317.00    0.00   \n",
       "\n",
       "      price_per_sqft  sold_price_z  sqft_z  \n",
       "4985          137.46         -0.89   -0.10  \n",
       "4986          237.27         -0.71   -1.32  \n",
       "4987          268.06         -0.95   -1.84  \n",
       "4988          147.69         -0.71    0.01  \n",
       "4989          104.24         -1.03    0.58  "
      ]
     },
     "execution_count": 23,
     "metadata": {},
     "output_type": "execute_result"
    }
   ],
   "source": [
    "data.tail()"
   ]
  },
  {
   "cell_type": "code",
   "execution_count": 24,
   "metadata": {},
   "outputs": [
    {
     "data": {
      "text/html": [
       "<div>\n",
       "<style scoped>\n",
       "    .dataframe tbody tr th:only-of-type {\n",
       "        vertical-align: middle;\n",
       "    }\n",
       "\n",
       "    .dataframe tbody tr th {\n",
       "        vertical-align: top;\n",
       "    }\n",
       "\n",
       "    .dataframe thead th {\n",
       "        text-align: right;\n",
       "    }\n",
       "</style>\n",
       "<table border=\"1\" class=\"dataframe\">\n",
       "  <thead>\n",
       "    <tr style=\"text-align: right;\">\n",
       "      <th></th>\n",
       "      <th>sold_price</th>\n",
       "      <th>longitude</th>\n",
       "      <th>latitude</th>\n",
       "      <th>bedrooms</th>\n",
       "      <th>bathrooms</th>\n",
       "      <th>sqrt_ft</th>\n",
       "      <th>garage</th>\n",
       "      <th>price_per_sqft</th>\n",
       "      <th>sold_price_z</th>\n",
       "      <th>sqft_z</th>\n",
       "    </tr>\n",
       "  </thead>\n",
       "  <tbody>\n",
       "    <tr>\n",
       "      <th>count</th>\n",
       "      <td>4988.00</td>\n",
       "      <td>4988.00</td>\n",
       "      <td>4988.00</td>\n",
       "      <td>4988.00</td>\n",
       "      <td>4988.00</td>\n",
       "      <td>4988.00</td>\n",
       "      <td>4988.00</td>\n",
       "      <td>4988.00</td>\n",
       "      <td>4988.00</td>\n",
       "      <td>4988.00</td>\n",
       "    </tr>\n",
       "    <tr>\n",
       "      <th>mean</th>\n",
       "      <td>774194.20</td>\n",
       "      <td>-110.91</td>\n",
       "      <td>32.31</td>\n",
       "      <td>3.92</td>\n",
       "      <td>3.81</td>\n",
       "      <td>3708.67</td>\n",
       "      <td>2.81</td>\n",
       "      <td>212.03</td>\n",
       "      <td>-0.00</td>\n",
       "      <td>0.00</td>\n",
       "    </tr>\n",
       "    <tr>\n",
       "      <th>std</th>\n",
       "      <td>314952.64</td>\n",
       "      <td>0.12</td>\n",
       "      <td>0.18</td>\n",
       "      <td>0.96</td>\n",
       "      <td>1.06</td>\n",
       "      <td>1054.58</td>\n",
       "      <td>1.20</td>\n",
       "      <td>64.96</td>\n",
       "      <td>1.00</td>\n",
       "      <td>1.00</td>\n",
       "    </tr>\n",
       "    <tr>\n",
       "      <th>min</th>\n",
       "      <td>169000.00</td>\n",
       "      <td>-112.52</td>\n",
       "      <td>31.36</td>\n",
       "      <td>1.00</td>\n",
       "      <td>1.00</td>\n",
       "      <td>1100.00</td>\n",
       "      <td>0.00</td>\n",
       "      <td>56.65</td>\n",
       "      <td>-1.92</td>\n",
       "      <td>-2.47</td>\n",
       "    </tr>\n",
       "    <tr>\n",
       "      <th>25%</th>\n",
       "      <td>585000.00</td>\n",
       "      <td>-110.98</td>\n",
       "      <td>32.28</td>\n",
       "      <td>3.00</td>\n",
       "      <td>3.00</td>\n",
       "      <td>3050.75</td>\n",
       "      <td>2.00</td>\n",
       "      <td>175.39</td>\n",
       "      <td>-0.60</td>\n",
       "      <td>-0.62</td>\n",
       "    </tr>\n",
       "    <tr>\n",
       "      <th>50%</th>\n",
       "      <td>675000.00</td>\n",
       "      <td>-110.92</td>\n",
       "      <td>32.32</td>\n",
       "      <td>4.00</td>\n",
       "      <td>4.00</td>\n",
       "      <td>3512.00</td>\n",
       "      <td>3.00</td>\n",
       "      <td>202.10</td>\n",
       "      <td>-0.31</td>\n",
       "      <td>-0.19</td>\n",
       "    </tr>\n",
       "    <tr>\n",
       "      <th>75%</th>\n",
       "      <td>835250.00</td>\n",
       "      <td>-110.86</td>\n",
       "      <td>32.39</td>\n",
       "      <td>4.00</td>\n",
       "      <td>4.00</td>\n",
       "      <td>4125.00</td>\n",
       "      <td>3.00</td>\n",
       "      <td>233.64</td>\n",
       "      <td>0.19</td>\n",
       "      <td>0.39</td>\n",
       "    </tr>\n",
       "    <tr>\n",
       "      <th>max</th>\n",
       "      <td>5300000.00</td>\n",
       "      <td>-109.45</td>\n",
       "      <td>34.93</td>\n",
       "      <td>19.00</td>\n",
       "      <td>18.00</td>\n",
       "      <td>13000.00</td>\n",
       "      <td>30.00</td>\n",
       "      <td>969.31</td>\n",
       "      <td>14.37</td>\n",
       "      <td>8.81</td>\n",
       "    </tr>\n",
       "  </tbody>\n",
       "</table>\n",
       "</div>"
      ],
      "text/plain": [
       "       sold_price  longitude  latitude  bedrooms  bathrooms  sqrt_ft  garage  \\\n",
       "count     4988.00    4988.00   4988.00   4988.00    4988.00  4988.00 4988.00   \n",
       "mean    774194.20    -110.91     32.31      3.92       3.81  3708.67    2.81   \n",
       "std     314952.64       0.12      0.18      0.96       1.06  1054.58    1.20   \n",
       "min     169000.00    -112.52     31.36      1.00       1.00  1100.00    0.00   \n",
       "25%     585000.00    -110.98     32.28      3.00       3.00  3050.75    2.00   \n",
       "50%     675000.00    -110.92     32.32      4.00       4.00  3512.00    3.00   \n",
       "75%     835250.00    -110.86     32.39      4.00       4.00  4125.00    3.00   \n",
       "max    5300000.00    -109.45     34.93     19.00      18.00 13000.00   30.00   \n",
       "\n",
       "       price_per_sqft  sold_price_z  sqft_z  \n",
       "count         4988.00       4988.00 4988.00  \n",
       "mean           212.03         -0.00    0.00  \n",
       "std             64.96          1.00    1.00  \n",
       "min             56.65         -1.92   -2.47  \n",
       "25%            175.39         -0.60   -0.62  \n",
       "50%            202.10         -0.31   -0.19  \n",
       "75%            233.64          0.19    0.39  \n",
       "max            969.31         14.37    8.81  "
      ]
     },
     "execution_count": 24,
     "metadata": {},
     "output_type": "execute_result"
    }
   ],
   "source": [
    "data.describe()"
   ]
  },
  {
   "cell_type": "code",
   "execution_count": 25,
   "metadata": {},
   "outputs": [
    {
     "data": {
      "image/png": "[encoded data removed]",
      "text/plain": [
       "<Figure size 640x480 with 1 Axes>"
      ]
     },
     "metadata": {},
     "output_type": "display_data"
    }
   ],
   "source": [
    "plt.figure()\n",
    "data.sold_price_z.plot()\n",
    "data.sqft_z.plot(alpha=0.5)\n",
    "plt.show()"
   ]
  },
  {
   "cell_type": "markdown",
   "metadata": {},
   "source": [
    "#### Feature engineering [Categorize price per sqft]"
   ]
  },
  {
   "cell_type": "code",
   "execution_count": 26,
   "metadata": {},
   "outputs": [],
   "source": [
    "data['cat_by_price_per_sqft'] = data.price_per_sqft//100"
   ]
  },
  {
   "cell_type": "code",
   "execution_count": 27,
   "metadata": {},
   "outputs": [
    {
     "data": {
      "text/plain": [
       "count   4988.00\n",
       "mean     212.03\n",
       "std       64.96\n",
       "min       56.65\n",
       "25%      175.39\n",
       "50%      202.10\n",
       "75%      233.64\n",
       "max      969.31\n",
       "Name: price_per_sqft, dtype: float64"
      ]
     },
     "execution_count": 27,
     "metadata": {},
     "output_type": "execute_result"
    }
   ],
   "source": [
    "data.price_per_sqft.describe()"
   ]
  },
  {
   "cell_type": "code",
   "execution_count": 28,
   "metadata": {},
   "outputs": [
    {
     "data": {
      "text/html": [
       "<div>\n",
       "<style scoped>\n",
       "    .dataframe tbody tr th:only-of-type {\n",
       "        vertical-align: middle;\n",
       "    }\n",
       "\n",
       "    .dataframe tbody tr th {\n",
       "        vertical-align: top;\n",
       "    }\n",
       "\n",
       "    .dataframe thead th {\n",
       "        text-align: right;\n",
       "    }\n",
       "</style>\n",
       "<table border=\"1\" class=\"dataframe\">\n",
       "  <thead>\n",
       "    <tr style=\"text-align: right;\">\n",
       "      <th></th>\n",
       "      <th>sold_price_z</th>\n",
       "      <th>sqft_z</th>\n",
       "      <th>price_per_sqft</th>\n",
       "      <th>cat_by_price_per_sqft</th>\n",
       "    </tr>\n",
       "  </thead>\n",
       "  <tbody>\n",
       "    <tr>\n",
       "      <th>sold_price_z</th>\n",
       "      <td>1.00</td>\n",
       "      <td>0.57</td>\n",
       "      <td>0.65</td>\n",
       "      <td>0.59</td>\n",
       "    </tr>\n",
       "    <tr>\n",
       "      <th>sqft_z</th>\n",
       "      <td>0.57</td>\n",
       "      <td>1.00</td>\n",
       "      <td>-0.18</td>\n",
       "      <td>-0.16</td>\n",
       "    </tr>\n",
       "    <tr>\n",
       "      <th>price_per_sqft</th>\n",
       "      <td>0.65</td>\n",
       "      <td>-0.18</td>\n",
       "      <td>1.00</td>\n",
       "      <td>0.91</td>\n",
       "    </tr>\n",
       "    <tr>\n",
       "      <th>cat_by_price_per_sqft</th>\n",
       "      <td>0.59</td>\n",
       "      <td>-0.16</td>\n",
       "      <td>0.91</td>\n",
       "      <td>1.00</td>\n",
       "    </tr>\n",
       "  </tbody>\n",
       "</table>\n",
       "</div>"
      ],
      "text/plain": [
       "                       sold_price_z  sqft_z  price_per_sqft  \\\n",
       "sold_price_z                   1.00    0.57            0.65   \n",
       "sqft_z                         0.57    1.00           -0.18   \n",
       "price_per_sqft                 0.65   -0.18            1.00   \n",
       "cat_by_price_per_sqft          0.59   -0.16            0.91   \n",
       "\n",
       "                       cat_by_price_per_sqft  \n",
       "sold_price_z                            0.59  \n",
       "sqft_z                                 -0.16  \n",
       "price_per_sqft                          0.91  \n",
       "cat_by_price_per_sqft                   1.00  "
      ]
     },
     "execution_count": 28,
     "metadata": {},
     "output_type": "execute_result"
    }
   ],
   "source": [
    "data[[\"sold_price_z\", \"sqft_z\",\"price_per_sqft\",\"cat_by_price_per_sqft\"]].corr()"
   ]
  },
  {
   "cell_type": "code",
   "execution_count": 29,
   "metadata": {},
   "outputs": [
    {
     "data": {
      "text/plain": [
       "<function matplotlib.pyplot.show(close=None, block=None)>"
      ]
     },
     "execution_count": 29,
     "metadata": {},
     "output_type": "execute_result"
    },
    {
     "data": {
      "image/png": "[encoded data removed]",
      "text/plain": [
       "<Figure size 1000x600 with 2 Axes>"
      ]
     },
     "metadata": {},
     "output_type": "display_data"
    }
   ],
   "source": [
    "plt.figure(figsize=(10,6))\n",
    "sns.set(font_scale=.8)\n",
    "sns.heatmap(data[[\"sold_price_z\", \"sqft_z\",\"price_per_sqft\",\"cat_by_price_per_sqft\"]].corr(), annot=True, cmap=\"Reds\")\n",
    "plt.show"
   ]
  },
  {
   "cell_type": "code",
   "execution_count": 30,
   "metadata": {},
   "outputs": [
    {
     "data": {
      "image/png": "[encoded data removed]",
      "text/plain": [
       "<Figure size 640x480 with 1 Axes>"
      ]
     },
     "metadata": {},
     "output_type": "display_data"
    },
    {
     "data": {
      "image/png": "[encoded data removed]",
      "text/plain": [
       "<Figure size 640x480 with 1 Axes>"
      ]
     },
     "metadata": {},
     "output_type": "display_data"
    }
   ],
   "source": [
    "plt.figure(1)\n",
    "sns.stripplot(data= data, x=\"cat_by_price_per_sqft\", y=\"sold_price\", jitter=True, dodge=True)\n",
    "plt.figure(2)\n",
    "sns.countplot(data= data, x=\"cat_by_price_per_sqft\")\n",
    "plt.show()"
   ]
  },
  {
   "cell_type": "code",
   "execution_count": 31,
   "metadata": {},
   "outputs": [
    {
     "data": {
      "text/plain": [
       "cat_by_price_per_sqft\n",
       "2.00   0.47\n",
       "1.00   0.47\n",
       "3.00   0.04\n",
       "4.00   0.01\n",
       "5.00   0.01\n",
       "0.00   0.01\n",
       "8.00   0.00\n",
       "7.00   0.00\n",
       "6.00   0.00\n",
       "9.00   0.00\n",
       "Name: proportion, dtype: float64"
      ]
     },
     "execution_count": 31,
     "metadata": {},
     "output_type": "execute_result"
    }
   ],
   "source": [
    "data.cat_by_price_per_sqft.value_counts(normalize=True)"
   ]
  },
  {
   "cell_type": "code",
   "execution_count": 32,
   "metadata": {},
   "outputs": [
    {
     "data": {
      "image/png": "[encoded data removed]",
      "text/plain": [
       "<Figure size 640x480 with 1 Axes>"
      ]
     },
     "metadata": {},
     "output_type": "display_data"
    }
   ],
   "source": [
    "plt.figure()\n",
    "plt.scatter(y=data.latitude, x=data.longitude, c=data.cat_by_price_per_sqft, alpha=0.5, s=15, marker =4)\n",
    "plt.show()"
   ]
  },
  {
   "cell_type": "code",
   "execution_count": 33,
   "metadata": {},
   "outputs": [
    {
     "data": {
      "image/png": "[encoded data removed]",
      "text/plain": [
       "<Figure size 1000x1000 with 3 Axes>"
      ]
     },
     "metadata": {},
     "output_type": "display_data"
    }
   ],
   "source": [
    "\n",
    "sns.jointplot(data=data, x=\"cat_by_price_per_sqft\", y= \"sold_price_z\", kind=\"reg\", height=10)\n",
    "plt.show()"
   ]
  },
  {
   "cell_type": "code",
   "execution_count": 34,
   "metadata": {},
   "outputs": [
    {
     "data": {
      "text/html": [
       "<div>\n",
       "<style scoped>\n",
       "    .dataframe tbody tr th:only-of-type {\n",
       "        vertical-align: middle;\n",
       "    }\n",
       "\n",
       "    .dataframe tbody tr th {\n",
       "        vertical-align: top;\n",
       "    }\n",
       "\n",
       "    .dataframe thead th {\n",
       "        text-align: right;\n",
       "    }\n",
       "</style>\n",
       "<table border=\"1\" class=\"dataframe\">\n",
       "  <thead>\n",
       "    <tr style=\"text-align: right;\">\n",
       "      <th></th>\n",
       "      <th>sold_price_z</th>\n",
       "      <th>sqft_z</th>\n",
       "      <th>price_per_sqft</th>\n",
       "      <th>cat_by_price_per_sqft</th>\n",
       "    </tr>\n",
       "  </thead>\n",
       "  <tbody>\n",
       "    <tr>\n",
       "      <th>sold_price_z</th>\n",
       "      <td>1.00</td>\n",
       "      <td>0.57</td>\n",
       "      <td>0.65</td>\n",
       "      <td>0.59</td>\n",
       "    </tr>\n",
       "    <tr>\n",
       "      <th>sqft_z</th>\n",
       "      <td>0.57</td>\n",
       "      <td>1.00</td>\n",
       "      <td>-0.18</td>\n",
       "      <td>-0.16</td>\n",
       "    </tr>\n",
       "    <tr>\n",
       "      <th>price_per_sqft</th>\n",
       "      <td>0.65</td>\n",
       "      <td>-0.18</td>\n",
       "      <td>1.00</td>\n",
       "      <td>0.91</td>\n",
       "    </tr>\n",
       "    <tr>\n",
       "      <th>cat_by_price_per_sqft</th>\n",
       "      <td>0.59</td>\n",
       "      <td>-0.16</td>\n",
       "      <td>0.91</td>\n",
       "      <td>1.00</td>\n",
       "    </tr>\n",
       "  </tbody>\n",
       "</table>\n",
       "</div>"
      ],
      "text/plain": [
       "                       sold_price_z  sqft_z  price_per_sqft  \\\n",
       "sold_price_z                   1.00    0.57            0.65   \n",
       "sqft_z                         0.57    1.00           -0.18   \n",
       "price_per_sqft                 0.65   -0.18            1.00   \n",
       "cat_by_price_per_sqft          0.59   -0.16            0.91   \n",
       "\n",
       "                       cat_by_price_per_sqft  \n",
       "sold_price_z                            0.59  \n",
       "sqft_z                                 -0.16  \n",
       "price_per_sqft                          0.91  \n",
       "cat_by_price_per_sqft                   1.00  "
      ]
     },
     "execution_count": 34,
     "metadata": {},
     "output_type": "execute_result"
    }
   ],
   "source": [
    "data[[\"sold_price_z\", \"sqft_z\",\"price_per_sqft\",\"cat_by_price_per_sqft\"]].corr()"
   ]
  },
  {
   "cell_type": "code",
   "execution_count": 35,
   "metadata": {},
   "outputs": [
    {
     "name": "stderr",
     "output_type": "stream",
     "text": [
      "C:\\Users\\Admin\\AppData\\Local\\Temp\\ipykernel_30188\\2059617273.py:2: UserWarning: Ignoring `ax`; jointplot is a figure-level function.\n",
      "  sns.jointplot(data[data.cat_by_price_per_sqft==1], x=\"sqft_z\", y= \"sold_price_z\", kind=\"reg\", ax=axes[0])\n",
      "C:\\Users\\Admin\\AppData\\Local\\Temp\\ipykernel_30188\\2059617273.py:4: UserWarning: Ignoring `ax`; jointplot is a figure-level function.\n",
      "  sns.jointplot(data[data.cat_by_price_per_sqft==1], x=\"sqrt_ft\", y= \"sold_price\", kind=\"reg\", ax=axes[1])\n"
     ]
    },
    {
     "data": {
      "image/png": "[encoded data removed]",
      "text/plain": [
       "<Figure size 1200x800 with 2 Axes>"
      ]
     },
     "metadata": {},
     "output_type": "display_data"
    },
    {
     "data": {
      "image/png": "[encoded data removed]",
      "text/plain": [
       "<Figure size 600x600 with 3 Axes>"
      ]
     },
     "metadata": {},
     "output_type": "display_data"
    },
    {
     "data": {
      "image/png": "[encoded data removed]",
      "text/plain": [
       "<Figure size 600x600 with 3 Axes>"
      ]
     },
     "metadata": {},
     "output_type": "display_data"
    }
   ],
   "source": [
    "fig, axes = plt.subplots(nrows=1, ncols=2, figsize=(12, 8))\n",
    "sns.jointplot(data[data.cat_by_price_per_sqft==1], x=\"sqft_z\", y= \"sold_price_z\", kind=\"reg\", ax=axes[0])\n",
    "\n",
    "sns.jointplot(data[data.cat_by_price_per_sqft==1], x=\"sqrt_ft\", y= \"sold_price\", kind=\"reg\", ax=axes[1])\n",
    "\n",
    "\n",
    "# Show the plot\n",
    "plt.show()"
   ]
  },
  {
   "cell_type": "markdown",
   "metadata": {},
   "source": [
    "#### Split data into Training set and Test set"
   ]
  },
  {
   "cell_type": "code",
   "execution_count": 36,
   "metadata": {},
   "outputs": [],
   "source": [
    "from sklearn.model_selection import train_test_split"
   ]
  },
  {
   "cell_type": "code",
   "execution_count": 37,
   "metadata": {},
   "outputs": [],
   "source": [
    "test_size = 0.2"
   ]
  },
  {
   "cell_type": "code",
   "execution_count": 38,
   "metadata": {},
   "outputs": [],
   "source": [
    "data.to_csv('mv_data.csv')"
   ]
  },
  {
   "cell_type": "code",
   "execution_count": 39,
   "metadata": {},
   "outputs": [],
   "source": [
    "X = data\n",
    "y = data['cat_by_price_per_sqft']"
   ]
  },
  {
   "cell_type": "code",
   "execution_count": 40,
   "metadata": {},
   "outputs": [],
   "source": [
    "X_train, X_test, y_train, y_test = train_test_split(X,y,test_size=test_size,stratify=y, random_state=42)"
   ]
  },
  {
   "cell_type": "code",
   "execution_count": 41,
   "metadata": {},
   "outputs": [],
   "source": [
    "X_train.to_csv('mv_train.csv')\n",
    "X_test.to_csv('mv_test.csv')\n"
   ]
  },
  {
   "cell_type": "code",
   "execution_count": 42,
   "metadata": {},
   "outputs": [
    {
     "data": {
      "text/html": [
       "<div>\n",
       "<style scoped>\n",
       "    .dataframe tbody tr th:only-of-type {\n",
       "        vertical-align: middle;\n",
       "    }\n",
       "\n",
       "    .dataframe tbody tr th {\n",
       "        vertical-align: top;\n",
       "    }\n",
       "\n",
       "    .dataframe thead th {\n",
       "        text-align: right;\n",
       "    }\n",
       "</style>\n",
       "<table border=\"1\" class=\"dataframe\">\n",
       "  <thead>\n",
       "    <tr style=\"text-align: right;\">\n",
       "      <th></th>\n",
       "      <th>sold_price</th>\n",
       "      <th>longitude</th>\n",
       "      <th>latitude</th>\n",
       "      <th>bedrooms</th>\n",
       "      <th>bathrooms</th>\n",
       "      <th>sqrt_ft</th>\n",
       "      <th>garage</th>\n",
       "      <th>price_per_sqft</th>\n",
       "      <th>sold_price_z</th>\n",
       "      <th>sqft_z</th>\n",
       "      <th>cat_by_price_per_sqft</th>\n",
       "    </tr>\n",
       "  </thead>\n",
       "  <tbody>\n",
       "    <tr>\n",
       "      <th>3606</th>\n",
       "      <td>600000.00</td>\n",
       "      <td>-110.94</td>\n",
       "      <td>32.32</td>\n",
       "      <td>4</td>\n",
       "      <td>3.00</td>\n",
       "      <td>3101.00</td>\n",
       "      <td>2.00</td>\n",
       "      <td>193.49</td>\n",
       "      <td>-0.55</td>\n",
       "      <td>-0.58</td>\n",
       "      <td>1.00</td>\n",
       "    </tr>\n",
       "    <tr>\n",
       "      <th>2157</th>\n",
       "      <td>725000.00</td>\n",
       "      <td>-110.79</td>\n",
       "      <td>32.28</td>\n",
       "      <td>4</td>\n",
       "      <td>4.00</td>\n",
       "      <td>3798.00</td>\n",
       "      <td>2.00</td>\n",
       "      <td>190.89</td>\n",
       "      <td>-0.16</td>\n",
       "      <td>0.08</td>\n",
       "      <td>1.00</td>\n",
       "    </tr>\n",
       "    <tr>\n",
       "      <th>1090</th>\n",
       "      <td>862500.00</td>\n",
       "      <td>-110.96</td>\n",
       "      <td>32.47</td>\n",
       "      <td>5</td>\n",
       "      <td>6.00</td>\n",
       "      <td>4709.00</td>\n",
       "      <td>4.00</td>\n",
       "      <td>183.16</td>\n",
       "      <td>0.28</td>\n",
       "      <td>0.95</td>\n",
       "      <td>1.00</td>\n",
       "    </tr>\n",
       "    <tr>\n",
       "      <th>886</th>\n",
       "      <td>900000.00</td>\n",
       "      <td>-110.86</td>\n",
       "      <td>32.55</td>\n",
       "      <td>4</td>\n",
       "      <td>4.00</td>\n",
       "      <td>3927.00</td>\n",
       "      <td>3.00</td>\n",
       "      <td>229.18</td>\n",
       "      <td>0.40</td>\n",
       "      <td>0.21</td>\n",
       "      <td>2.00</td>\n",
       "    </tr>\n",
       "    <tr>\n",
       "      <th>66</th>\n",
       "      <td>1995000.00</td>\n",
       "      <td>-110.91</td>\n",
       "      <td>32.34</td>\n",
       "      <td>4</td>\n",
       "      <td>6.00</td>\n",
       "      <td>6236.00</td>\n",
       "      <td>3.00</td>\n",
       "      <td>319.92</td>\n",
       "      <td>3.88</td>\n",
       "      <td>2.40</td>\n",
       "      <td>3.00</td>\n",
       "    </tr>\n",
       "    <tr>\n",
       "      <th>...</th>\n",
       "      <td>...</td>\n",
       "      <td>...</td>\n",
       "      <td>...</td>\n",
       "      <td>...</td>\n",
       "      <td>...</td>\n",
       "      <td>...</td>\n",
       "      <td>...</td>\n",
       "      <td>...</td>\n",
       "      <td>...</td>\n",
       "      <td>...</td>\n",
       "      <td>...</td>\n",
       "    </tr>\n",
       "    <tr>\n",
       "      <th>2610</th>\n",
       "      <td>690000.00</td>\n",
       "      <td>-110.96</td>\n",
       "      <td>32.31</td>\n",
       "      <td>3</td>\n",
       "      <td>3.00</td>\n",
       "      <td>3879.00</td>\n",
       "      <td>2.00</td>\n",
       "      <td>177.88</td>\n",
       "      <td>-0.27</td>\n",
       "      <td>0.16</td>\n",
       "      <td>1.00</td>\n",
       "    </tr>\n",
       "    <tr>\n",
       "      <th>1626</th>\n",
       "      <td>799000.00</td>\n",
       "      <td>-110.75</td>\n",
       "      <td>32.45</td>\n",
       "      <td>4</td>\n",
       "      <td>3.00</td>\n",
       "      <td>2220.00</td>\n",
       "      <td>0.00</td>\n",
       "      <td>359.91</td>\n",
       "      <td>0.08</td>\n",
       "      <td>-1.41</td>\n",
       "      <td>3.00</td>\n",
       "    </tr>\n",
       "    <tr>\n",
       "      <th>159</th>\n",
       "      <td>1525000.00</td>\n",
       "      <td>-111.05</td>\n",
       "      <td>32.48</td>\n",
       "      <td>5</td>\n",
       "      <td>5.00</td>\n",
       "      <td>4551.00</td>\n",
       "      <td>3.00</td>\n",
       "      <td>335.09</td>\n",
       "      <td>2.38</td>\n",
       "      <td>0.80</td>\n",
       "      <td>3.00</td>\n",
       "    </tr>\n",
       "    <tr>\n",
       "      <th>2752</th>\n",
       "      <td>644500.00</td>\n",
       "      <td>-110.73</td>\n",
       "      <td>32.26</td>\n",
       "      <td>4</td>\n",
       "      <td>3.00</td>\n",
       "      <td>3533.00</td>\n",
       "      <td>3.00</td>\n",
       "      <td>182.42</td>\n",
       "      <td>-0.41</td>\n",
       "      <td>-0.17</td>\n",
       "      <td>1.00</td>\n",
       "    </tr>\n",
       "    <tr>\n",
       "      <th>1732</th>\n",
       "      <td>780000.00</td>\n",
       "      <td>-110.93</td>\n",
       "      <td>32.23</td>\n",
       "      <td>5</td>\n",
       "      <td>4.00</td>\n",
       "      <td>4433.00</td>\n",
       "      <td>2.00</td>\n",
       "      <td>175.95</td>\n",
       "      <td>0.02</td>\n",
       "      <td>0.69</td>\n",
       "      <td>1.00</td>\n",
       "    </tr>\n",
       "  </tbody>\n",
       "</table>\n",
       "<p>3990 rows × 11 columns</p>\n",
       "</div>"
      ],
      "text/plain": [
       "      sold_price  longitude  latitude  bedrooms  bathrooms  sqrt_ft  garage  \\\n",
       "3606   600000.00    -110.94     32.32         4       3.00  3101.00    2.00   \n",
       "2157   725000.00    -110.79     32.28         4       4.00  3798.00    2.00   \n",
       "1090   862500.00    -110.96     32.47         5       6.00  4709.00    4.00   \n",
       "886    900000.00    -110.86     32.55         4       4.00  3927.00    3.00   \n",
       "66    1995000.00    -110.91     32.34         4       6.00  6236.00    3.00   \n",
       "...          ...        ...       ...       ...        ...      ...     ...   \n",
       "2610   690000.00    -110.96     32.31         3       3.00  3879.00    2.00   \n",
       "1626   799000.00    -110.75     32.45         4       3.00  2220.00    0.00   \n",
       "159   1525000.00    -111.05     32.48         5       5.00  4551.00    3.00   \n",
       "2752   644500.00    -110.73     32.26         4       3.00  3533.00    3.00   \n",
       "1732   780000.00    -110.93     32.23         5       4.00  4433.00    2.00   \n",
       "\n",
       "      price_per_sqft  sold_price_z  sqft_z  cat_by_price_per_sqft  \n",
       "3606          193.49         -0.55   -0.58                   1.00  \n",
       "2157          190.89         -0.16    0.08                   1.00  \n",
       "1090          183.16          0.28    0.95                   1.00  \n",
       "886           229.18          0.40    0.21                   2.00  \n",
       "66            319.92          3.88    2.40                   3.00  \n",
       "...              ...           ...     ...                    ...  \n",
       "2610          177.88         -0.27    0.16                   1.00  \n",
       "1626          359.91          0.08   -1.41                   3.00  \n",
       "159           335.09          2.38    0.80                   3.00  \n",
       "2752          182.42         -0.41   -0.17                   1.00  \n",
       "1732          175.95          0.02    0.69                   1.00  \n",
       "\n",
       "[3990 rows x 11 columns]"
      ]
     },
     "execution_count": 42,
     "metadata": {},
     "output_type": "execute_result"
    }
   ],
   "source": [
    "X_train"
   ]
  },
  {
   "cell_type": "markdown",
   "metadata": {},
   "source": [
    "##### Setting up training set"
   ]
  },
  {
   "cell_type": "code",
   "execution_count": 43,
   "metadata": {},
   "outputs": [
    {
     "data": {
      "text/plain": [
       "3606   1.00\n",
       "2157   1.00\n",
       "1090   1.00\n",
       "886    2.00\n",
       "66     3.00\n",
       "       ... \n",
       "2610   1.00\n",
       "1626   3.00\n",
       "159    3.00\n",
       "2752   1.00\n",
       "1732   1.00\n",
       "Name: cat_by_price_per_sqft, Length: 3990, dtype: float64"
      ]
     },
     "execution_count": 43,
     "metadata": {},
     "output_type": "execute_result"
    }
   ],
   "source": [
    "y_train"
   ]
  },
  {
   "cell_type": "code",
   "execution_count": 44,
   "metadata": {},
   "outputs": [
    {
     "data": {
      "text/plain": [
       "cat_by_price_per_sqft\n",
       "2.00   0.47\n",
       "1.00   0.47\n",
       "3.00   0.04\n",
       "4.00   0.01\n",
       "0.00   0.01\n",
       "5.00   0.01\n",
       "8.00   0.00\n",
       "6.00   0.00\n",
       "7.00   0.00\n",
       "9.00   0.00\n",
       "Name: proportion, dtype: float64"
      ]
     },
     "execution_count": 44,
     "metadata": {},
     "output_type": "execute_result"
    }
   ],
   "source": [
    "y_train.value_counts(normalize = True)"
   ]
  },
  {
   "cell_type": "code",
   "execution_count": 45,
   "metadata": {},
   "outputs": [],
   "source": [
    "y = y_train.to_numpy().astype(int)"
   ]
  },
  {
   "cell_type": "code",
   "execution_count": 46,
   "metadata": {},
   "outputs": [
    {
     "data": {
      "text/plain": [
       "{0, 1, 2, 3, 4, 5, 6, 7, 8, 9}"
      ]
     },
     "execution_count": 46,
     "metadata": {},
     "output_type": "execute_result"
    }
   ],
   "source": [
    "set(y)"
   ]
  },
  {
   "cell_type": "code",
   "execution_count": 47,
   "metadata": {},
   "outputs": [
    {
     "data": {
      "text/plain": [
       "(3990,)"
      ]
     },
     "execution_count": 47,
     "metadata": {},
     "output_type": "execute_result"
    }
   ],
   "source": [
    "y.shape"
   ]
  },
  {
   "cell_type": "code",
   "execution_count": 48,
   "metadata": {},
   "outputs": [
    {
     "data": {
      "text/plain": [
       "array([[ 6.00000000e+05, -1.10942222e+02,  3.23166930e+01, ...,\n",
       "        -5.53080602e-01, -5.76222961e-01,  1.00000000e+00],\n",
       "       [ 7.25000000e+05, -1.10791487e+02,  3.22816670e+01, ...,\n",
       "        -1.56195535e-01,  8.47034725e-02,  1.00000000e+00],\n",
       "       [ 8.62500000e+05, -1.10962516e+02,  3.24726300e+01, ...,\n",
       "         2.80378038e-01,  9.48554234e-01,  1.00000000e+00],\n",
       "       ...,\n",
       "       [ 1.52500000e+06, -1.11053614e+02,  3.24796070e+01, ...,\n",
       "         2.38386889e+00,  7.98731599e-01,  3.00000000e+00],\n",
       "       [ 6.44500000e+05, -1.10729025e+02,  3.22632740e+01, ...,\n",
       "        -4.11789518e-01, -1.66581326e-01,  1.00000000e+00],\n",
       "       [ 7.80000000e+05, -1.10925135e+02,  3.22254870e+01, ...,\n",
       "         1.84338939e-02,  6.86838745e-01,  1.00000000e+00]])"
      ]
     },
     "execution_count": 48,
     "metadata": {},
     "output_type": "execute_result"
    }
   ],
   "source": [
    "X = X_train.to_numpy()\n",
    "X"
   ]
  },
  {
   "cell_type": "code",
   "execution_count": 49,
   "metadata": {},
   "outputs": [
    {
     "data": {
      "text/plain": [
       "array([[-110.942222  ,   32.316693  ,  193.48597227],\n",
       "       [-110.791487  ,   32.281667  ,  190.88994207],\n",
       "       [-110.962516  ,   32.47263   ,  183.15990656],\n",
       "       ...,\n",
       "       [-111.053614  ,   32.479607  ,  335.09118875],\n",
       "       [-110.729025  ,   32.263274  ,  182.42287008],\n",
       "       [-110.925135  ,   32.225487  ,  175.95307918]])"
      ]
     },
     "execution_count": 49,
     "metadata": {},
     "output_type": "execute_result"
    }
   ],
   "source": [
    "X_log_lat = X[:,[1,2,7]]\n",
    "X_log_lat"
   ]
  },
  {
   "cell_type": "code",
   "execution_count": 50,
   "metadata": {},
   "outputs": [
    {
     "data": {
      "text/plain": [
       "(3990, 3)"
      ]
     },
     "execution_count": 50,
     "metadata": {},
     "output_type": "execute_result"
    }
   ],
   "source": [
    "X_log_lat.shape"
   ]
  },
  {
   "cell_type": "markdown",
   "metadata": {},
   "source": [
    "##### Setting up test set"
   ]
  },
  {
   "cell_type": "code",
   "execution_count": 51,
   "metadata": {},
   "outputs": [
    {
     "data": {
      "text/plain": [
       "1133   2.00\n",
       "2846   2.00\n",
       "466    2.00\n",
       "1037   2.00\n",
       "146    5.00\n",
       "       ... \n",
       "3748   1.00\n",
       "3449   1.00\n",
       "4106   2.00\n",
       "940    2.00\n",
       "1189   2.00\n",
       "Name: cat_by_price_per_sqft, Length: 998, dtype: float64"
      ]
     },
     "execution_count": 51,
     "metadata": {},
     "output_type": "execute_result"
    }
   ],
   "source": [
    "y_test"
   ]
  },
  {
   "cell_type": "code",
   "execution_count": 52,
   "metadata": {},
   "outputs": [
    {
     "data": {
      "text/plain": [
       "cat_by_price_per_sqft\n",
       "2.00   0.47\n",
       "1.00   0.47\n",
       "3.00   0.04\n",
       "4.00   0.01\n",
       "5.00   0.01\n",
       "0.00   0.01\n",
       "6.00   0.00\n",
       "8.00   0.00\n",
       "7.00   0.00\n",
       "Name: proportion, dtype: float64"
      ]
     },
     "execution_count": 52,
     "metadata": {},
     "output_type": "execute_result"
    }
   ],
   "source": [
    "y_test.value_counts(normalize = True)"
   ]
  },
  {
   "cell_type": "code",
   "execution_count": 53,
   "metadata": {},
   "outputs": [],
   "source": [
    "yt=y_test.to_numpy().astype(int)"
   ]
  },
  {
   "cell_type": "code",
   "execution_count": 54,
   "metadata": {},
   "outputs": [
    {
     "data": {
      "text/plain": [
       "{0, 1, 2, 3, 4, 5, 6, 7, 8}"
      ]
     },
     "execution_count": 54,
     "metadata": {},
     "output_type": "execute_result"
    }
   ],
   "source": [
    "set(yt)"
   ]
  },
  {
   "cell_type": "code",
   "execution_count": 55,
   "metadata": {},
   "outputs": [
    {
     "data": {
      "text/plain": [
       "(998,)"
      ]
     },
     "execution_count": 55,
     "metadata": {},
     "output_type": "execute_result"
    }
   ],
   "source": [
    "yt.shape"
   ]
  },
  {
   "cell_type": "code",
   "execution_count": 56,
   "metadata": {},
   "outputs": [
    {
     "data": {
      "text/plain": [
       "array([[ 8.85000000e+05, -1.10914692e+02,  3.22891810e+01, ...,\n",
       "         3.51817350e-01,  5.91008703e-02,  2.00000000e+00],\n",
       "       [ 6.60000000e+05, -1.10849338e+02,  3.22805410e+01, ...,\n",
       "        -3.62575770e-01, -1.14801441e+00,  2.00000000e+00],\n",
       "       [ 1.24900000e+06, -1.10912026e+02,  3.22908500e+01, ...,\n",
       "         1.50754666e+00,  1.66258236e+00,  2.00000000e+00],\n",
       "       ...,\n",
       "       [ 5.55000000e+05, -1.10852115e+02,  3.23207740e+01, ...,\n",
       "        -6.95959226e-01, -1.40119570e+00,  2.00000000e+00],\n",
       "       [ 8.95000000e+05, -1.10907494e+02,  3.22857550e+01, ...,\n",
       "         3.83568155e-01,  4.87707395e-01,  2.00000000e+00],\n",
       "       [ 8.75000000e+05, -1.10821343e+02,  3.22827730e+01, ...,\n",
       "         3.20066544e-01,  8.94446951e-02,  2.00000000e+00]])"
      ]
     },
     "execution_count": 56,
     "metadata": {},
     "output_type": "execute_result"
    }
   ],
   "source": [
    "Xt = X_test.to_numpy()\n",
    "Xt"
   ]
  },
  {
   "cell_type": "code",
   "execution_count": 57,
   "metadata": {},
   "outputs": [
    {
     "data": {
      "text/plain": [
       "array([[-110.914692  ,   32.289181  ,  234.68575975],\n",
       "       [-110.849338  ,   32.280541  ,  264.2113691 ],\n",
       "       [-110.912026  ,   32.29085   ,  228.67081655],\n",
       "       ...,\n",
       "       [-110.852115  ,   32.320774  ,  248.76736889],\n",
       "       [-110.907494  ,   32.285755  ,  211.93464362],\n",
       "       [-110.821343  ,   32.282773  ,  230.08151459]])"
      ]
     },
     "execution_count": 57,
     "metadata": {},
     "output_type": "execute_result"
    }
   ],
   "source": [
    "Xt_log_lat = Xt[:,[1,2,7]]\n",
    "Xt_log_lat"
   ]
  },
  {
   "cell_type": "code",
   "execution_count": 58,
   "metadata": {},
   "outputs": [
    {
     "data": {
      "text/plain": [
       "(998, 3)"
      ]
     },
     "execution_count": 58,
     "metadata": {},
     "output_type": "execute_result"
    }
   ],
   "source": [
    "Xt_log_lat.shape"
   ]
  },
  {
   "cell_type": "markdown",
   "metadata": {},
   "source": [
    "#### KNN Classifier"
   ]
  },
  {
   "cell_type": "code",
   "execution_count": 59,
   "metadata": {},
   "outputs": [],
   "source": [
    "class KNNClassifier():\n",
    "  def fit(self, X,y):\n",
    "    self.X = X\n",
    "    self.y = y\n",
    "\n",
    "  def predict(self, X, K, epsilon=1e-3):\n",
    "    N = len(X)\n",
    "    y_hat = np.zeros(N)\n",
    "\n",
    "    for i in range(N):\n",
    "      dist2 = np.sum((self.X-X[i])**2, axis=1)\n",
    "      idxt = np.argsort(dist2)[:K] #This function returns the sorted index and not the items itself. and it returns only the k items\n",
    "\n",
    "      gamma_k = 1/(np.sqrt(dist2[idxt]+epsilon))\n",
    "\n",
    "      y_hat[i] = np.bincount(self.y[idxt], weights=gamma_k).argmax()\n",
    "\n",
    "    return y_hat"
   ]
  },
  {
   "cell_type": "code",
   "execution_count": 60,
   "metadata": {},
   "outputs": [],
   "source": [
    "knn_location = KNNClassifier()\n",
    "knn_location.fit(X_log_lat,y)"
   ]
  },
  {
   "cell_type": "code",
   "execution_count": 61,
   "metadata": {},
   "outputs": [],
   "source": [
    "y_hat = knn_location.predict(X_log_lat,10)"
   ]
  },
  {
   "cell_type": "code",
   "execution_count": 62,
   "metadata": {},
   "outputs": [],
   "source": [
    "def accuracy(y,y_hat):\n",
    "  return np.mean(y==y_hat)"
   ]
  },
  {
   "cell_type": "code",
   "execution_count": 63,
   "metadata": {},
   "outputs": [
    {
     "data": {
      "text/plain": [
       "1.0"
      ]
     },
     "execution_count": 63,
     "metadata": {},
     "output_type": "execute_result"
    }
   ],
   "source": [
    "accuracy(y,y_hat)"
   ]
  },
  {
   "cell_type": "code",
   "execution_count": 64,
   "metadata": {},
   "outputs": [],
   "source": [
    "#X_test = [[32.221680, -110.781160]]"
   ]
  },
  {
   "cell_type": "code",
   "execution_count": 65,
   "metadata": {},
   "outputs": [],
   "source": [
    "yt_hat = knn_location.predict(Xt_log_lat, 20)"
   ]
  },
  {
   "cell_type": "code",
   "execution_count": 66,
   "metadata": {},
   "outputs": [
    {
     "data": {
      "text/plain": [
       "0.998997995991984"
      ]
     },
     "execution_count": 66,
     "metadata": {},
     "output_type": "execute_result"
    }
   ],
   "source": [
    "accuracy(yt,yt_hat)"
   ]
  },
  {
   "cell_type": "markdown",
   "metadata": {},
   "source": [
    "##### Remove data from test where price_per_sqft is move than 700 \n",
    "##### The following code doesnt really matter. I was testing the KNN classifer with category [0-6]"
   ]
  },
  {
   "cell_type": "code",
   "execution_count": 67,
   "metadata": {},
   "outputs": [
    {
     "data": {
      "text/plain": [
       "1133   2.00\n",
       "2846   2.00\n",
       "466    2.00\n",
       "1037   2.00\n",
       "146    5.00\n",
       "       ... \n",
       "3748   1.00\n",
       "3449   1.00\n",
       "4106   2.00\n",
       "940    2.00\n",
       "1189   2.00\n",
       "Name: cat_by_price_per_sqft, Length: 995, dtype: float64"
      ]
     },
     "execution_count": 67,
     "metadata": {},
     "output_type": "execute_result"
    }
   ],
   "source": [
    "y_test_6 = y_test.drop(y_test[y_test >= 6].index)\n",
    "y_test_6"
   ]
  },
  {
   "cell_type": "code",
   "execution_count": 68,
   "metadata": {},
   "outputs": [
    {
     "data": {
      "text/plain": [
       "cat_by_price_per_sqft\n",
       "2.00    468\n",
       "1.00    467\n",
       "3.00     40\n",
       "4.00     10\n",
       "5.00      5\n",
       "0.00      5\n",
       "Name: count, dtype: int64"
      ]
     },
     "execution_count": 68,
     "metadata": {},
     "output_type": "execute_result"
    }
   ],
   "source": [
    "y_test_6.value_counts()"
   ]
  },
  {
   "cell_type": "code",
   "execution_count": 69,
   "metadata": {},
   "outputs": [],
   "source": [
    "yt6 = y_test_6.to_numpy().astype(int)"
   ]
  },
  {
   "cell_type": "code",
   "execution_count": 70,
   "metadata": {},
   "outputs": [
    {
     "data": {
      "text/plain": [
       "(995,)"
      ]
     },
     "execution_count": 70,
     "metadata": {},
     "output_type": "execute_result"
    }
   ],
   "source": [
    "yt6.shape"
   ]
  },
  {
   "cell_type": "code",
   "execution_count": 71,
   "metadata": {},
   "outputs": [
    {
     "data": {
      "text/html": [
       "<div>\n",
       "<style scoped>\n",
       "    .dataframe tbody tr th:only-of-type {\n",
       "        vertical-align: middle;\n",
       "    }\n",
       "\n",
       "    .dataframe tbody tr th {\n",
       "        vertical-align: top;\n",
       "    }\n",
       "\n",
       "    .dataframe thead th {\n",
       "        text-align: right;\n",
       "    }\n",
       "</style>\n",
       "<table border=\"1\" class=\"dataframe\">\n",
       "  <thead>\n",
       "    <tr style=\"text-align: right;\">\n",
       "      <th></th>\n",
       "      <th>sold_price</th>\n",
       "      <th>longitude</th>\n",
       "      <th>latitude</th>\n",
       "      <th>bedrooms</th>\n",
       "      <th>bathrooms</th>\n",
       "      <th>sqrt_ft</th>\n",
       "      <th>garage</th>\n",
       "      <th>price_per_sqft</th>\n",
       "      <th>sold_price_z</th>\n",
       "      <th>sqft_z</th>\n",
       "      <th>cat_by_price_per_sqft</th>\n",
       "    </tr>\n",
       "  </thead>\n",
       "  <tbody>\n",
       "    <tr>\n",
       "      <th>1133</th>\n",
       "      <td>885000.00</td>\n",
       "      <td>-110.91</td>\n",
       "      <td>32.29</td>\n",
       "      <td>3</td>\n",
       "      <td>3.00</td>\n",
       "      <td>3771.00</td>\n",
       "      <td>3.00</td>\n",
       "      <td>234.69</td>\n",
       "      <td>0.35</td>\n",
       "      <td>0.06</td>\n",
       "      <td>2.00</td>\n",
       "    </tr>\n",
       "    <tr>\n",
       "      <th>2846</th>\n",
       "      <td>660000.00</td>\n",
       "      <td>-110.85</td>\n",
       "      <td>32.28</td>\n",
       "      <td>2</td>\n",
       "      <td>3.00</td>\n",
       "      <td>2498.00</td>\n",
       "      <td>2.00</td>\n",
       "      <td>264.21</td>\n",
       "      <td>-0.36</td>\n",
       "      <td>-1.15</td>\n",
       "      <td>2.00</td>\n",
       "    </tr>\n",
       "    <tr>\n",
       "      <th>466</th>\n",
       "      <td>1249000.00</td>\n",
       "      <td>-110.91</td>\n",
       "      <td>32.29</td>\n",
       "      <td>4</td>\n",
       "      <td>6.00</td>\n",
       "      <td>5462.00</td>\n",
       "      <td>3.00</td>\n",
       "      <td>228.67</td>\n",
       "      <td>1.51</td>\n",
       "      <td>1.66</td>\n",
       "      <td>2.00</td>\n",
       "    </tr>\n",
       "    <tr>\n",
       "      <th>1037</th>\n",
       "      <td>860000.00</td>\n",
       "      <td>-110.92</td>\n",
       "      <td>32.34</td>\n",
       "      <td>4</td>\n",
       "      <td>5.00</td>\n",
       "      <td>4107.00</td>\n",
       "      <td>3.00</td>\n",
       "      <td>209.40</td>\n",
       "      <td>0.27</td>\n",
       "      <td>0.38</td>\n",
       "      <td>2.00</td>\n",
       "    </tr>\n",
       "    <tr>\n",
       "      <th>146</th>\n",
       "      <td>1769386.00</td>\n",
       "      <td>-111.10</td>\n",
       "      <td>32.47</td>\n",
       "      <td>3</td>\n",
       "      <td>4.00</td>\n",
       "      <td>3276.00</td>\n",
       "      <td>3.00</td>\n",
       "      <td>540.11</td>\n",
       "      <td>3.16</td>\n",
       "      <td>-0.41</td>\n",
       "      <td>5.00</td>\n",
       "    </tr>\n",
       "    <tr>\n",
       "      <th>...</th>\n",
       "      <td>...</td>\n",
       "      <td>...</td>\n",
       "      <td>...</td>\n",
       "      <td>...</td>\n",
       "      <td>...</td>\n",
       "      <td>...</td>\n",
       "      <td>...</td>\n",
       "      <td>...</td>\n",
       "      <td>...</td>\n",
       "      <td>...</td>\n",
       "      <td>...</td>\n",
       "    </tr>\n",
       "    <tr>\n",
       "      <th>3748</th>\n",
       "      <td>590000.00</td>\n",
       "      <td>-110.73</td>\n",
       "      <td>32.24</td>\n",
       "      <td>4</td>\n",
       "      <td>4.00</td>\n",
       "      <td>4127.00</td>\n",
       "      <td>3.50</td>\n",
       "      <td>142.96</td>\n",
       "      <td>-0.58</td>\n",
       "      <td>0.40</td>\n",
       "      <td>1.00</td>\n",
       "    </tr>\n",
       "    <tr>\n",
       "      <th>3449</th>\n",
       "      <td>600000.00</td>\n",
       "      <td>-110.90</td>\n",
       "      <td>32.29</td>\n",
       "      <td>5</td>\n",
       "      <td>4.00</td>\n",
       "      <td>4430.00</td>\n",
       "      <td>3.00</td>\n",
       "      <td>135.44</td>\n",
       "      <td>-0.55</td>\n",
       "      <td>0.68</td>\n",
       "      <td>1.00</td>\n",
       "    </tr>\n",
       "    <tr>\n",
       "      <th>4106</th>\n",
       "      <td>555000.00</td>\n",
       "      <td>-110.85</td>\n",
       "      <td>32.32</td>\n",
       "      <td>3</td>\n",
       "      <td>3.00</td>\n",
       "      <td>2231.00</td>\n",
       "      <td>2.00</td>\n",
       "      <td>248.77</td>\n",
       "      <td>-0.70</td>\n",
       "      <td>-1.40</td>\n",
       "      <td>2.00</td>\n",
       "    </tr>\n",
       "    <tr>\n",
       "      <th>940</th>\n",
       "      <td>895000.00</td>\n",
       "      <td>-110.91</td>\n",
       "      <td>32.29</td>\n",
       "      <td>4</td>\n",
       "      <td>5.00</td>\n",
       "      <td>4223.00</td>\n",
       "      <td>0.00</td>\n",
       "      <td>211.93</td>\n",
       "      <td>0.38</td>\n",
       "      <td>0.49</td>\n",
       "      <td>2.00</td>\n",
       "    </tr>\n",
       "    <tr>\n",
       "      <th>1189</th>\n",
       "      <td>875000.00</td>\n",
       "      <td>-110.82</td>\n",
       "      <td>32.28</td>\n",
       "      <td>3</td>\n",
       "      <td>4.00</td>\n",
       "      <td>3803.00</td>\n",
       "      <td>3.00</td>\n",
       "      <td>230.08</td>\n",
       "      <td>0.32</td>\n",
       "      <td>0.09</td>\n",
       "      <td>2.00</td>\n",
       "    </tr>\n",
       "  </tbody>\n",
       "</table>\n",
       "<p>995 rows × 11 columns</p>\n",
       "</div>"
      ],
      "text/plain": [
       "      sold_price  longitude  latitude  bedrooms  bathrooms  sqrt_ft  garage  \\\n",
       "1133   885000.00    -110.91     32.29         3       3.00  3771.00    3.00   \n",
       "2846   660000.00    -110.85     32.28         2       3.00  2498.00    2.00   \n",
       "466   1249000.00    -110.91     32.29         4       6.00  5462.00    3.00   \n",
       "1037   860000.00    -110.92     32.34         4       5.00  4107.00    3.00   \n",
       "146   1769386.00    -111.10     32.47         3       4.00  3276.00    3.00   \n",
       "...          ...        ...       ...       ...        ...      ...     ...   \n",
       "3748   590000.00    -110.73     32.24         4       4.00  4127.00    3.50   \n",
       "3449   600000.00    -110.90     32.29         5       4.00  4430.00    3.00   \n",
       "4106   555000.00    -110.85     32.32         3       3.00  2231.00    2.00   \n",
       "940    895000.00    -110.91     32.29         4       5.00  4223.00    0.00   \n",
       "1189   875000.00    -110.82     32.28         3       4.00  3803.00    3.00   \n",
       "\n",
       "      price_per_sqft  sold_price_z  sqft_z  cat_by_price_per_sqft  \n",
       "1133          234.69          0.35    0.06                   2.00  \n",
       "2846          264.21         -0.36   -1.15                   2.00  \n",
       "466           228.67          1.51    1.66                   2.00  \n",
       "1037          209.40          0.27    0.38                   2.00  \n",
       "146           540.11          3.16   -0.41                   5.00  \n",
       "...              ...           ...     ...                    ...  \n",
       "3748          142.96         -0.58    0.40                   1.00  \n",
       "3449          135.44         -0.55    0.68                   1.00  \n",
       "4106          248.77         -0.70   -1.40                   2.00  \n",
       "940           211.93          0.38    0.49                   2.00  \n",
       "1189          230.08          0.32    0.09                   2.00  \n",
       "\n",
       "[995 rows x 11 columns]"
      ]
     },
     "execution_count": 71,
     "metadata": {},
     "output_type": "execute_result"
    }
   ],
   "source": [
    "X_test_6 = X_test.drop(y_test[y_test >= 6].index)\n",
    "X_test_6"
   ]
  },
  {
   "cell_type": "code",
   "execution_count": 72,
   "metadata": {},
   "outputs": [],
   "source": [
    "Xt6 = X_test_6.to_numpy()"
   ]
  },
  {
   "cell_type": "code",
   "execution_count": 73,
   "metadata": {},
   "outputs": [
    {
     "data": {
      "text/plain": [
       "array([[-110.914692  ,   32.289181  ,  234.68575975],\n",
       "       [-110.849338  ,   32.280541  ,  264.2113691 ],\n",
       "       [-110.912026  ,   32.29085   ,  228.67081655],\n",
       "       ...,\n",
       "       [-110.852115  ,   32.320774  ,  248.76736889],\n",
       "       [-110.907494  ,   32.285755  ,  211.93464362],\n",
       "       [-110.821343  ,   32.282773  ,  230.08151459]])"
      ]
     },
     "execution_count": 73,
     "metadata": {},
     "output_type": "execute_result"
    }
   ],
   "source": [
    "Xt6_log_lat = Xt6[:,[1,2,7]]\n",
    "Xt6_log_lat"
   ]
  },
  {
   "cell_type": "code",
   "execution_count": 74,
   "metadata": {},
   "outputs": [
    {
     "data": {
      "text/plain": [
       "(995, 3)"
      ]
     },
     "execution_count": 74,
     "metadata": {},
     "output_type": "execute_result"
    }
   ],
   "source": [
    "Xt6_log_lat.shape"
   ]
  },
  {
   "cell_type": "code",
   "execution_count": 75,
   "metadata": {},
   "outputs": [],
   "source": [
    "yt6_hat = knn_location.predict(Xt6_log_lat, 20)"
   ]
  },
  {
   "cell_type": "code",
   "execution_count": 76,
   "metadata": {},
   "outputs": [
    {
     "data": {
      "text/plain": [
       "0.9989949748743718"
      ]
     },
     "execution_count": 76,
     "metadata": {},
     "output_type": "execute_result"
    }
   ],
   "source": [
    "accuracy(yt6,yt6_hat)"
   ]
  },
  {
   "cell_type": "markdown",
   "metadata": {},
   "source": [
    "#### OLS Regressor with Gradient Descent"
   ]
  },
  {
   "cell_type": "code",
   "execution_count": 77,
   "metadata": {},
   "outputs": [],
   "source": [
    "def OLS(Y, Y_hat, N):\n",
    "  return ((1/(2*N))*np.sum((Y-Y_hat)**2))"
   ]
  },
  {
   "cell_type": "code",
   "execution_count": 78,
   "metadata": {},
   "outputs": [],
   "source": [
    "class MVLinearRegression():\n",
    "\n",
    "  def fit(self, X, y, eta = 1e-3, epochs=1e3, show_curve=False):\n",
    "    epochs = int(epochs)\n",
    "    N, D = X.shape\n",
    "    Y=y\n",
    "\n",
    "    #Begin Optimization\n",
    "    self.W = np.random.randn(D)\n",
    "    self.J = np.zeros(epochs)\n",
    "\n",
    "    #Stostachistic Gradient Descent\n",
    "    for epoch in range(epochs):\n",
    "      Y_hat = self.predict(X)\n",
    "      self.J[epoch]= OLS(Y, Y_hat, N)\n",
    "      #Weight Update Rule\n",
    "      self.W -= eta*(1/N)*(X.T@(Y_hat-Y))\n",
    "\n",
    "    if show_curve:\n",
    "      plt.figure()\n",
    "      plt.plot(self.J)\n",
    "      plt.xlabel(\"epochs\")\n",
    "      plt.ylabel(\"$\\mathcal{J}$\")\n",
    "      plt.title(f\"Training Curve for label\")\n",
    "\n",
    "  def predict(self, X):\n",
    "    return X@self.W\n"
   ]
  },
  {
   "cell_type": "markdown",
   "metadata": {},
   "source": [
    "##### Train set for all labels"
   ]
  },
  {
   "cell_type": "code",
   "execution_count": 79,
   "metadata": {},
   "outputs": [],
   "source": [
    "label_columns = [\"sold_price\",\"cat_by_price_per_sqft\",\"bedrooms\",\"bathrooms\",\"price_per_sqft\",\"sqrt_ft\"]\n",
    "Xdf = X_train[label_columns]"
   ]
  },
  {
   "cell_type": "code",
   "execution_count": 80,
   "metadata": {},
   "outputs": [
    {
     "data": {
      "text/html": [
       "<div>\n",
       "<style scoped>\n",
       "    .dataframe tbody tr th:only-of-type {\n",
       "        vertical-align: middle;\n",
       "    }\n",
       "\n",
       "    .dataframe tbody tr th {\n",
       "        vertical-align: top;\n",
       "    }\n",
       "\n",
       "    .dataframe thead th {\n",
       "        text-align: right;\n",
       "    }\n",
       "</style>\n",
       "<table border=\"1\" class=\"dataframe\">\n",
       "  <thead>\n",
       "    <tr style=\"text-align: right;\">\n",
       "      <th></th>\n",
       "      <th>sold_price</th>\n",
       "      <th>cat_by_price_per_sqft</th>\n",
       "      <th>bedrooms</th>\n",
       "      <th>bathrooms</th>\n",
       "      <th>price_per_sqft</th>\n",
       "      <th>sqrt_ft</th>\n",
       "    </tr>\n",
       "  </thead>\n",
       "  <tbody>\n",
       "    <tr>\n",
       "      <th>3606</th>\n",
       "      <td>600000.00</td>\n",
       "      <td>1.00</td>\n",
       "      <td>4</td>\n",
       "      <td>3.00</td>\n",
       "      <td>193.49</td>\n",
       "      <td>3101.00</td>\n",
       "    </tr>\n",
       "    <tr>\n",
       "      <th>2157</th>\n",
       "      <td>725000.00</td>\n",
       "      <td>1.00</td>\n",
       "      <td>4</td>\n",
       "      <td>4.00</td>\n",
       "      <td>190.89</td>\n",
       "      <td>3798.00</td>\n",
       "    </tr>\n",
       "    <tr>\n",
       "      <th>1090</th>\n",
       "      <td>862500.00</td>\n",
       "      <td>1.00</td>\n",
       "      <td>5</td>\n",
       "      <td>6.00</td>\n",
       "      <td>183.16</td>\n",
       "      <td>4709.00</td>\n",
       "    </tr>\n",
       "    <tr>\n",
       "      <th>886</th>\n",
       "      <td>900000.00</td>\n",
       "      <td>2.00</td>\n",
       "      <td>4</td>\n",
       "      <td>4.00</td>\n",
       "      <td>229.18</td>\n",
       "      <td>3927.00</td>\n",
       "    </tr>\n",
       "    <tr>\n",
       "      <th>66</th>\n",
       "      <td>1995000.00</td>\n",
       "      <td>3.00</td>\n",
       "      <td>4</td>\n",
       "      <td>6.00</td>\n",
       "      <td>319.92</td>\n",
       "      <td>6236.00</td>\n",
       "    </tr>\n",
       "    <tr>\n",
       "      <th>...</th>\n",
       "      <td>...</td>\n",
       "      <td>...</td>\n",
       "      <td>...</td>\n",
       "      <td>...</td>\n",
       "      <td>...</td>\n",
       "      <td>...</td>\n",
       "    </tr>\n",
       "    <tr>\n",
       "      <th>2610</th>\n",
       "      <td>690000.00</td>\n",
       "      <td>1.00</td>\n",
       "      <td>3</td>\n",
       "      <td>3.00</td>\n",
       "      <td>177.88</td>\n",
       "      <td>3879.00</td>\n",
       "    </tr>\n",
       "    <tr>\n",
       "      <th>1626</th>\n",
       "      <td>799000.00</td>\n",
       "      <td>3.00</td>\n",
       "      <td>4</td>\n",
       "      <td>3.00</td>\n",
       "      <td>359.91</td>\n",
       "      <td>2220.00</td>\n",
       "    </tr>\n",
       "    <tr>\n",
       "      <th>159</th>\n",
       "      <td>1525000.00</td>\n",
       "      <td>3.00</td>\n",
       "      <td>5</td>\n",
       "      <td>5.00</td>\n",
       "      <td>335.09</td>\n",
       "      <td>4551.00</td>\n",
       "    </tr>\n",
       "    <tr>\n",
       "      <th>2752</th>\n",
       "      <td>644500.00</td>\n",
       "      <td>1.00</td>\n",
       "      <td>4</td>\n",
       "      <td>3.00</td>\n",
       "      <td>182.42</td>\n",
       "      <td>3533.00</td>\n",
       "    </tr>\n",
       "    <tr>\n",
       "      <th>1732</th>\n",
       "      <td>780000.00</td>\n",
       "      <td>1.00</td>\n",
       "      <td>5</td>\n",
       "      <td>4.00</td>\n",
       "      <td>175.95</td>\n",
       "      <td>4433.00</td>\n",
       "    </tr>\n",
       "  </tbody>\n",
       "</table>\n",
       "<p>3990 rows × 6 columns</p>\n",
       "</div>"
      ],
      "text/plain": [
       "      sold_price  cat_by_price_per_sqft  bedrooms  bathrooms  price_per_sqft  \\\n",
       "3606   600000.00                   1.00         4       3.00          193.49   \n",
       "2157   725000.00                   1.00         4       4.00          190.89   \n",
       "1090   862500.00                   1.00         5       6.00          183.16   \n",
       "886    900000.00                   2.00         4       4.00          229.18   \n",
       "66    1995000.00                   3.00         4       6.00          319.92   \n",
       "...          ...                    ...       ...        ...             ...   \n",
       "2610   690000.00                   1.00         3       3.00          177.88   \n",
       "1626   799000.00                   3.00         4       3.00          359.91   \n",
       "159   1525000.00                   3.00         5       5.00          335.09   \n",
       "2752   644500.00                   1.00         4       3.00          182.42   \n",
       "1732   780000.00                   1.00         5       4.00          175.95   \n",
       "\n",
       "      sqrt_ft  \n",
       "3606  3101.00  \n",
       "2157  3798.00  \n",
       "1090  4709.00  \n",
       "886   3927.00  \n",
       "66    6236.00  \n",
       "...       ...  \n",
       "2610  3879.00  \n",
       "1626  2220.00  \n",
       "159   4551.00  \n",
       "2752  3533.00  \n",
       "1732  4433.00  \n",
       "\n",
       "[3990 rows x 6 columns]"
      ]
     },
     "execution_count": 80,
     "metadata": {},
     "output_type": "execute_result"
    }
   ],
   "source": [
    "Xdf"
   ]
  },
  {
   "cell_type": "code",
   "execution_count": 81,
   "metadata": {},
   "outputs": [
    {
     "data": {
      "text/plain": [
       "cat_by_price_per_sqft\n",
       "2.00    1872\n",
       "1.00    1870\n",
       "3.00     158\n",
       "4.00      40\n",
       "0.00      20\n",
       "5.00      20\n",
       "8.00       4\n",
       "6.00       2\n",
       "7.00       2\n",
       "9.00       2\n",
       "Name: count, dtype: int64"
      ]
     },
     "execution_count": 81,
     "metadata": {},
     "output_type": "execute_result"
    }
   ],
   "source": [
    "Xdf.cat_by_price_per_sqft.value_counts()"
   ]
  },
  {
   "cell_type": "code",
   "execution_count": 82,
   "metadata": {},
   "outputs": [],
   "source": [
    "X = Xdf.to_numpy()"
   ]
  },
  {
   "cell_type": "code",
   "execution_count": 83,
   "metadata": {},
   "outputs": [
    {
     "data": {
      "text/plain": [
       "(3990, 6)"
      ]
     },
     "execution_count": 83,
     "metadata": {},
     "output_type": "execute_result"
    }
   ],
   "source": [
    "X.shape"
   ]
  },
  {
   "cell_type": "code",
   "execution_count": 84,
   "metadata": {},
   "outputs": [
    {
     "data": {
      "text/plain": [
       "array([[6.00000000e+05, 1.00000000e+00, 4.00000000e+00, 3.00000000e+00,\n",
       "        1.93485972e+02, 3.10100000e+03],\n",
       "       [7.25000000e+05, 1.00000000e+00, 4.00000000e+00, 4.00000000e+00,\n",
       "        1.90889942e+02, 3.79800000e+03],\n",
       "       [8.62500000e+05, 1.00000000e+00, 5.00000000e+00, 6.00000000e+00,\n",
       "        1.83159907e+02, 4.70900000e+03],\n",
       "       ...,\n",
       "       [1.52500000e+06, 3.00000000e+00, 5.00000000e+00, 5.00000000e+00,\n",
       "        3.35091189e+02, 4.55100000e+03],\n",
       "       [6.44500000e+05, 1.00000000e+00, 4.00000000e+00, 3.00000000e+00,\n",
       "        1.82422870e+02, 3.53300000e+03],\n",
       "       [7.80000000e+05, 1.00000000e+00, 5.00000000e+00, 4.00000000e+00,\n",
       "        1.75953079e+02, 4.43300000e+03]])"
      ]
     },
     "execution_count": 84,
     "metadata": {},
     "output_type": "execute_result"
    }
   ],
   "source": [
    "X"
   ]
  },
  {
   "cell_type": "code",
   "execution_count": 85,
   "metadata": {},
   "outputs": [],
   "source": [
    "y = X[:,0]\n",
    "k= X[:,1]\n",
    "X=X[:,2:]"
   ]
  },
  {
   "cell_type": "code",
   "execution_count": 86,
   "metadata": {},
   "outputs": [
    {
     "data": {
      "text/plain": [
       "(3990,)"
      ]
     },
     "execution_count": 86,
     "metadata": {},
     "output_type": "execute_result"
    }
   ],
   "source": [
    "k.shape"
   ]
  },
  {
   "cell_type": "code",
   "execution_count": 87,
   "metadata": {},
   "outputs": [
    {
     "data": {
      "text/plain": [
       "{0, 1, 2, 3, 4, 5, 6, 7, 8, 9}"
      ]
     },
     "execution_count": 87,
     "metadata": {},
     "output_type": "execute_result"
    }
   ],
   "source": [
    "set(k.astype(int))"
   ]
  },
  {
   "cell_type": "code",
   "execution_count": 88,
   "metadata": {},
   "outputs": [
    {
     "data": {
      "text/plain": [
       "(3990,)"
      ]
     },
     "execution_count": 88,
     "metadata": {},
     "output_type": "execute_result"
    }
   ],
   "source": [
    "y.shape"
   ]
  },
  {
   "cell_type": "code",
   "execution_count": 89,
   "metadata": {},
   "outputs": [],
   "source": [
    "X0_sub = X[k==0]"
   ]
  },
  {
   "cell_type": "code",
   "execution_count": 90,
   "metadata": {},
   "outputs": [
    {
     "data": {
      "text/plain": [
       "(20, 4)"
      ]
     },
     "execution_count": 90,
     "metadata": {},
     "output_type": "execute_result"
    }
   ],
   "source": [
    "X0_sub.shape"
   ]
  },
  {
   "cell_type": "code",
   "execution_count": 91,
   "metadata": {},
   "outputs": [
    {
     "data": {
      "text/plain": [
       "array([[3.00000000e+00, 3.00000000e+00, 9.85323549e+01, 7.49500000e+03],\n",
       "       [1.90000000e+01, 1.80000000e+01, 7.36383084e+01, 1.21540000e+04],\n",
       "       [3.00000000e+00, 4.00000000e+00, 9.77278280e+01, 4.09300000e+03],\n",
       "       [5.00000000e+00, 7.00000000e+00, 9.45009023e+01, 1.05290000e+04],\n",
       "       [3.00000000e+00, 4.00000000e+00, 9.49311967e+01, 5.74100000e+03],\n",
       "       [8.00000000e+00, 7.00000000e+00, 5.66524568e+01, 8.91400000e+03],\n",
       "       [3.00000000e+00, 3.50000000e+00, 9.01442308e+01, 3.32800000e+03],\n",
       "       [1.00000000e+00, 2.00000000e+00, 9.44206009e+01, 5.82500000e+03],\n",
       "       [2.00000000e+00, 5.00000000e+00, 6.12933323e+01, 1.28080000e+04],\n",
       "       [1.10000000e+01, 1.10000000e+01, 8.62068966e+01, 5.80000000e+03],\n",
       "       [5.00000000e+00, 5.00000000e+00, 8.10134040e+01, 6.78900000e+03],\n",
       "       [4.00000000e+00, 3.00000000e+00, 9.94117647e+01, 1.70000000e+03],\n",
       "       [3.00000000e+00, 4.00000000e+00, 9.98257012e+01, 6.31100000e+03],\n",
       "       [5.00000000e+00, 5.00000000e+00, 8.29002645e+01, 6.42700000e+03],\n",
       "       [5.00000000e+00, 6.00000000e+00, 9.69409737e+01, 9.28400000e+03],\n",
       "       [3.00000000e+00, 5.00000000e+00, 9.83785753e+01, 5.48900000e+03],\n",
       "       [4.00000000e+00, 4.00000000e+00, 9.96264010e+01, 5.62100000e+03],\n",
       "       [1.00000000e+01, 9.00000000e+00, 7.89473684e+01, 7.22000000e+03],\n",
       "       [6.00000000e+00, 5.00000000e+00, 8.12977577e+01, 7.98300000e+03],\n",
       "       [2.00000000e+00, 6.00000000e+00, 6.12933323e+01, 1.28080000e+04]])"
      ]
     },
     "execution_count": 91,
     "metadata": {},
     "output_type": "execute_result"
    }
   ],
   "source": [
    "X0_sub"
   ]
  },
  {
   "cell_type": "code",
   "execution_count": 92,
   "metadata": {},
   "outputs": [],
   "source": [
    "y0_sub=y[k==0]"
   ]
  },
  {
   "cell_type": "code",
   "execution_count": 93,
   "metadata": {},
   "outputs": [
    {
     "data": {
      "text/plain": [
       "(20,)"
      ]
     },
     "execution_count": 93,
     "metadata": {},
     "output_type": "execute_result"
    }
   ],
   "source": [
    "y0_sub.shape"
   ]
  },
  {
   "cell_type": "code",
   "execution_count": 94,
   "metadata": {},
   "outputs": [],
   "source": [
    "X1_sub = X[k==1]\n",
    "X2_sub = X[k==2]\n",
    "X3_sub = X[k==3]\n",
    "X4_sub = X[k==4]\n",
    "X5_sub = X[k==5]\n",
    "X6_sub = X[k==6]\n",
    "X7_sub = X[k==7]\n",
    "X8_sub = X[k==8]\n",
    "X9_sub = X[k==9]"
   ]
  },
  {
   "cell_type": "code",
   "execution_count": 95,
   "metadata": {},
   "outputs": [],
   "source": [
    "y1_sub = y[k==1]\n",
    "y2_sub = y[k==2]\n",
    "y3_sub = y[k==3]\n",
    "y4_sub = y[k==4]\n",
    "y5_sub = y[k==5]\n",
    "y6_sub = y[k==6]\n",
    "y7_sub = y[k==7]\n",
    "y8_sub = y[k==8]\n",
    "y9_sub = y[k==9]"
   ]
  },
  {
   "cell_type": "markdown",
   "metadata": {},
   "source": [
    "##### MV fit for all outcomes [0-9]"
   ]
  },
  {
   "cell_type": "code",
   "execution_count": 96,
   "metadata": {},
   "outputs": [
    {
     "data": {
      "image/png": "[encoded data removed]",
      "text/plain": [
       "<Figure size 640x480 with 1 Axes>"
      ]
     },
     "metadata": {},
     "output_type": "display_data"
    }
   ],
   "source": [
    "mv_0 = MVLinearRegression()\n",
    "mv_0.fit(X0_sub,y0_sub,eta=2e-9,epochs=1e2,show_curve=True) "
   ]
  },
  {
   "cell_type": "code",
   "execution_count": 97,
   "metadata": {},
   "outputs": [
    {
     "data": {
      "image/png": "[encoded data removed]",
      "text/plain": [
       "<Figure size 640x480 with 1 Axes>"
      ]
     },
     "metadata": {},
     "output_type": "display_data"
    }
   ],
   "source": [
    "mv_1 = MVLinearRegression()\n",
    "mv_1.fit(X1_sub,y1_sub,eta=1e-9,epochs=7e2,show_curve=True) "
   ]
  },
  {
   "cell_type": "code",
   "execution_count": 98,
   "metadata": {},
   "outputs": [
    {
     "data": {
      "image/png": "[encoded data removed]",
      "text/plain": [
       "<Figure size 640x480 with 1 Axes>"
      ]
     },
     "metadata": {},
     "output_type": "display_data"
    }
   ],
   "source": [
    "mv_2 = MVLinearRegression()\n",
    "mv_2.fit(X2_sub,y2_sub,eta=1e-8,epochs=1e2,show_curve=True) "
   ]
  },
  {
   "cell_type": "code",
   "execution_count": 99,
   "metadata": {},
   "outputs": [
    {
     "data": {
      "image/png": "[encoded data removed]",
      "text/plain": [
       "<Figure size 640x480 with 1 Axes>"
      ]
     },
     "metadata": {},
     "output_type": "display_data"
    }
   ],
   "source": [
    "mv_3 = MVLinearRegression()\n",
    "mv_3.fit(X3_sub,y3_sub,eta=1e-8,epochs=1e2,show_curve=True) "
   ]
  },
  {
   "cell_type": "code",
   "execution_count": 100,
   "metadata": {},
   "outputs": [
    {
     "data": {
      "image/png": "[encoded data removed]",
      "text/plain": [
       "<Figure size 640x480 with 1 Axes>"
      ]
     },
     "metadata": {},
     "output_type": "display_data"
    }
   ],
   "source": [
    "mv_4 = MVLinearRegression()\n",
    "mv_4.fit(X4_sub,y4_sub,eta=1e-8,epochs=1e2,show_curve=True) "
   ]
  },
  {
   "cell_type": "code",
   "execution_count": 101,
   "metadata": {},
   "outputs": [
    {
     "data": {
      "image/png": "[encoded data removed]",
      "text/plain": [
       "<Figure size 640x480 with 1 Axes>"
      ]
     },
     "metadata": {},
     "output_type": "display_data"
    }
   ],
   "source": [
    "mv_5 = MVLinearRegression()\n",
    "mv_5.fit(X5_sub,y5_sub,eta=1e-8,epochs=1e2,show_curve=True) "
   ]
  },
  {
   "cell_type": "code",
   "execution_count": 102,
   "metadata": {},
   "outputs": [
    {
     "data": {
      "image/png": "[encoded data removed]",
      "text/plain": [
       "<Figure size 640x480 with 1 Axes>"
      ]
     },
     "metadata": {},
     "output_type": "display_data"
    }
   ],
   "source": [
    "mv_6 = MVLinearRegression()\n",
    "mv_6.fit(X6_sub,y6_sub,eta=1e-8,epochs=1e2,show_curve=True) "
   ]
  },
  {
   "cell_type": "code",
   "execution_count": 103,
   "metadata": {},
   "outputs": [
    {
     "data": {
      "image/png": "[encoded data removed]",
      "text/plain": [
       "<Figure size 640x480 with 1 Axes>"
      ]
     },
     "metadata": {},
     "output_type": "display_data"
    }
   ],
   "source": [
    "mv_7 = MVLinearRegression()\n",
    "mv_7.fit(X7_sub,y7_sub,eta=1e-8,epochs=1e2,show_curve=True) "
   ]
  },
  {
   "cell_type": "code",
   "execution_count": 104,
   "metadata": {},
   "outputs": [
    {
     "data": {
      "image/png": "[encoded data removed]",
      "text/plain": [
       "<Figure size 640x480 with 1 Axes>"
      ]
     },
     "metadata": {},
     "output_type": "display_data"
    }
   ],
   "source": [
    "mv_8 = MVLinearRegression()\n",
    "mv_8.fit(X8_sub,y8_sub,eta=1e-8,epochs=1e2,show_curve=True) "
   ]
  },
  {
   "cell_type": "code",
   "execution_count": 105,
   "metadata": {},
   "outputs": [
    {
     "data": {
      "image/png": "[encoded data removed]",
      "text/plain": [
       "<Figure size 640x480 with 1 Axes>"
      ]
     },
     "metadata": {},
     "output_type": "display_data"
    }
   ],
   "source": [
    "mv_9 = MVLinearRegression()\n",
    "mv_9.fit(X9_sub,y9_sub,eta=1e-8,epochs=1e2,show_curve=True) "
   ]
  },
  {
   "cell_type": "markdown",
   "metadata": {},
   "source": [
    "##### Test all Outcome [0-9]"
   ]
  },
  {
   "cell_type": "code",
   "execution_count": 106,
   "metadata": {},
   "outputs": [],
   "source": [
    "label_columns = [\"sold_price\",\"cat_by_price_per_sqft\",\"bedrooms\",\"bathrooms\",\"price_per_sqft\",\"sqrt_ft\"]\n",
    "Xtest_df = X_test[label_columns]"
   ]
  },
  {
   "cell_type": "code",
   "execution_count": 107,
   "metadata": {},
   "outputs": [
    {
     "data": {
      "text/html": [
       "<div>\n",
       "<style scoped>\n",
       "    .dataframe tbody tr th:only-of-type {\n",
       "        vertical-align: middle;\n",
       "    }\n",
       "\n",
       "    .dataframe tbody tr th {\n",
       "        vertical-align: top;\n",
       "    }\n",
       "\n",
       "    .dataframe thead th {\n",
       "        text-align: right;\n",
       "    }\n",
       "</style>\n",
       "<table border=\"1\" class=\"dataframe\">\n",
       "  <thead>\n",
       "    <tr style=\"text-align: right;\">\n",
       "      <th></th>\n",
       "      <th>sold_price</th>\n",
       "      <th>cat_by_price_per_sqft</th>\n",
       "      <th>bedrooms</th>\n",
       "      <th>bathrooms</th>\n",
       "      <th>price_per_sqft</th>\n",
       "      <th>sqrt_ft</th>\n",
       "    </tr>\n",
       "  </thead>\n",
       "  <tbody>\n",
       "    <tr>\n",
       "      <th>1133</th>\n",
       "      <td>885000.00</td>\n",
       "      <td>2.00</td>\n",
       "      <td>3</td>\n",
       "      <td>3.00</td>\n",
       "      <td>234.69</td>\n",
       "      <td>3771.00</td>\n",
       "    </tr>\n",
       "    <tr>\n",
       "      <th>2846</th>\n",
       "      <td>660000.00</td>\n",
       "      <td>2.00</td>\n",
       "      <td>2</td>\n",
       "      <td>3.00</td>\n",
       "      <td>264.21</td>\n",
       "      <td>2498.00</td>\n",
       "    </tr>\n",
       "    <tr>\n",
       "      <th>466</th>\n",
       "      <td>1249000.00</td>\n",
       "      <td>2.00</td>\n",
       "      <td>4</td>\n",
       "      <td>6.00</td>\n",
       "      <td>228.67</td>\n",
       "      <td>5462.00</td>\n",
       "    </tr>\n",
       "    <tr>\n",
       "      <th>1037</th>\n",
       "      <td>860000.00</td>\n",
       "      <td>2.00</td>\n",
       "      <td>4</td>\n",
       "      <td>5.00</td>\n",
       "      <td>209.40</td>\n",
       "      <td>4107.00</td>\n",
       "    </tr>\n",
       "    <tr>\n",
       "      <th>146</th>\n",
       "      <td>1769386.00</td>\n",
       "      <td>5.00</td>\n",
       "      <td>3</td>\n",
       "      <td>4.00</td>\n",
       "      <td>540.11</td>\n",
       "      <td>3276.00</td>\n",
       "    </tr>\n",
       "    <tr>\n",
       "      <th>...</th>\n",
       "      <td>...</td>\n",
       "      <td>...</td>\n",
       "      <td>...</td>\n",
       "      <td>...</td>\n",
       "      <td>...</td>\n",
       "      <td>...</td>\n",
       "    </tr>\n",
       "    <tr>\n",
       "      <th>3748</th>\n",
       "      <td>590000.00</td>\n",
       "      <td>1.00</td>\n",
       "      <td>4</td>\n",
       "      <td>4.00</td>\n",
       "      <td>142.96</td>\n",
       "      <td>4127.00</td>\n",
       "    </tr>\n",
       "    <tr>\n",
       "      <th>3449</th>\n",
       "      <td>600000.00</td>\n",
       "      <td>1.00</td>\n",
       "      <td>5</td>\n",
       "      <td>4.00</td>\n",
       "      <td>135.44</td>\n",
       "      <td>4430.00</td>\n",
       "    </tr>\n",
       "    <tr>\n",
       "      <th>4106</th>\n",
       "      <td>555000.00</td>\n",
       "      <td>2.00</td>\n",
       "      <td>3</td>\n",
       "      <td>3.00</td>\n",
       "      <td>248.77</td>\n",
       "      <td>2231.00</td>\n",
       "    </tr>\n",
       "    <tr>\n",
       "      <th>940</th>\n",
       "      <td>895000.00</td>\n",
       "      <td>2.00</td>\n",
       "      <td>4</td>\n",
       "      <td>5.00</td>\n",
       "      <td>211.93</td>\n",
       "      <td>4223.00</td>\n",
       "    </tr>\n",
       "    <tr>\n",
       "      <th>1189</th>\n",
       "      <td>875000.00</td>\n",
       "      <td>2.00</td>\n",
       "      <td>3</td>\n",
       "      <td>4.00</td>\n",
       "      <td>230.08</td>\n",
       "      <td>3803.00</td>\n",
       "    </tr>\n",
       "  </tbody>\n",
       "</table>\n",
       "<p>998 rows × 6 columns</p>\n",
       "</div>"
      ],
      "text/plain": [
       "      sold_price  cat_by_price_per_sqft  bedrooms  bathrooms  price_per_sqft  \\\n",
       "1133   885000.00                   2.00         3       3.00          234.69   \n",
       "2846   660000.00                   2.00         2       3.00          264.21   \n",
       "466   1249000.00                   2.00         4       6.00          228.67   \n",
       "1037   860000.00                   2.00         4       5.00          209.40   \n",
       "146   1769386.00                   5.00         3       4.00          540.11   \n",
       "...          ...                    ...       ...        ...             ...   \n",
       "3748   590000.00                   1.00         4       4.00          142.96   \n",
       "3449   600000.00                   1.00         5       4.00          135.44   \n",
       "4106   555000.00                   2.00         3       3.00          248.77   \n",
       "940    895000.00                   2.00         4       5.00          211.93   \n",
       "1189   875000.00                   2.00         3       4.00          230.08   \n",
       "\n",
       "      sqrt_ft  \n",
       "1133  3771.00  \n",
       "2846  2498.00  \n",
       "466   5462.00  \n",
       "1037  4107.00  \n",
       "146   3276.00  \n",
       "...       ...  \n",
       "3748  4127.00  \n",
       "3449  4430.00  \n",
       "4106  2231.00  \n",
       "940   4223.00  \n",
       "1189  3803.00  \n",
       "\n",
       "[998 rows x 6 columns]"
      ]
     },
     "execution_count": 107,
     "metadata": {},
     "output_type": "execute_result"
    }
   ],
   "source": [
    "Xtest_df"
   ]
  },
  {
   "cell_type": "code",
   "execution_count": 108,
   "metadata": {},
   "outputs": [],
   "source": [
    "Xt = Xtest_df.to_numpy()"
   ]
  },
  {
   "cell_type": "code",
   "execution_count": 109,
   "metadata": {},
   "outputs": [
    {
     "data": {
      "text/plain": [
       "array([[8.85000000e+05, 2.00000000e+00, 3.00000000e+00, 3.00000000e+00,\n",
       "        2.34685760e+02, 3.77100000e+03],\n",
       "       [6.60000000e+05, 2.00000000e+00, 2.00000000e+00, 3.00000000e+00,\n",
       "        2.64211369e+02, 2.49800000e+03],\n",
       "       [1.24900000e+06, 2.00000000e+00, 4.00000000e+00, 6.00000000e+00,\n",
       "        2.28670817e+02, 5.46200000e+03],\n",
       "       ...,\n",
       "       [5.55000000e+05, 2.00000000e+00, 3.00000000e+00, 3.00000000e+00,\n",
       "        2.48767369e+02, 2.23100000e+03],\n",
       "       [8.95000000e+05, 2.00000000e+00, 4.00000000e+00, 5.00000000e+00,\n",
       "        2.11934644e+02, 4.22300000e+03],\n",
       "       [8.75000000e+05, 2.00000000e+00, 3.00000000e+00, 4.00000000e+00,\n",
       "        2.30081515e+02, 3.80300000e+03]])"
      ]
     },
     "execution_count": 109,
     "metadata": {},
     "output_type": "execute_result"
    }
   ],
   "source": [
    "Xt"
   ]
  },
  {
   "cell_type": "code",
   "execution_count": 110,
   "metadata": {},
   "outputs": [
    {
     "data": {
      "text/plain": [
       "(998, 6)"
      ]
     },
     "execution_count": 110,
     "metadata": {},
     "output_type": "execute_result"
    }
   ],
   "source": [
    "Xt.shape"
   ]
  },
  {
   "cell_type": "code",
   "execution_count": 111,
   "metadata": {},
   "outputs": [],
   "source": [
    "yt = Xt[:,0]\n",
    "kt= Xt[:,1]\n",
    "Xt=Xt[:,2:]"
   ]
  },
  {
   "cell_type": "code",
   "execution_count": 112,
   "metadata": {},
   "outputs": [
    {
     "data": {
      "text/plain": [
       "(998,)"
      ]
     },
     "execution_count": 112,
     "metadata": {},
     "output_type": "execute_result"
    }
   ],
   "source": [
    "kt.shape"
   ]
  },
  {
   "cell_type": "code",
   "execution_count": 113,
   "metadata": {},
   "outputs": [
    {
     "data": {
      "text/plain": [
       "{0, 1, 2, 3, 4, 5, 6, 7, 8}"
      ]
     },
     "execution_count": 113,
     "metadata": {},
     "output_type": "execute_result"
    }
   ],
   "source": [
    "set(kt.astype(int))"
   ]
  },
  {
   "cell_type": "code",
   "execution_count": 114,
   "metadata": {},
   "outputs": [
    {
     "data": {
      "text/plain": [
       "(998,)"
      ]
     },
     "execution_count": 114,
     "metadata": {},
     "output_type": "execute_result"
    }
   ],
   "source": [
    "yt.shape"
   ]
  },
  {
   "cell_type": "code",
   "execution_count": 115,
   "metadata": {},
   "outputs": [],
   "source": [
    "Xt0_sub = Xt[kt==0]"
   ]
  },
  {
   "cell_type": "code",
   "execution_count": 116,
   "metadata": {},
   "outputs": [
    {
     "data": {
      "text/plain": [
       "(5, 4)"
      ]
     },
     "execution_count": 116,
     "metadata": {},
     "output_type": "execute_result"
    }
   ],
   "source": [
    "Xt0_sub.shape"
   ]
  },
  {
   "cell_type": "code",
   "execution_count": 117,
   "metadata": {},
   "outputs": [
    {
     "data": {
      "text/plain": [
       "array([[4.00000000e+00, 5.00000000e+00, 9.81113564e+01, 8.15400000e+03],\n",
       "       [6.00000000e+00, 4.00000000e+00, 9.65623793e+01, 5.17800000e+03],\n",
       "       [5.00000000e+00, 7.00000000e+00, 9.13838120e+01, 5.74500000e+03],\n",
       "       [3.00000000e+00, 4.00000000e+00, 9.55157852e+01, 4.97300000e+03],\n",
       "       [6.00000000e+00, 5.00000000e+00, 8.30188679e+01, 5.30000000e+03]])"
      ]
     },
     "execution_count": 117,
     "metadata": {},
     "output_type": "execute_result"
    }
   ],
   "source": [
    "Xt0_sub"
   ]
  },
  {
   "cell_type": "code",
   "execution_count": 118,
   "metadata": {},
   "outputs": [],
   "source": [
    "yt0_sub=yt[kt==0]"
   ]
  },
  {
   "cell_type": "code",
   "execution_count": 119,
   "metadata": {},
   "outputs": [
    {
     "data": {
      "text/plain": [
       "(5,)"
      ]
     },
     "execution_count": 119,
     "metadata": {},
     "output_type": "execute_result"
    }
   ],
   "source": [
    "yt0_sub.shape"
   ]
  },
  {
   "cell_type": "code",
   "execution_count": 120,
   "metadata": {},
   "outputs": [],
   "source": [
    "def accuracy(y,y_hat):\n",
    "  return (abs(y-y_hat)/y) *  100"
   ]
  },
  {
   "cell_type": "code",
   "execution_count": 121,
   "metadata": {},
   "outputs": [],
   "source": [
    "Xt1_sub = Xt[kt==1]\n",
    "Xt2_sub = Xt[kt==2]\n",
    "Xt3_sub = Xt[kt==3]\n",
    "Xt4_sub = Xt[kt==4]\n",
    "Xt5_sub = Xt[kt==5]\n",
    "Xt6_sub = Xt[kt==6]\n",
    "Xt7_sub = Xt[kt==7]\n",
    "Xt8_sub = Xt[kt==8]\n",
    "Xt9_sub = Xt[kt==9]"
   ]
  },
  {
   "cell_type": "code",
   "execution_count": 122,
   "metadata": {},
   "outputs": [],
   "source": [
    "yt1_sub = yt[kt==1]\n",
    "yt2_sub = yt[kt==2]\n",
    "yt3_sub = yt[kt==3]\n",
    "yt4_sub = yt[kt==4]\n",
    "yt5_sub = yt[kt==5]\n",
    "yt6_sub = yt[kt==6]\n",
    "yt7_sub = yt[kt==7]\n",
    "yt8_sub = yt[kt==8]\n",
    "yt9_sub = yt[kt==9]"
   ]
  },
  {
   "cell_type": "code",
   "execution_count": 123,
   "metadata": {},
   "outputs": [
    {
     "data": {
      "text/plain": [
       "array([645724.54016115, 410075.09088909, 454964.78974291, 393845.36971023,\n",
       "       419722.88169872])"
      ]
     },
     "execution_count": 123,
     "metadata": {},
     "output_type": "execute_result"
    }
   ],
   "source": [
    "predictedPrice_0 = mv_0.predict(Xt0_sub)\n",
    "predictedPrice_0"
   ]
  },
  {
   "cell_type": "code",
   "execution_count": 124,
   "metadata": {},
   "outputs": [
    {
     "data": {
      "text/plain": [
       "array([19.28443248, 17.98498182, 13.34004005, 17.08518532,  4.60843598])"
      ]
     },
     "execution_count": 124,
     "metadata": {},
     "output_type": "execute_result"
    }
   ],
   "source": [
    "predictedaccuracy_0 = accuracy(yt0_sub, predictedPrice_0)\n",
    "predictedaccuracy_0"
   ]
  },
  {
   "cell_type": "code",
   "execution_count": 125,
   "metadata": {},
   "outputs": [
    {
     "data": {
      "text/plain": [
       "14.460615130546625"
      ]
     },
     "execution_count": 125,
     "metadata": {},
     "output_type": "execute_result"
    }
   ],
   "source": [
    "np.sum(predictedaccuracy_0)/predictedaccuracy_0.shape[0]"
   ]
  },
  {
   "cell_type": "code",
   "execution_count": 126,
   "metadata": {},
   "outputs": [
    {
     "data": {
      "text/plain": [
       "array([ 570209.30951741,  552443.58487532,  576348.80166932,\n",
       "        497059.48429666,  874621.99374607,  609157.26370047,\n",
       "        598528.38364249,  594165.39711483,  920486.504868  ,\n",
       "        484636.9243947 ,  552514.9005135 ,  525357.57918962,\n",
       "        446061.24916286,  640333.66106549,  449692.39500029,\n",
       "        671573.65497755,  729661.21691891,  480887.84469171,\n",
       "        496607.42707727,  462079.68857924,  543502.52855509,\n",
       "        582148.39764081,  593230.27733089,  540393.08548179,\n",
       "        790373.35884997,  517373.62695641,  673989.66621605,\n",
       "        505038.17272762,  485292.25433783,  556420.56939735,\n",
       "        909274.71040344,  651851.1623465 ,  706470.08711171,\n",
       "        598598.31511902,  505783.79863363,  544114.59851155,\n",
       "        710175.22707548,  624587.54407727,  804658.82112868,\n",
       "        458817.33570376,  556529.16052751,  563115.08116309,\n",
       "       1061613.06986617,  581518.24249216,  506004.20178675,\n",
       "        859317.56990919,  533054.40045869,  531268.06728089,\n",
       "        694033.23470911,  952945.70174001,  673109.77854801,\n",
       "        568046.8415346 ,  623635.66657915,  506246.46498645,\n",
       "        618343.77126352,  535140.39770213, 1043569.49465699,\n",
       "        639344.57200678,  836813.86724102,  601154.86201534,\n",
       "        464831.47401638,  626274.36142211,  597040.0229253 ,\n",
       "        593918.09783056,  652734.46696286,  697492.57023599,\n",
       "        482685.04908347,  835205.50365277,  571891.05434279,\n",
       "        627549.67567555, 1027516.82935536,  551376.82536056,\n",
       "        748697.94521033,  619963.55031408, 1142011.63281914,\n",
       "        842743.57516497,  602566.72269898,  540074.92901304,\n",
       "        513992.15566429,  792208.99341481,  667112.95266148,\n",
       "        710112.16292417,  552280.73116351,  682226.19839557,\n",
       "        692300.88222229,  583675.14009716,  536910.85709285,\n",
       "        584519.58340655,  588358.8803695 ,  849240.52125654,\n",
       "        606592.66751081,  549358.79360389,  453453.77710619,\n",
       "        596450.21792315,  543514.49387718, 1879023.41282102,\n",
       "        706389.81594423,  537683.03233666,  668097.53040661,\n",
       "        759057.01832945,  509926.14273076,  682081.38678131,\n",
       "        626275.75545141,  559268.09282505,  530686.77435101,\n",
       "        519833.87599995,  679773.92737162,  558375.36635048,\n",
       "        771068.72847886,  538452.50299943,  644977.10447533,\n",
       "        620816.07461974,  774690.60512976,  814877.11059352,\n",
       "        638899.69080077,  474686.55036565,  602423.84983374,\n",
       "        541305.49278587,  535060.47770745,  562135.25625624,\n",
       "        685181.64886374,  509833.67662991,  521232.00532307,\n",
       "        561421.38921631,  590425.87046076,  799091.65779027,\n",
       "        760117.14376389,  630343.87662212,  550815.75369781,\n",
       "        506659.28002633,  620709.51397642,  669736.77890234,\n",
       "        549687.20090851,  545538.25699643,  767379.12351888,\n",
       "        483828.25717048, 1726647.12968313,  531175.15942147,\n",
       "        537659.67053136,  610694.3772997 ,  934423.58129562,\n",
       "        486843.82270968,  737730.98237972, 1023137.09991347,\n",
       "       1040218.32839463,  619764.94552343,  720972.02697994,\n",
       "        586281.67908825,  520728.7289901 ,  560352.83082431,\n",
       "        914983.51595871,  768318.32650853,  606193.02550493,\n",
       "        567974.4893127 ,  610895.01448831,  546095.65572524,\n",
       "        506830.3055844 ,  765739.98097593,  620096.39544107,\n",
       "        662606.66340983,  541397.16978579,  531603.86291255,\n",
       "        628241.62910413,  507407.37687346,  592128.35704996,\n",
       "       1003406.42185118,  543677.9782707 ,  968763.7876772 ,\n",
       "        632423.84113068,  547700.46968016,  716112.86876297,\n",
       "        914848.8644447 ,  699522.33972397,  584849.0342699 ,\n",
       "        542233.21826537,  507332.78675845, 1047818.62867206,\n",
       "        676157.49553627,  636428.09032988,  633646.82670469,\n",
       "        488431.27481411,  719687.88141986,  700553.03287783,\n",
       "        738251.52644455,  645902.6089113 ,  660729.68698035,\n",
       "        595418.31496372,  563925.03300274,  633055.93500144,\n",
       "        556434.67925605,  613952.4905861 ,  477031.25787928,\n",
       "        770076.26892229,  491813.19299544,  545209.37085399,\n",
       "        633019.574735  ,  551511.23296998,  792229.91040431,\n",
       "        625082.25860441,  674530.15826407,  983470.56802158,\n",
       "        662462.76000705,  715281.01236961,  616317.32722966,\n",
       "        482983.36912387,  555182.71945123,  738723.41959101,\n",
       "        682893.45626976,  786449.32618526,  558510.25840303,\n",
       "        535935.85525802,  500318.44119833,  588416.09176433,\n",
       "        634204.07946136,  527990.3751083 ,  639581.75573158,\n",
       "        515506.37518264,  474385.21010817,  501714.3773462 ,\n",
       "        577973.63125676,  471135.09543576,  717849.1811577 ,\n",
       "        631601.61189708,  616802.3381224 ,  606213.95093041,\n",
       "        533342.15792773,  697002.75903676,  751184.51177324,\n",
       "        619923.22101858,  554606.73625526,  527921.07588249,\n",
       "        567050.01604501,  581263.57936028,  725554.35047516,\n",
       "        623061.13706377,  567594.77654068,  812713.34645806,\n",
       "        563960.893947  ,  491668.43696756,  593063.9280207 ,\n",
       "        579267.02631025,  637327.3168305 ,  567356.28650251,\n",
       "        670355.15730333,  486218.97674931,  947990.7046564 ,\n",
       "        809002.04450422,  580323.20790539,  716509.64366658,\n",
       "        499105.99858029,  631556.65611239,  740861.1441391 ,\n",
       "        719357.84887599,  445037.01862741,  769042.44540261,\n",
       "        602478.97575832,  750404.85109788, 1582789.68756436,\n",
       "        644392.77190546,  645636.72174407,  568988.24309645,\n",
       "        537907.47909129,  507820.65825479, 2155260.72455356,\n",
       "        588617.52816565,  791136.80816951,  555599.51334664,\n",
       "        704704.0051144 ,  702133.33526265,  551955.92255755,\n",
       "        601291.44949904,  771302.34653274,  549052.02508541,\n",
       "        608219.37579815,  471518.25291642,  472307.4164953 ,\n",
       "        813470.57579925,  638152.42960467,  656930.22982171,\n",
       "        662618.24307475,  474634.52977724,  501311.41659801,\n",
       "        549300.58689475,  588275.84499785,  550102.63450278,\n",
       "        770755.07467665,  563489.93711062,  641379.18703978,\n",
       "        966192.13343454,  823679.78541541,  527260.67302009,\n",
       "        771117.19642143,  597058.84661067, 1255260.5780927 ,\n",
       "        595349.27350197,  719871.43872157,  458615.68740074,\n",
       "        604186.56103574,  604361.65283078,  497862.64194554,\n",
       "        652588.24411032,  504352.60117253,  672419.16268075,\n",
       "        549412.85288473,  568191.54597841,  668085.85870932,\n",
       "        571033.38754995,  765209.83235571,  778548.23784828,\n",
       "        528470.50509095,  561443.77790855,  615259.93299211,\n",
       "        542717.53660627,  671574.79626224,  554769.00090606,\n",
       "        592072.36068764,  567264.36735443,  636138.28724384,\n",
       "        518080.59662549,  509568.97581157,  734689.63825987,\n",
       "        676715.08856826,  635065.43635393,  686569.93712728,\n",
       "        702371.1338516 ,  510115.40905086,  526879.77039235,\n",
       "        655565.46548557,  656965.45266963,  689089.26696751,\n",
       "        673842.83904287,  572097.90769666,  586890.50488216,\n",
       "        684570.36714724,  882455.82015555,  453980.25426905,\n",
       "        444542.27001732,  742635.49827066,  738342.80155526,\n",
       "        450534.2488315 ,  629567.63952151,  589816.58630262,\n",
       "        548376.74667681,  626926.46989077,  658318.79800671,\n",
       "        633076.56219477,  553122.1741131 ,  712949.99821663,\n",
       "        603732.67751867,  666654.29934738,  585186.48112296,\n",
       "        640707.2030408 ,  508432.36660076,  482179.7673563 ,\n",
       "        867441.22272474,  624213.03275526,  519046.41732543,\n",
       "        723717.76056354,  459101.54443329,  467567.07306872,\n",
       "        631973.7213055 ,  588392.42270429,  491532.70553155,\n",
       "        948001.30130745,  589228.18427268,  764475.4224799 ,\n",
       "        658492.8799694 ,  495671.87293408,  537712.61863586,\n",
       "        562743.3079035 ,  554217.12388968,  666969.42603198,\n",
       "        530917.76570186,  550291.49302468,  756215.39196336,\n",
       "        698766.60335102,  512052.61056994,  633019.574735  ,\n",
       "        773109.05377065,  459828.31852154,  601722.25446252,\n",
       "        812603.10455497,  526338.40899609,  568234.95731155,\n",
       "        881864.74392834,  524526.45016066,  829957.7105478 ,\n",
       "        796685.70262875,  601289.18652971,  768710.96564416,\n",
       "        732695.29199778,  589263.87573559,  588443.55667178,\n",
       "        568003.8153368 ,  511811.1370899 ,  606619.77729978,\n",
       "        492077.21997391,  663986.62958763,  710524.05908017,\n",
       "        573174.80933556,  499337.20968635,  710221.340524  ,\n",
       "       1027335.57567885,  522999.95430961,  701008.39997713,\n",
       "        544023.49429141,  537903.50578015,  721861.03505111,\n",
       "        493173.59605318,  565258.17313223,  507309.26495379,\n",
       "        505497.48546548,  514084.98740257,  637343.73284219,\n",
       "        589842.94674346,  528598.12605523,  850174.91418168,\n",
       "        603591.27737358,  623681.98735096,  620122.91143448,\n",
       "        690938.35589013,  576776.99823146, 1049746.13385808,\n",
       "        668227.40317708,  601740.81414941,  962745.86627921,\n",
       "        910032.77671813,  550913.53561875,  589761.41982888,\n",
       "        658469.28487995, 1001339.13784965,  670487.94990187,\n",
       "        815696.31087924,  696665.80747309,  685602.2096864 ,\n",
       "        575444.05532752,  880250.48079725,  515296.47976472,\n",
       "        727930.4425812 ,  476102.09138463,  626794.55294921,\n",
       "        793966.45780177,  567753.8866919 ,  956684.38175274,\n",
       "        654739.37387704,  556377.28752164,  766707.14507287,\n",
       "        530886.8294239 ,  594095.54876455,  566966.37948741,\n",
       "        684021.335719  ,  585469.07046894,  570027.57506931,\n",
       "        604097.14978679,  636557.39352107,  489912.52989414,\n",
       "        612100.21409841,  620088.82557139,  569172.08317677,\n",
       "        476965.01500809,  826081.80583458,  536727.81779427,\n",
       "        619209.65701578,  614749.81833963,  556824.7654523 ,\n",
       "        685023.92062428,  735138.55277492])"
      ]
     },
     "execution_count": 126,
     "metadata": {},
     "output_type": "execute_result"
    }
   ],
   "source": [
    "predictedPrice_1 = mv_1.predict(Xt1_sub)\n",
    "predictedPrice_1"
   ]
  },
  {
   "cell_type": "code",
   "execution_count": 127,
   "metadata": {},
   "outputs": [
    {
     "data": {
      "text/plain": [
       "array([12.94514359, 10.89619599, 13.33100727,  7.95194735, 21.47527691,\n",
       "        4.12944679,  5.93422719,  0.97243381,  9.58172677, 15.7153175 ,\n",
       "        6.19441417, 14.57600338, 16.46793087, 13.33339134,  8.22604184,\n",
       "        4.06090643,  0.99576433, 10.94669543, 10.19757196, 14.4296873 ,\n",
       "        8.26743597,  5.18755739, 12.76025333, 12.83982492,  3.99649459,\n",
       "       13.04644925,  0.14967908,  9.32887384,  7.56338013, 10.9727089 ,\n",
       "        4.28687259,  3.42945743,  9.94645161,  7.90795152,  5.0215861 ,\n",
       "       16.29006177, 18.36253785, 15.02210285,  8.03899187, 16.57866624,\n",
       "        1.1871201 ,  6.14748647,  1.24529583,  6.9570812 ,  7.99923604,\n",
       "       46.14244386,  1.65047962, 12.18709632, 11.04531755, 23.92011726,\n",
       "        6.51253076,  6.17697973, 16.84857779, 11.72685876, 10.41853058,\n",
       "        7.09368095,  8.81850831,  1.4832654 ,  9.04197095, 20.71382771,\n",
       "       11.46067162, 11.8347074 ,  5.82569937,  5.72728606,  6.48503339,\n",
       "       12.49880165,  9.7784955 ,  2.77002286,  3.9801917 ,  3.72721912,\n",
       "       20.88433287, 15.1727961 , 42.60913242,  0.78995834,  4.83236393,\n",
       "       47.84975003,  7.581791  ,  5.25001245,  9.8259376 , 14.8128976 ,\n",
       "        4.69814962, 10.13298597, 11.03008761,  6.79969967, 13.46238972,\n",
       "        2.39914739, 12.69742161,  7.9496719 ,  9.48324917,  0.08935044,\n",
       "       10.13441963,  4.24265533, 13.87392648,  1.09325728,  2.94384038,\n",
       "       26.96104141,  5.81469121,  1.06026694,  4.14669578, 16.77800282,\n",
       "        5.13001996, 27.491848  , 16.38507938,  4.07065303,  8.02655557,\n",
       "        3.37660297,  0.7072485 ,  0.29011315,  9.81652298,  2.56238152,\n",
       "        7.86041365,  0.13162494, 25.96595205, 32.50034319,  1.70773988,\n",
       "       15.23454458,  0.40397497,  0.24175792,  2.71627678,  2.76695727,\n",
       "        5.49218636,  8.95827203,  7.33653239,  4.03053176,  5.05798407,\n",
       "       11.21203802, 25.63919732, 17.60146952, 12.25010336, 15.41228265,\n",
       "       11.95609731,  7.15788462, 13.70687584,  5.12378139, 13.68579608,\n",
       "       16.58133497, 43.88726081,  7.6217114 ,  8.87124228,  8.16625905,\n",
       "        2.66421028, 10.57240582, 13.49707421, 27.89213749, 38.69577712,\n",
       "       12.68453555, 31.08582309, 13.14345495,  7.01272697,  8.88571857,\n",
       "        8.31828497,  4.55672963, 14.62070063, 11.36754692,  9.98972193,\n",
       "       15.9723564 ,  7.84903535, 12.34448078,  8.13386734,  7.74092088,\n",
       "       13.37645283,  6.32077258,  7.61152513, 11.7552388 ,  7.47994421,\n",
       "       14.8211866 ,  2.91464674, 16.71852864,  9.65373698,  4.32389899,\n",
       "       59.13619306,  0.88311328, 10.31764875,  7.89778988, 13.65713085,\n",
       "        8.09188646, 46.54805995,  0.92930468,  8.32818559, 18.4386592 ,\n",
       "       15.05543047,  8.22110435, 36.02971512,  8.85783624,  5.88567359,\n",
       "        0.41484605,  6.23333623, 13.37557097,  8.11960305, 11.67703504,\n",
       "       16.94333154, 16.31030564, 10.01089556, 10.57941946,  5.18097898,\n",
       "        6.21932226, 13.82636985, 27.77901781, 14.95479475,  7.92482532,\n",
       "        3.58131686,  3.99090435, 37.55404084,  7.66781615,  1.25437508,\n",
       "        2.43223606,  1.89288546,  7.08932568, 16.33517807,  1.54731971,\n",
       "       13.55873302, 13.34976772,  6.50065009, 15.42817983, 13.79748978,\n",
       "       20.90392358, 10.96608373, 16.48147709,  8.77920412,  7.03215394,\n",
       "       11.93736534, 13.85395419,  9.84375859,  2.47588273, 13.31101887,\n",
       "       16.00910899, 26.15434553,  9.49584196,  1.62675754,  2.70057259,\n",
       "       10.52185155,  3.88982779,  8.64739801,  7.4895334 , 13.46373096,\n",
       "       14.51885895, 13.07878648,  2.53834435, 11.64987656,  4.34452774,\n",
       "        9.29566534,  6.27539458,  8.0678641 ,  0.68812484, 12.39297716,\n",
       "       10.56691466, 41.43392386,  5.09841244,  3.02079708, 10.87392882,\n",
       "        7.80194801,  2.89738113, 12.39966389, 15.23104407, 13.09447727,\n",
       "        2.81029589,  7.20069301, 33.56875001, 11.72701755, 15.60304291,\n",
       "        1.04552294, 18.22142398,  7.66897123, 13.61680463, 13.94480582,\n",
       "        8.37490523,  7.90435295,  4.12190407, 26.51051086, 11.33238192,\n",
       "        1.26577184, 17.75608344,  6.94033473,  0.53212823, 14.26940856,\n",
       "       12.53566361,  9.61438047,  6.15405447,  0.16257905,  6.87391017,\n",
       "       12.91109545,  5.05465595,  2.4332883 ,  5.11679919,  9.81924025,\n",
       "        1.81464017,  8.37561998,  1.32627892, 42.08707845, 49.75996098,\n",
       "       10.63378423, 19.55305371,  4.56188974, 39.47339757,  2.40175844,\n",
       "       25.19503282, 15.071169  ,  4.17009673,  6.15502285, 14.60332042,\n",
       "        1.96691314, 15.94123314,  5.06549417,  8.43119119,  2.87324   ,\n",
       "       12.09396596, 12.68602637,  2.98921028, 21.64816216,  6.46539733,\n",
       "       13.49094331, 12.72908752,  4.78639709, 18.65279086, 11.23695986,\n",
       "        5.72720727,  3.13897588, 17.80338653, 15.06875465, 12.14328003,\n",
       "        5.71073932,  5.73673259,  9.26340386, 16.4104932 ,  3.3877395 ,\n",
       "        6.40084238,  8.20909923, 14.0113853 , 21.66026901,  1.62894119,\n",
       "       10.15428813, 15.86795475,  8.9406478 , 26.9839301 , 53.47057742,\n",
       "       15.14387771, 15.3252819 ,  6.10594346, 13.23821368, 16.5677317 ,\n",
       "       15.49427657, 15.61994473,  6.26038518,  1.11717256,  3.89506598,\n",
       "       11.06606354,  7.40236391, 10.88125022, 15.67979364,  6.76163645,\n",
       "        8.20604218, 23.92789227,  4.96591278,  9.36470538, 12.65470425,\n",
       "       17.77604392,  5.62792412,  2.20030263, 14.58575918, 15.2958201 ,\n",
       "        6.93294777, 11.11896938, 13.00306097, 38.39435056,  7.62158617,\n",
       "       37.74331937,  4.41136799, 12.88719281,  2.78518894,  3.80456275,\n",
       "        0.7667498 , 15.99468279, 11.32897441, 10.95606909, 19.0890381 ,\n",
       "        5.57208063,  6.6776272 ,  6.21932226, 19.12312077,  9.8375846 ,\n",
       "        2.85850504,  7.65873812, 13.99699199,  5.29417378, 11.6284486 ,\n",
       "        6.33456247,  5.63579581,  2.79815518,  9.87468004, 13.04573024,\n",
       "       35.18363321,  5.2256921 , 13.46418284, 10.40949285,  8.44165705,\n",
       "       11.44236828, 15.1591    , 16.16281133,  4.48883222,  3.66809927,\n",
       "        5.78543213, 14.55182912, 10.66647168, 12.83334095, 10.12712821,\n",
       "        3.71265588, 12.61089996, 11.05554385, 12.32469403, 13.70104227,\n",
       "        6.9157312 ,  7.4517739 , 14.17612898,  7.22798649,  9.11510836,\n",
       "       12.77258646, 30.99767553, 16.74603071, 11.53446988,  9.47110782,\n",
       "       20.16319233,  9.68824669,  4.56853329, 10.90301291,  7.70846409,\n",
       "        2.45735904, 10.97960692, 16.65453319,  4.87719035, 11.61486109,\n",
       "        8.25287977, 12.87675924,  5.25113689, 16.06436055,  9.69635355,\n",
       "        0.7855077 , 61.51384969,  8.79708323,  6.07349128, 11.83294604,\n",
       "        9.96395666, 36.89076859,  6.15638236, 50.65895776, 13.8677172 ,\n",
       "        0.24815991,  7.0658006 ,  0.76881693,  3.320965  , 16.00498082,\n",
       "        4.43073828,  4.17599119, 12.16832433, 42.14050583,  9.32230862,\n",
       "        6.68332764,  3.6062655 ,  4.12910589,  8.62062656, 13.43647641,\n",
       "        1.94874708,  3.29228508,  7.688636  , 12.11582297, 14.33465147,\n",
       "       16.10574926, 22.52309213])"
      ]
     },
     "execution_count": 127,
     "metadata": {},
     "output_type": "execute_result"
    }
   ],
   "source": [
    "predictedaccuracy_1 = accuracy(yt1_sub, predictedPrice_1)\n",
    "predictedaccuracy_1"
   ]
  },
  {
   "cell_type": "code",
   "execution_count": 128,
   "metadata": {},
   "outputs": [
    {
     "data": {
      "text/plain": [
       "11.270707455369715"
      ]
     },
     "execution_count": 128,
     "metadata": {},
     "output_type": "execute_result"
    }
   ],
   "source": [
    "np.sum(predictedaccuracy_1)/predictedaccuracy_1.shape[0]"
   ]
  },
  {
   "cell_type": "code",
   "execution_count": 129,
   "metadata": {},
   "outputs": [
    {
     "data": {
      "text/plain": [
       "array([ 883842.20146522,  587295.80211632, 1278316.67484302,\n",
       "        961820.91938168,  707721.67511703,  723235.48522927,\n",
       "       1622744.7922773 ,  556800.53513922,  860465.11358144,\n",
       "       1031532.66363974,  817066.51538534,  797448.21548707,\n",
       "        660744.19571903, 1053140.34852616,  475474.16975432,\n",
       "       1140943.95948774,  735173.325014  ,  624011.16712834,\n",
       "        471155.11891865,  715284.92475399, 1074250.29055683,\n",
       "        575226.83908405,  661719.00916037,  633418.70315542,\n",
       "        662790.38643296,  792011.08773168,  647553.63767452,\n",
       "        759550.46830972,  826916.05286354, 1084362.03939809,\n",
       "        855738.25447045,  714957.36984507,  671902.88169928,\n",
       "        669758.15932168,  708175.4449655 ,  643385.84098984,\n",
       "       1103197.62057816,  899567.1650206 , 1813547.36363765,\n",
       "        797098.13354888, 1223250.55604715,  680243.69327845,\n",
       "        832283.13140819,  487290.43266256,  683069.10876186,\n",
       "        630093.29175701, 1203387.42662922,  552007.62355089,\n",
       "       1072168.58248101,  801487.60362176,  552000.62204422,\n",
       "        506111.12511997,  792976.14085501,  677411.11836194,\n",
       "       1124819.91563279,  955325.09011844, 1345955.07693363,\n",
       "        693972.784943  ,  667810.66864599,  751297.54360037,\n",
       "        957007.67417967,  714123.76302648, 1163451.69604751,\n",
       "        927164.38905235,  768679.40823356,  669166.93813564,\n",
       "        618843.23858557,  536799.57544926, 1497806.12628265,\n",
       "       1220329.25621193,  995457.04116553,  983881.85250867,\n",
       "        654429.12649465, 1014469.31050522,  612679.75619897,\n",
       "        566622.41732868,  771893.93602009, 1067951.07369471,\n",
       "        707877.66871716,  605668.6648765 ,  794448.11084467,\n",
       "        641725.3350375 ,  631298.9523853 ,  742809.23408513,\n",
       "        719260.06882002, 1323356.35094549,  632804.02709225,\n",
       "        611127.65526018,  469437.97615555,  441177.23109258,\n",
       "        657983.03686463, 1172662.3311374 , 1198471.89156242,\n",
       "       1052816.79107187, 1146219.28410992,  839318.47080545,\n",
       "        829559.32555936,  667000.23315098,  897912.03618305,\n",
       "        820456.9728317 ,  832420.91253171,  611012.95096243,\n",
       "        631097.94327678,  639602.45646033,  908490.20466516,\n",
       "       1049887.94308658,  487510.91651883,  796647.19095813,\n",
       "        629785.04303226,  708781.66301395,  865075.85695242,\n",
       "        878664.70862484,  856621.24087887,  794805.97128762,\n",
       "        827249.90013669,  688639.87355588,  643169.2168537 ,\n",
       "        875796.51400704, 1572030.13343763,  915238.15556539,\n",
       "        722417.86900354, 1014644.00659286,  807576.73159707,\n",
       "        764144.28823174,  813305.89240664,  615829.62009147,\n",
       "        942459.92364111,  666787.75217212, 1532641.57416592,\n",
       "        806876.46694563,  826105.45999684,  649009.42359305,\n",
       "        731712.56470029,  575241.20570137,  743194.66259619,\n",
       "        483087.11811373,  755166.60231491, 1206145.03930881,\n",
       "        733762.20370815,  786312.94379805,  654638.82730915,\n",
       "       1376423.3594802 ,  607517.66609934,  716119.64176786,\n",
       "        876776.14907994,  765252.49817699,  795303.13036834,\n",
       "        847846.44454416, 1622688.34468983,  829956.88996364,\n",
       "       1144542.25398938,  686162.37202406,  598386.3303318 ,\n",
       "        843188.4549537 ,  621721.40340101,  858821.6271969 ,\n",
       "        580995.09786353, 1030573.383764  ,  627477.52383481,\n",
       "        825477.48350011,  708727.35817873, 1196680.95642738,\n",
       "        801426.36902262,  622142.45359249,  741548.60693375,\n",
       "        725601.13687678,  904506.22490345, 1089390.51629902,\n",
       "        529097.56299241,  641816.86350087,  962053.73987853,\n",
       "        570288.84049563,  852517.7084357 ,  827884.92197762,\n",
       "        627554.53983176,  803427.3892105 ,  748763.1606342 ,\n",
       "       1003607.13408111,  570151.0963831 ,  697228.99640089,\n",
       "        727204.30114921,  644388.17452916,  818601.78169493,\n",
       "       1305906.96263883,  538189.24641394,  744865.37016976,\n",
       "        861125.96463752,  840180.24363633,  598910.96432605,\n",
       "       1459316.48952168,  572872.71719025,  721935.51736235,\n",
       "       1114777.72649332,  867282.52493515,  791888.47396366,\n",
       "        720352.41875699,  655119.33831422, 1425091.59882202,\n",
       "        545554.67338841,  630194.09343989,  605808.37974791,\n",
       "        520594.21472859,  839811.94562059,  657640.54067872,\n",
       "        617220.48143593,  610447.79320404,  884516.55201589,\n",
       "        529543.29420964,  752723.16773189,  715544.51204223,\n",
       "       1375250.07831586,  912075.16920114,  558084.82987422,\n",
       "        989395.43489443,  600937.6412771 ,  626111.96317986,\n",
       "        824184.40778117,  895783.17246845, 1177381.29686612,\n",
       "        715867.69454325,  731033.81178083,  823988.83353069,\n",
       "        652679.3264911 ,  998633.35808502,  589710.03125656,\n",
       "        687328.89947152,  705749.30862283,  942227.54767504,\n",
       "        778258.24230653,  743690.30925233,  602279.05033365,\n",
       "        714220.88233948, 1056519.42666763,  717798.40495652,\n",
       "        708279.68190104,  671245.68249822,  780876.94688188,\n",
       "        845055.94393376,  829815.30047624,  549833.56756819,\n",
       "        731699.17034881,  628556.66745817,  717323.43442328,\n",
       "        687179.01291281,  716336.68354862,  829871.88379139,\n",
       "        621572.91248682,  588052.78213362,  754525.2712791 ,\n",
       "        864396.69969313,  601592.0359584 ,  616352.19677236,\n",
       "        863070.45931243,  788043.21378231,  979682.98899459,\n",
       "        640116.38038442, 1036481.82872955,  831865.7849425 ,\n",
       "        729715.70031259, 1742698.73753576,  662175.46449586,\n",
       "        787366.77097456, 1081004.159334  , 1024596.55280708,\n",
       "        692829.78513332,  903810.04388633,  800766.26616016,\n",
       "       1104789.91766376,  657294.57668991,  635491.37002266,\n",
       "        647834.069246  ,  678079.41761951,  660755.8750164 ,\n",
       "        956924.33023052,  591495.11916977,  682228.91797208,\n",
       "        659215.23143123,  540857.17508054,  570040.75269859,\n",
       "        611785.6450608 , 1035716.1682856 ,  583618.18314718,\n",
       "        784686.96452995, 1013405.04558767, 1466301.73246437,\n",
       "        738465.24490646,  813541.8812907 ,  541025.68000193,\n",
       "       1154815.48902659, 1143085.83475307,  678892.42272803,\n",
       "       1030762.95250118,  717320.55909275,  815407.82896679,\n",
       "        892324.30611156,  711621.84927588,  811133.9701927 ,\n",
       "        798372.127506  ,  706953.21622139,  722551.0605547 ,\n",
       "        708594.86206998,  578879.64039843,  892529.13226877,\n",
       "       1236009.39567036,  606025.07009155,  654369.2447761 ,\n",
       "        816228.80633074,  835700.97249919,  777475.16767532,\n",
       "       1041111.50443501,  684547.50901733,  695434.96026846,\n",
       "        887526.54277794,  609780.59048741,  659952.09583886,\n",
       "       1226222.43146674,  986164.90743376,  769897.27520413,\n",
       "        993023.13409013, 1067921.30599075, 1003839.56177577,\n",
       "        842824.71587586, 1189279.42702553,  638555.33576064,\n",
       "        596067.08495758,  631516.36794549,  843709.71538234,\n",
       "        943364.45396175,  892669.58834369,  627427.34537962,\n",
       "        767161.40473846, 1231786.26076238,  893910.30941076,\n",
       "        626519.38088616,  605028.28089432,  733873.92060885,\n",
       "        874718.69792783,  822577.67053257,  952400.58303012,\n",
       "        843755.96602932,  820194.76806878,  811819.59653752,\n",
       "        691889.57525091, 1311620.34527809,  593628.74404434,\n",
       "       1179938.96287893, 1011465.39561266, 1064482.18602195,\n",
       "        628625.32976476,  454169.49679195,  843385.55005558,\n",
       "        544844.49846143,  783657.29946633, 1226719.4339775 ,\n",
       "        666330.26022852, 1056546.19311324,  894708.44964956,\n",
       "       1064423.29233592,  777336.49674239,  872490.45865617,\n",
       "        962701.58702458,  859489.92008373,  911593.35628345,\n",
       "        579434.77211377,  944356.38045608,  753545.51103651,\n",
       "        662397.32348893,  958167.65131445,  922750.5131567 ,\n",
       "        651905.99613134, 1018399.8854398 , 1062096.36927651,\n",
       "        537713.7322819 ,  797381.91205533,  617474.91295254,\n",
       "        600872.22600575,  787499.54223931,  659190.56689504,\n",
       "        512831.18329641,  812033.0335848 ,  765821.40879139,\n",
       "       1111891.84162936,  689876.47063687,  778009.65821426,\n",
       "        785051.80486409,  586726.96515128,  519880.24082092,\n",
       "        942810.27318281,  785650.55690148,  976959.54562969,\n",
       "        821513.16890247,  495208.80603728,  856228.8706889 ,\n",
       "        611543.70980647,  795247.53365358,  714071.16653033,\n",
       "        937292.43215127,  748171.15479501,  941089.8686276 ,\n",
       "        628299.69204609,  553304.74938959,  875563.08754484,\n",
       "       1182433.15272369,  971016.01352354,  644582.23158005,\n",
       "       1031068.33989481,  692608.82291885,  494667.18522354,\n",
       "        779910.45206718,  706172.81897019,  826316.40552443,\n",
       "        584392.33898941,  704296.11795335, 1059672.18093023,\n",
       "        792503.68497077,  821332.63982726, 1011135.94337428,\n",
       "        658970.71560511,  613623.63737197,  559286.59544622,\n",
       "        723444.09845446,  752215.68296476,  707101.75287982,\n",
       "        827558.43697184,  932002.02476626,  874166.62310457,\n",
       "        975170.75973683,  927536.04176137,  971312.78489523,\n",
       "        905691.20489812,  697460.59125734,  755886.44653967,\n",
       "        771421.37097941,  603013.17745276,  817261.40794896,\n",
       "        742041.40297868,  859530.97106209,  706886.87841179,\n",
       "        891866.72353771,  652572.27145574,  994120.70782145,\n",
       "        868121.34172287, 1627863.49694603,  570536.33253362,\n",
       "        611935.83693546,  608057.43429981,  604750.85401909,\n",
       "        738611.41913767,  833218.05640269,  701959.41192421,\n",
       "        787781.58028593,  855810.23494579,  851512.07206151,\n",
       "        629782.58059305,  627675.24136768,  843305.48796099,\n",
       "        662201.91683956,  642934.64984649,  629109.1959346 ,\n",
       "       1246649.24883621, 1300586.41970808,  801450.88058705,\n",
       "        810373.99705093,  825946.40198019,  637281.45336471,\n",
       "        524736.20960397,  988930.58541516,  891231.91951691])"
      ]
     },
     "execution_count": 129,
     "metadata": {},
     "output_type": "execute_result"
    }
   ],
   "source": [
    "predictedPrice_2 = mv_2.predict(Xt2_sub)\n",
    "predictedPrice_2"
   ]
  },
  {
   "cell_type": "code",
   "execution_count": 130,
   "metadata": {},
   "outputs": [
    {
     "data": {
      "text/plain": [
       "array([ 0.13082469, 11.01578756,  2.34721176, 11.83964179,  4.84765557,\n",
       "       15.71767764,  1.73948541,  2.31569559, 14.72868181, 19.09547736,\n",
       "        0.947185  ,  7.90909547,  4.9640355 ,  3.3372787 , 14.32897842,\n",
       "        7.13088821,  0.77770048, 10.05487956, 12.06790398, 16.30649183,\n",
       "       13.07897795, 10.62054598,  5.87504147, 15.16703694,  8.65416171,\n",
       "       20.87801321, 12.19433105,  4.04800936, 10.84463042,  3.76670233,\n",
       "        3.30641192, 11.71208904,  4.01387404, 17.23405554,  0.95448322,\n",
       "        8.087737  ,  5.56915029, 10.37633927,  3.55257796, 11.48225644,\n",
       "       16.50005296, 10.07179503,  0.32537348,  8.05840893,  9.2910574 ,\n",
       "        9.58144204, 17.17911723,  4.8262718 , 19.68774663, 12.88557797,\n",
       "        4.663105  , 15.64814581, 16.61413836,  1.8244756 ,  1.33512753,\n",
       "        3.83968371,  9.87388383,  4.35680977,  5.16703443, 10.45321292,\n",
       "       16.70825295, 16.11768504, 10.94386742,  9.10153049,  2.69880908,\n",
       "       19.03606314,  1.77091451,  1.91558456, 11.89375728,  6.12851875,\n",
       "        3.88660595,  1.43111882, 14.81212746, 14.62930062,  7.01829803,\n",
       "       12.82732041,  4.68558626, 19.39991897,  4.98286326,  0.94477748,\n",
       "        0.56305201, 10.64229914, 15.83467016,  2.45644608, 16.00968852,\n",
       "        2.18967961, 15.62612972, 11.62148955, 14.87870632, 14.33451823,\n",
       "        5.95540046,  7.5837001 ,  7.8098545 , 19.93106705,  9.86267723,\n",
       "       11.89092852, 10.60791007,  1.83209666,  1.87354258,  3.86846092,\n",
       "        2.13753528, 13.94183789, 14.7450806 ,  1.59962208,  2.07755109,\n",
       "        3.68000522,  2.4978167 ,  4.13688771,  4.96417384,  4.31063357,\n",
       "        9.08791046,  0.99594352,  2.10042961,  7.84858304,  8.08334443,\n",
       "       10.18237977,  3.21005013,  9.47456425,  7.52763921, 13.24756819,\n",
       "        6.64228506, 16.62574788, 12.16343494, 13.20656122,  1.66323655,\n",
       "        2.24926665,  4.71776929,  7.74191108,  8.4990105 ,  0.99675252,\n",
       "       21.32328952,  8.59022203,  6.04529923,  2.50149056,  6.86783677,\n",
       "        7.98340607,  3.18376893, 11.16544141,  1.06917406, 13.13855306,\n",
       "        8.20476484,  5.87871996,  4.3279266 ,  1.224877  ,  8.07718325,\n",
       "        7.782042  ,  2.61975876, 15.35325776, 10.01276913,  5.72699235,\n",
       "        1.7560297 ,  9.71547737,  8.79751461, 18.3352586 , 16.20960811,\n",
       "        9.59772345,  5.63547234, 14.50815375, 16.33633016,  0.66798579,\n",
       "       17.14501788,  4.26552349,  7.57400926, 10.1137086 ,  1.12685241,\n",
       "       14.62893158, 21.34728479, 13.95298288,  3.80044309,  7.86838042,\n",
       "       11.86671394,  6.66303756, 15.20509573, 15.95076934, 16.21380367,\n",
       "        7.59892016, 12.59596401, 16.36607216, 16.35736661, 11.55663942,\n",
       "        1.70689527, 15.06931688, 10.32369026,  9.93745085, 21.4322268 ,\n",
       "       16.76551903, 16.05471222,  5.06437925,  4.93476757,  4.23689211,\n",
       "       11.86573582,  5.39204633, 15.52100793,  0.31235346, 13.94078762,\n",
       "       10.82344904, 15.13520884, 16.33400807,  6.62467508, 14.83863602,\n",
       "       10.14697814, 19.90858235, 16.43662233,  9.15195696,  2.02849501,\n",
       "       10.99050786, 14.131168  , 13.1896239 , 15.42436318, 15.41040517,\n",
       "        5.80478916, 13.30126325,  0.5558252 , 10.54697597,  9.26138932,\n",
       "        7.9247113 ,  7.39501036, 11.97289656,  0.22192399,  5.42970465,\n",
       "       12.46674027,  2.99860419,  1.85273286, 13.61016588,  7.85780762,\n",
       "        1.07777933, 14.04621856,  4.69194974,  9.61383694,  2.14601194,\n",
       "       16.3501319 ,  5.81050109, 12.99673012, 10.43052384,  8.96610491,\n",
       "       14.25458426,  1.54446643, 14.20751838,  9.90931132,  2.77262945,\n",
       "        6.42897023,  6.71590279,  2.13868562,  6.50625675, 11.23142176,\n",
       "        8.19711653,  6.25177991,  1.99120298, 14.93149601,  8.45629858,\n",
       "        2.98323863, 16.29286732,  6.29352344,  2.62776763,  7.89460231,\n",
       "        9.8912241 , 12.05208959,  1.55434498,  9.89694282,  4.50965822,\n",
       "        0.10929786,  9.35649597, 19.17725912,  1.48110069,  7.62269532,\n",
       "       16.62065082,  0.09578327,  6.74298721,  6.10077476,  8.63100342,\n",
       "       17.34175926, 12.07924258, 13.92342673, 11.72496558, 12.66573698,\n",
       "       13.70481966, 12.10463581,  5.93788259,  0.86247779,  5.87913153,\n",
       "       14.19141877,  4.06440936, 12.90459921, 11.30594876, 16.21132957,\n",
       "       13.61003768,  9.32193   , 14.12290794,  1.92649775,  5.91886134,\n",
       "       16.04998679,  8.50136342,  3.95950132,  1.60845221,  7.53115999,\n",
       "       14.77582643, 10.35836329, 13.8757144 ,  6.79051605,  9.4935428 ,\n",
       "        6.55561836,  0.17595441, 11.56614153,  1.74806076,  7.47708854,\n",
       "       16.85165085, 11.75904796,  9.16293777,  0.95857737,  0.18106381,\n",
       "        6.96054828, 16.87982526,  7.57897488,  7.95764672,  2.8052878 ,\n",
       "        7.45491083, 17.05221453,  8.43623594, 18.93688701,  6.7921306 ,\n",
       "       16.34670319, 11.70639044, 13.26470734, 15.05501545,  8.37583363,\n",
       "        8.8821324 , 10.71854864,  0.69847853, 14.59173149,  6.07375069,\n",
       "        6.5501951 , 11.98056916,  5.16591875, 11.87846087, 12.66820873,\n",
       "       11.19301827,  5.17954494,  2.65353011,  4.7599417 ,  4.81440572,\n",
       "       11.59112491, 12.23571929, 10.70233204, 20.50785786,  4.69642752,\n",
       "        5.60488297,  6.47004164, 12.05075642,  4.77088829, 21.01400056,\n",
       "       16.29896407,  0.93736392, 16.0973777 ,  8.11090382,  7.47262262,\n",
       "        5.12897444,  9.11078654, 14.84613661,  2.61867944,  7.5261835 ,\n",
       "        6.37586597, 16.1472865 , 13.8069109 , 10.36852802,  2.13923519,\n",
       "       16.51102049,  6.49474654,  3.21538876,  4.37818517, 13.37495585,\n",
       "        1.83998854, 14.96426187, 13.27197866,  2.75830341,  7.83956523,\n",
       "       11.27263445, 12.49993461, 11.72721473, 14.8120958 ,  1.5717535 ,\n",
       "       11.79874581,  2.16525811,  4.18382352,  7.9278511 , 16.30397109,\n",
       "        2.0394722 ,  0.97519222, 15.46972115, 11.52583819,  0.56391393,\n",
       "       14.64753906, 16.77162924,  1.93200842, 13.24883515, 12.12734435,\n",
       "        3.48857486,  0.55252709,  9.22206639, 10.71645513,  7.40165676,\n",
       "        2.41538811,  9.47275413, 15.92481889, 16.4287786 ,  2.31463993,\n",
       "       19.13189491,  3.37445118, 15.4415068 , 16.57854291, 16.72278   ,\n",
       "        2.78630523,  8.62311134,  2.81695153,  9.24455474, 17.44753282,\n",
       "       12.51132052,  9.31199388,  1.64616185,  6.71715433, 15.25960675,\n",
       "        9.03452878, 14.14502018, 16.87632279,  7.61488127,  3.55578053,\n",
       "       21.24625017,  2.48292403,  4.45225696, 14.27209234, 16.11425704,\n",
       "       11.61155245,  8.76063979, 11.80019869,  7.93691947,  3.85159906,\n",
       "       11.16725138,  7.44137138,  8.75182745, 20.72295791, 14.48636341,\n",
       "       13.55472106,  2.13192256, 16.27596407,  4.4938338 ,  8.30722778,\n",
       "        5.74911901, 14.10393472,  3.44948769, 10.88576937, 17.18854957,\n",
       "       10.95515215,  0.68355705,  2.68433462,  6.56044798, 12.22313947,\n",
       "        4.36949108, 12.42816924, 16.89720906, 11.15003462,  7.00851921,\n",
       "       13.09447128,  6.86011741,  5.24337624,  5.05271848, 20.33981833,\n",
       "        5.45293521, 10.49503748,  1.85507652])"
      ]
     },
     "execution_count": 130,
     "metadata": {},
     "output_type": "execute_result"
    }
   ],
   "source": [
    "predictedaccuracy_2 = accuracy(yt2_sub, predictedPrice_2)\n",
    "predictedaccuracy_2"
   ]
  },
  {
   "cell_type": "code",
   "execution_count": 131,
   "metadata": {},
   "outputs": [
    {
     "data": {
      "text/plain": [
       "9.084270961031464"
      ]
     },
     "execution_count": 131,
     "metadata": {},
     "output_type": "execute_result"
    }
   ],
   "source": [
    "np.sum(predictedaccuracy_2)/predictedaccuracy_2.shape[0]"
   ]
  },
  {
   "cell_type": "code",
   "execution_count": 132,
   "metadata": {},
   "outputs": [
    {
     "data": {
      "text/plain": [
       "array([1413957.6137257 ,  762932.10305069, 1670491.18510968,\n",
       "       2037282.03077709,  965053.43952278,  895793.82519759,\n",
       "        965288.53939215, 1579104.30501361, 1777517.34555553,\n",
       "       1237992.6416868 , 1246269.97360697, 1137672.661854  ,\n",
       "       1354224.23839195,  866393.60985092, 2252295.10853337,\n",
       "       1111717.03273911, 1010771.88147398,  875213.74434641,\n",
       "       1284636.12653154, 1400405.81645054,  729229.13400481,\n",
       "        654310.58659203,  570147.57916539,  512063.13672748,\n",
       "       1263998.16958456, 1419594.57467188,  833894.90672904,\n",
       "        968313.90446808,  776042.27026294, 1006201.95771506,\n",
       "        886551.61278362,  600317.84404862, 1163035.24623372,\n",
       "       1466459.40422416, 1116729.47321916, 1308435.06785997,\n",
       "       1445871.58350858, 1474464.25223776, 2586614.01030894,\n",
       "       1039706.61288822])"
      ]
     },
     "execution_count": 132,
     "metadata": {},
     "output_type": "execute_result"
    }
   ],
   "source": [
    "predictedPrice_3 = mv_3.predict(Xt3_sub)\n",
    "predictedPrice_3"
   ]
  },
  {
   "cell_type": "code",
   "execution_count": 133,
   "metadata": {},
   "outputs": [
    {
     "data": {
      "text/plain": [
       "array([ 8.97553863,  9.77440332,  7.19493416,  2.11940004,  7.22815995,\n",
       "       14.25808273,  4.35551777,  9.76546828,  1.24903636,  0.24231916,\n",
       "        0.50564303,  8.34977732,  6.44392135,  3.73404335,  4.62652058,\n",
       "        8.99186595,  8.68514855,  9.40171804,  1.33363083,  8.13944529,\n",
       "       11.8449592 ,  1.60743059,  3.66319621,  6.8976115 ,  0.86288866,\n",
       "        1.03875976, 11.18598756,  0.15964538,  6.76771044,  0.13706487,\n",
       "        8.77933899,  0.4716057 , 10.53575029,  2.88348316,  2.89308929,\n",
       "       12.77099548, 14.94873038,  8.25728724, 13.77953299,  9.59072931])"
      ]
     },
     "execution_count": 133,
     "metadata": {},
     "output_type": "execute_result"
    }
   ],
   "source": [
    "predictedaccuracy_3 = accuracy(yt3_sub, predictedPrice_3)\n",
    "predictedaccuracy_3"
   ]
  },
  {
   "cell_type": "code",
   "execution_count": 134,
   "metadata": {},
   "outputs": [
    {
     "data": {
      "text/plain": [
       "6.361259292881984"
      ]
     },
     "execution_count": 134,
     "metadata": {},
     "output_type": "execute_result"
    }
   ],
   "source": [
    "np.sum(predictedaccuracy_3)/predictedaccuracy_3.shape[0]"
   ]
  },
  {
   "cell_type": "code",
   "execution_count": 135,
   "metadata": {},
   "outputs": [
    {
     "data": {
      "text/plain": [
       "array([4038018.09437966,  905687.27947512, 1383741.21210999,\n",
       "       1050997.07769434, 1293286.95030702, 2490582.27166622,\n",
       "       1744520.94198587,  924380.43666459, 1481631.41809716,\n",
       "       1445102.51326106])"
      ]
     },
     "execution_count": 135,
     "metadata": {},
     "output_type": "execute_result"
    }
   ],
   "source": [
    "predictedPrice_4 = mv_4.predict(Xt4_sub)\n",
    "predictedPrice_4"
   ]
  },
  {
   "cell_type": "code",
   "execution_count": 136,
   "metadata": {},
   "outputs": [
    {
     "data": {
      "text/plain": [
       "array([10.26626457,  2.5361298 ,  1.16134199,  4.45481112,  3.46295602,\n",
       "        6.8460863 ,  2.61887894,  8.75063961,  4.89340417,  7.04463061])"
      ]
     },
     "execution_count": 136,
     "metadata": {},
     "output_type": "execute_result"
    }
   ],
   "source": [
    "predictedaccuracy_4 = accuracy(yt4_sub, predictedPrice_4)\n",
    "predictedaccuracy_4"
   ]
  },
  {
   "cell_type": "code",
   "execution_count": 137,
   "metadata": {},
   "outputs": [
    {
     "data": {
      "text/plain": [
       "5.203514313398591"
      ]
     },
     "execution_count": 137,
     "metadata": {},
     "output_type": "execute_result"
    }
   ],
   "source": [
    "np.sum(predictedaccuracy_4)/predictedaccuracy_4.shape[0]"
   ]
  },
  {
   "cell_type": "code",
   "execution_count": 138,
   "metadata": {},
   "outputs": [
    {
     "data": {
      "text/plain": [
       "array([1758968.59891708, 3442651.8705201 , 1563112.11586649,\n",
       "       2304851.49322456, 1079610.67323523])"
      ]
     },
     "execution_count": 138,
     "metadata": {},
     "output_type": "execute_result"
    }
   ],
   "source": [
    "predictedPrice_5 = mv_5.predict(Xt5_sub)\n",
    "predictedPrice_5"
   ]
  },
  {
   "cell_type": "code",
   "execution_count": 139,
   "metadata": {},
   "outputs": [
    {
     "data": {
      "text/plain": [
       "array([0.58875797, 5.92774986, 5.66721831, 4.76597696, 0.52783793])"
      ]
     },
     "execution_count": 139,
     "metadata": {},
     "output_type": "execute_result"
    }
   ],
   "source": [
    "predictedaccuracy_5 = accuracy(yt5_sub, predictedPrice_5)\n",
    "predictedaccuracy_5"
   ]
  },
  {
   "cell_type": "code",
   "execution_count": 140,
   "metadata": {},
   "outputs": [
    {
     "data": {
      "text/plain": [
       "3.495508207068879"
      ]
     },
     "execution_count": 140,
     "metadata": {},
     "output_type": "execute_result"
    }
   ],
   "source": [
    "np.sum(predictedaccuracy_5)/predictedaccuracy_5.shape[0]"
   ]
  },
  {
   "cell_type": "code",
   "execution_count": 141,
   "metadata": {},
   "outputs": [
    {
     "data": {
      "text/plain": [
       "array([984352.82561377])"
      ]
     },
     "execution_count": 141,
     "metadata": {},
     "output_type": "execute_result"
    }
   ],
   "source": [
    "predictedPrice_6 = mv_6.predict(Xt6_sub)\n",
    "predictedPrice_6"
   ]
  },
  {
   "cell_type": "code",
   "execution_count": 142,
   "metadata": {},
   "outputs": [
    {
     "data": {
      "text/plain": [
       "array([1.76619178])"
      ]
     },
     "execution_count": 142,
     "metadata": {},
     "output_type": "execute_result"
    }
   ],
   "source": [
    "predictedaccuracy_6 = accuracy(yt6_sub, predictedPrice_6)\n",
    "predictedaccuracy_6"
   ]
  },
  {
   "cell_type": "code",
   "execution_count": 143,
   "metadata": {},
   "outputs": [
    {
     "data": {
      "text/plain": [
       "1.7661917846819057"
      ]
     },
     "execution_count": 143,
     "metadata": {},
     "output_type": "execute_result"
    }
   ],
   "source": [
    "np.sum(predictedaccuracy_6)/predictedaccuracy_6.shape[0]"
   ]
  },
  {
   "cell_type": "code",
   "execution_count": 144,
   "metadata": {},
   "outputs": [
    {
     "data": {
      "text/plain": [
       "array([1771800.1759088])"
      ]
     },
     "execution_count": 144,
     "metadata": {},
     "output_type": "execute_result"
    }
   ],
   "source": [
    "predictedPrice_7 = mv_7.predict(Xt7_sub)\n",
    "predictedPrice_7"
   ]
  },
  {
   "cell_type": "code",
   "execution_count": 145,
   "metadata": {},
   "outputs": [
    {
     "data": {
      "text/plain": [
       "array([4.22353976])"
      ]
     },
     "execution_count": 145,
     "metadata": {},
     "output_type": "execute_result"
    }
   ],
   "source": [
    "predictedaccuracy_7 = accuracy(yt7_sub, predictedPrice_7)\n",
    "predictedaccuracy_7"
   ]
  },
  {
   "cell_type": "code",
   "execution_count": 146,
   "metadata": {},
   "outputs": [
    {
     "data": {
      "text/plain": [
       "4.223539759341107"
      ]
     },
     "execution_count": 146,
     "metadata": {},
     "output_type": "execute_result"
    }
   ],
   "source": [
    "np.sum(predictedaccuracy_7)/predictedaccuracy_7.shape[0]"
   ]
  },
  {
   "cell_type": "code",
   "execution_count": 147,
   "metadata": {},
   "outputs": [
    {
     "data": {
      "text/plain": [
       "array([2612304.88386052])"
      ]
     },
     "execution_count": 147,
     "metadata": {},
     "output_type": "execute_result"
    }
   ],
   "source": [
    "predictedPrice_8 = mv_8.predict(Xt8_sub)\n",
    "predictedPrice_8"
   ]
  },
  {
   "cell_type": "code",
   "execution_count": 148,
   "metadata": {},
   "outputs": [
    {
     "data": {
      "text/plain": [
       "array([0.47326476])"
      ]
     },
     "execution_count": 148,
     "metadata": {},
     "output_type": "execute_result"
    }
   ],
   "source": [
    "predictedaccuracy_8 = accuracy(yt8_sub, predictedPrice_8)\n",
    "predictedaccuracy_8"
   ]
  },
  {
   "cell_type": "code",
   "execution_count": 149,
   "metadata": {},
   "outputs": [
    {
     "data": {
      "text/plain": [
       "0.4732647638660497"
      ]
     },
     "execution_count": 149,
     "metadata": {},
     "output_type": "execute_result"
    }
   ],
   "source": [
    "np.sum(predictedaccuracy_8)/predictedaccuracy_8.shape[0]"
   ]
  },
  {
   "cell_type": "code",
   "execution_count": 150,
   "metadata": {},
   "outputs": [
    {
     "data": {
      "text/plain": [
       "array([], dtype=float64)"
      ]
     },
     "execution_count": 150,
     "metadata": {},
     "output_type": "execute_result"
    }
   ],
   "source": [
    "predictedPrice_9 = mv_9.predict(Xt9_sub)\n",
    "predictedPrice_9"
   ]
  },
  {
   "cell_type": "code",
   "execution_count": 151,
   "metadata": {},
   "outputs": [
    {
     "data": {
      "text/plain": [
       "array([], dtype=float64)"
      ]
     },
     "execution_count": 151,
     "metadata": {},
     "output_type": "execute_result"
    }
   ],
   "source": [
    "predictedaccuracy_9 = accuracy(yt9_sub, predictedPrice_9)\n",
    "predictedaccuracy_9"
   ]
  },
  {
   "cell_type": "code",
   "execution_count": 152,
   "metadata": {},
   "outputs": [
    {
     "name": "stderr",
     "output_type": "stream",
     "text": [
      "C:\\Users\\Admin\\AppData\\Local\\Temp\\ipykernel_30188\\2351445668.py:1: RuntimeWarning: invalid value encountered in scalar divide\n",
      "  np.sum(predictedaccuracy_9)/predictedaccuracy_9.shape[0]\n"
     ]
    },
    {
     "data": {
      "text/plain": [
       "nan"
      ]
     },
     "execution_count": 152,
     "metadata": {},
     "output_type": "execute_result"
    }
   ],
   "source": [
    "np.sum(predictedaccuracy_9)/predictedaccuracy_9.shape[0]"
   ]
  },
  {
   "cell_type": "code",
   "execution_count": 153,
   "metadata": {},
   "outputs": [],
   "source": [
    "# class_instance_variable = {}\n",
    "# for k in set(y):\n",
    "#     classnames = f'bestoption_{k}'\n",
    "#     class_instance_variable[classnames] = MVLinearRegression()\n",
    "\n",
    "#     X = X_sub[y==k]\n",
    "#     ysub = y[y==k]\n",
    "#     #print (f'for class value k : {k}, Shape of X : {X.shape} and shapy of y is {y.shape}')\n",
    "#     #class_instance_variable[classnames].fit(X,y,eta=1e-10,epochs=2e4,show_curve=True, label = k)"
   ]
  },
  {
   "cell_type": "markdown",
   "metadata": {},
   "source": [
    "#### Predict Hottest deals"
   ]
  },
  {
   "cell_type": "markdown",
   "metadata": {},
   "source": [
    "##### Import Data to predict"
   ]
  },
  {
   "cell_type": "code",
   "execution_count": 154,
   "metadata": {},
   "outputs": [],
   "source": [
    "find_hottest_deal_data = pd.read_csv(\"Predict Hottest Deals.csv\")"
   ]
  },
  {
   "cell_type": "code",
   "execution_count": 155,
   "metadata": {},
   "outputs": [
    {
     "data": {
      "text/html": [
       "<div>\n",
       "<style scoped>\n",
       "    .dataframe tbody tr th:only-of-type {\n",
       "        vertical-align: middle;\n",
       "    }\n",
       "\n",
       "    .dataframe tbody tr th {\n",
       "        vertical-align: top;\n",
       "    }\n",
       "\n",
       "    .dataframe thead th {\n",
       "        text-align: right;\n",
       "    }\n",
       "</style>\n",
       "<table border=\"1\" class=\"dataframe\">\n",
       "  <thead>\n",
       "    <tr style=\"text-align: right;\">\n",
       "      <th></th>\n",
       "      <th>sold_price</th>\n",
       "      <th>longitude</th>\n",
       "      <th>latitude</th>\n",
       "      <th>bedrooms</th>\n",
       "      <th>bathrooms</th>\n",
       "      <th>sqrt_ft</th>\n",
       "      <th>price_per_sqft</th>\n",
       "      <th>name_of_property</th>\n",
       "    </tr>\n",
       "  </thead>\n",
       "  <tbody>\n",
       "    <tr>\n",
       "      <th>0</th>\n",
       "      <td>885000</td>\n",
       "      <td>-110.91</td>\n",
       "      <td>32.29</td>\n",
       "      <td>3</td>\n",
       "      <td>3</td>\n",
       "      <td>3771</td>\n",
       "      <td>234.69</td>\n",
       "      <td>property1</td>\n",
       "    </tr>\n",
       "    <tr>\n",
       "      <th>1</th>\n",
       "      <td>660000</td>\n",
       "      <td>-110.85</td>\n",
       "      <td>32.28</td>\n",
       "      <td>2</td>\n",
       "      <td>3</td>\n",
       "      <td>2498</td>\n",
       "      <td>264.21</td>\n",
       "      <td>property2</td>\n",
       "    </tr>\n",
       "    <tr>\n",
       "      <th>2</th>\n",
       "      <td>720000</td>\n",
       "      <td>-110.88</td>\n",
       "      <td>32.30</td>\n",
       "      <td>5</td>\n",
       "      <td>5</td>\n",
       "      <td>5272</td>\n",
       "      <td>136.57</td>\n",
       "      <td>property3</td>\n",
       "    </tr>\n",
       "    <tr>\n",
       "      <th>3</th>\n",
       "      <td>585000</td>\n",
       "      <td>-110.73</td>\n",
       "      <td>32.27</td>\n",
       "      <td>4</td>\n",
       "      <td>4</td>\n",
       "      <td>3668</td>\n",
       "      <td>159.49</td>\n",
       "      <td>property4</td>\n",
       "    </tr>\n",
       "    <tr>\n",
       "      <th>4</th>\n",
       "      <td>967269</td>\n",
       "      <td>-110.83</td>\n",
       "      <td>32.33</td>\n",
       "      <td>1</td>\n",
       "      <td>1</td>\n",
       "      <td>1484</td>\n",
       "      <td>651.80</td>\n",
       "      <td>property5</td>\n",
       "    </tr>\n",
       "    <tr>\n",
       "      <th>5</th>\n",
       "      <td>2600000</td>\n",
       "      <td>-110.88</td>\n",
       "      <td>32.51</td>\n",
       "      <td>3</td>\n",
       "      <td>3</td>\n",
       "      <td>3095</td>\n",
       "      <td>840.06</td>\n",
       "      <td>property6</td>\n",
       "    </tr>\n",
       "    <tr>\n",
       "      <th>6</th>\n",
       "      <td>3250000</td>\n",
       "      <td>-110.84</td>\n",
       "      <td>32.33</td>\n",
       "      <td>5</td>\n",
       "      <td>6</td>\n",
       "      <td>6480</td>\n",
       "      <td>501.54</td>\n",
       "      <td>property7</td>\n",
       "    </tr>\n",
       "    <tr>\n",
       "      <th>7</th>\n",
       "      <td>1700000</td>\n",
       "      <td>-110.76</td>\n",
       "      <td>32.24</td>\n",
       "      <td>4</td>\n",
       "      <td>4</td>\n",
       "      <td>2385</td>\n",
       "      <td>712.79</td>\n",
       "      <td>property8</td>\n",
       "    </tr>\n",
       "    <tr>\n",
       "      <th>8</th>\n",
       "      <td>800000</td>\n",
       "      <td>-110.91</td>\n",
       "      <td>31.39</td>\n",
       "      <td>4</td>\n",
       "      <td>5</td>\n",
       "      <td>8154</td>\n",
       "      <td>98.11</td>\n",
       "      <td>property9</td>\n",
       "    </tr>\n",
       "    <tr>\n",
       "      <th>9</th>\n",
       "      <td>2152700</td>\n",
       "      <td>-110.89</td>\n",
       "      <td>32.33</td>\n",
       "      <td>5</td>\n",
       "      <td>7</td>\n",
       "      <td>6755</td>\n",
       "      <td>318.68</td>\n",
       "      <td>property10</td>\n",
       "    </tr>\n",
       "    <tr>\n",
       "      <th>10</th>\n",
       "      <td>1100000</td>\n",
       "      <td>-111.10</td>\n",
       "      <td>32.47</td>\n",
       "      <td>3</td>\n",
       "      <td>3</td>\n",
       "      <td>2308</td>\n",
       "      <td>476.60</td>\n",
       "      <td>property11</td>\n",
       "    </tr>\n",
       "  </tbody>\n",
       "</table>\n",
       "</div>"
      ],
      "text/plain": [
       "    sold_price  longitude  latitude  bedrooms  bathrooms  sqrt_ft  \\\n",
       "0       885000    -110.91     32.29         3          3     3771   \n",
       "1       660000    -110.85     32.28         2          3     2498   \n",
       "2       720000    -110.88     32.30         5          5     5272   \n",
       "3       585000    -110.73     32.27         4          4     3668   \n",
       "4       967269    -110.83     32.33         1          1     1484   \n",
       "5      2600000    -110.88     32.51         3          3     3095   \n",
       "6      3250000    -110.84     32.33         5          6     6480   \n",
       "7      1700000    -110.76     32.24         4          4     2385   \n",
       "8       800000    -110.91     31.39         4          5     8154   \n",
       "9      2152700    -110.89     32.33         5          7     6755   \n",
       "10     1100000    -111.10     32.47         3          3     2308   \n",
       "\n",
       "    price_per_sqft name_of_property  \n",
       "0           234.69        property1  \n",
       "1           264.21        property2  \n",
       "2           136.57        property3  \n",
       "3           159.49        property4  \n",
       "4           651.80        property5  \n",
       "5           840.06        property6  \n",
       "6           501.54        property7  \n",
       "7           712.79        property8  \n",
       "8            98.11        property9  \n",
       "9           318.68       property10  \n",
       "10          476.60       property11  "
      ]
     },
     "execution_count": 155,
     "metadata": {},
     "output_type": "execute_result"
    }
   ],
   "source": [
    "find_hottest_deal_data"
   ]
  },
  {
   "cell_type": "code",
   "execution_count": 156,
   "metadata": {},
   "outputs": [],
   "source": [
    "X_log_lat_hottest_df = find_hottest_deal_data.iloc[:,[1,2,6]]"
   ]
  },
  {
   "cell_type": "code",
   "execution_count": 157,
   "metadata": {},
   "outputs": [],
   "source": [
    "X_log_lat_hottest = X_log_lat_hottest_df.to_numpy()"
   ]
  },
  {
   "cell_type": "code",
   "execution_count": 158,
   "metadata": {},
   "outputs": [],
   "source": [
    "get_category = knn_location.predict(X_log_lat_hottest,10)"
   ]
  },
  {
   "cell_type": "code",
   "execution_count": 159,
   "metadata": {},
   "outputs": [
    {
     "data": {
      "text/plain": [
       "array([2., 2., 1., 1., 6., 8., 5., 7., 0., 3., 4.])"
      ]
     },
     "execution_count": 159,
     "metadata": {},
     "output_type": "execute_result"
    }
   ],
   "source": [
    "get_category"
   ]
  },
  {
   "cell_type": "markdown",
   "metadata": {},
   "source": [
    "##### Generate lookup classes"
   ]
  },
  {
   "cell_type": "code",
   "execution_count": 160,
   "metadata": {},
   "outputs": [],
   "source": [
    "lookup_mv_class = {0:mv_0,\n",
    "                   1:mv_1,\n",
    "                   2:mv_2,\n",
    "                   3:mv_3,\n",
    "                   4:mv_4,\n",
    "                   5:mv_5,\n",
    "                   6:mv_6,\n",
    "                   7:mv_7,\n",
    "                   8:mv_8,\n",
    "                   9:mv_9}"
   ]
  },
  {
   "cell_type": "markdown",
   "metadata": {},
   "source": [
    "##### Get predictions"
   ]
  },
  {
   "cell_type": "code",
   "execution_count": 161,
   "metadata": {},
   "outputs": [],
   "source": [
    "Xt_hottest_df = find_hottest_deal_data.iloc[:,[3,4,6,5]]\n",
    "Xt_hottest = Xt_hottest_df.to_numpy()\n",
    "\n",
    "N=len(get_category)\n",
    "yhottest_price_prediction = np.zeros(N)\n",
    "\n",
    "\n",
    "for i in range(N):    \n",
    "    yhottest_price_prediction[i]= lookup_mv_class[int(get_category[i])].predict(Xt_hottest[i])\n",
    "    \n"
   ]
  },
  {
   "cell_type": "code",
   "execution_count": 162,
   "metadata": {},
   "outputs": [
    {
     "data": {
      "text/plain": [
       "array([ 883842.20146446,  587295.8021164 ,  874621.9937465 ,\n",
       "        609157.26370041,  984352.82561134, 2612304.88387028,\n",
       "       3442651.87052161, 1771800.17591483,  645724.54016115,\n",
       "       2252295.10853231, 1050997.07769515])"
      ]
     },
     "execution_count": 162,
     "metadata": {},
     "output_type": "execute_result"
    }
   ],
   "source": [
    "yhottest_price_prediction"
   ]
  },
  {
   "cell_type": "code",
   "execution_count": 163,
   "metadata": {},
   "outputs": [],
   "source": [
    "find_hottest_deal_data[\"predicted_Price\"] = yhottest_price_prediction"
   ]
  },
  {
   "cell_type": "code",
   "execution_count": 164,
   "metadata": {},
   "outputs": [],
   "source": [
    "find_hottest_deal_data[\"price_diff\"] = abs(find_hottest_deal_data.predicted_Price.sub(find_hottest_deal_data.sold_price) )"
   ]
  },
  {
   "cell_type": "code",
   "execution_count": 165,
   "metadata": {},
   "outputs": [],
   "source": [
    "find_hottest_deal_data[\"accuracy\"] = round((find_hottest_deal_data.predicted_Price - find_hottest_deal_data.sold_price).div(find_hottest_deal_data.sold_price)*100,2)"
   ]
  },
  {
   "cell_type": "code",
   "execution_count": 166,
   "metadata": {},
   "outputs": [],
   "source": [
    "find_hottest_deal_data[\"hottest_deals\"] = find_hottest_deal_data.accuracy.rank(ascending=False, method=\"min\")"
   ]
  },
  {
   "cell_type": "code",
   "execution_count": 167,
   "metadata": {},
   "outputs": [
    {
     "data": {
      "text/html": [
       "<div>\n",
       "<style scoped>\n",
       "    .dataframe tbody tr th:only-of-type {\n",
       "        vertical-align: middle;\n",
       "    }\n",
       "\n",
       "    .dataframe tbody tr th {\n",
       "        vertical-align: top;\n",
       "    }\n",
       "\n",
       "    .dataframe thead th {\n",
       "        text-align: right;\n",
       "    }\n",
       "</style>\n",
       "<table border=\"1\" class=\"dataframe\">\n",
       "  <thead>\n",
       "    <tr style=\"text-align: right;\">\n",
       "      <th></th>\n",
       "      <th>sold_price</th>\n",
       "      <th>longitude</th>\n",
       "      <th>latitude</th>\n",
       "      <th>bedrooms</th>\n",
       "      <th>bathrooms</th>\n",
       "      <th>sqrt_ft</th>\n",
       "      <th>price_per_sqft</th>\n",
       "      <th>name_of_property</th>\n",
       "      <th>predicted_Price</th>\n",
       "      <th>price_diff</th>\n",
       "      <th>accuracy</th>\n",
       "      <th>hottest_deals</th>\n",
       "    </tr>\n",
       "  </thead>\n",
       "  <tbody>\n",
       "    <tr>\n",
       "      <th>2</th>\n",
       "      <td>720000</td>\n",
       "      <td>-110.88</td>\n",
       "      <td>32.30</td>\n",
       "      <td>5</td>\n",
       "      <td>5</td>\n",
       "      <td>5272</td>\n",
       "      <td>136.57</td>\n",
       "      <td>property3</td>\n",
       "      <td>874621.99</td>\n",
       "      <td>154621.99</td>\n",
       "      <td>21.48</td>\n",
       "      <td>1.00</td>\n",
       "    </tr>\n",
       "    <tr>\n",
       "      <th>6</th>\n",
       "      <td>3250000</td>\n",
       "      <td>-110.84</td>\n",
       "      <td>32.33</td>\n",
       "      <td>5</td>\n",
       "      <td>6</td>\n",
       "      <td>6480</td>\n",
       "      <td>501.54</td>\n",
       "      <td>property7</td>\n",
       "      <td>3442651.87</td>\n",
       "      <td>192651.87</td>\n",
       "      <td>5.93</td>\n",
       "      <td>2.00</td>\n",
       "    </tr>\n",
       "    <tr>\n",
       "      <th>9</th>\n",
       "      <td>2152700</td>\n",
       "      <td>-110.89</td>\n",
       "      <td>32.33</td>\n",
       "      <td>5</td>\n",
       "      <td>7</td>\n",
       "      <td>6755</td>\n",
       "      <td>318.68</td>\n",
       "      <td>property10</td>\n",
       "      <td>2252295.11</td>\n",
       "      <td>99595.11</td>\n",
       "      <td>4.63</td>\n",
       "      <td>3.00</td>\n",
       "    </tr>\n",
       "    <tr>\n",
       "      <th>7</th>\n",
       "      <td>1700000</td>\n",
       "      <td>-110.76</td>\n",
       "      <td>32.24</td>\n",
       "      <td>4</td>\n",
       "      <td>4</td>\n",
       "      <td>2385</td>\n",
       "      <td>712.79</td>\n",
       "      <td>property8</td>\n",
       "      <td>1771800.18</td>\n",
       "      <td>71800.18</td>\n",
       "      <td>4.22</td>\n",
       "      <td>4.00</td>\n",
       "    </tr>\n",
       "    <tr>\n",
       "      <th>3</th>\n",
       "      <td>585000</td>\n",
       "      <td>-110.73</td>\n",
       "      <td>32.27</td>\n",
       "      <td>4</td>\n",
       "      <td>4</td>\n",
       "      <td>3668</td>\n",
       "      <td>159.49</td>\n",
       "      <td>property4</td>\n",
       "      <td>609157.26</td>\n",
       "      <td>24157.26</td>\n",
       "      <td>4.13</td>\n",
       "      <td>5.00</td>\n",
       "    </tr>\n",
       "    <tr>\n",
       "      <th>4</th>\n",
       "      <td>967269</td>\n",
       "      <td>-110.83</td>\n",
       "      <td>32.33</td>\n",
       "      <td>1</td>\n",
       "      <td>1</td>\n",
       "      <td>1484</td>\n",
       "      <td>651.80</td>\n",
       "      <td>property5</td>\n",
       "      <td>984352.83</td>\n",
       "      <td>17083.83</td>\n",
       "      <td>1.77</td>\n",
       "      <td>6.00</td>\n",
       "    </tr>\n",
       "    <tr>\n",
       "      <th>5</th>\n",
       "      <td>2600000</td>\n",
       "      <td>-110.88</td>\n",
       "      <td>32.51</td>\n",
       "      <td>3</td>\n",
       "      <td>3</td>\n",
       "      <td>3095</td>\n",
       "      <td>840.06</td>\n",
       "      <td>property6</td>\n",
       "      <td>2612304.88</td>\n",
       "      <td>12304.88</td>\n",
       "      <td>0.47</td>\n",
       "      <td>7.00</td>\n",
       "    </tr>\n",
       "    <tr>\n",
       "      <th>0</th>\n",
       "      <td>885000</td>\n",
       "      <td>-110.91</td>\n",
       "      <td>32.29</td>\n",
       "      <td>3</td>\n",
       "      <td>3</td>\n",
       "      <td>3771</td>\n",
       "      <td>234.69</td>\n",
       "      <td>property1</td>\n",
       "      <td>883842.20</td>\n",
       "      <td>1157.80</td>\n",
       "      <td>-0.13</td>\n",
       "      <td>8.00</td>\n",
       "    </tr>\n",
       "    <tr>\n",
       "      <th>10</th>\n",
       "      <td>1100000</td>\n",
       "      <td>-111.10</td>\n",
       "      <td>32.47</td>\n",
       "      <td>3</td>\n",
       "      <td>3</td>\n",
       "      <td>2308</td>\n",
       "      <td>476.60</td>\n",
       "      <td>property11</td>\n",
       "      <td>1050997.08</td>\n",
       "      <td>49002.92</td>\n",
       "      <td>-4.45</td>\n",
       "      <td>9.00</td>\n",
       "    </tr>\n",
       "    <tr>\n",
       "      <th>1</th>\n",
       "      <td>660000</td>\n",
       "      <td>-110.85</td>\n",
       "      <td>32.28</td>\n",
       "      <td>2</td>\n",
       "      <td>3</td>\n",
       "      <td>2498</td>\n",
       "      <td>264.21</td>\n",
       "      <td>property2</td>\n",
       "      <td>587295.80</td>\n",
       "      <td>72704.20</td>\n",
       "      <td>-11.02</td>\n",
       "      <td>10.00</td>\n",
       "    </tr>\n",
       "    <tr>\n",
       "      <th>8</th>\n",
       "      <td>800000</td>\n",
       "      <td>-110.91</td>\n",
       "      <td>31.39</td>\n",
       "      <td>4</td>\n",
       "      <td>5</td>\n",
       "      <td>8154</td>\n",
       "      <td>98.11</td>\n",
       "      <td>property9</td>\n",
       "      <td>645724.54</td>\n",
       "      <td>154275.46</td>\n",
       "      <td>-19.28</td>\n",
       "      <td>11.00</td>\n",
       "    </tr>\n",
       "  </tbody>\n",
       "</table>\n",
       "</div>"
      ],
      "text/plain": [
       "    sold_price  longitude  latitude  bedrooms  bathrooms  sqrt_ft  \\\n",
       "2       720000    -110.88     32.30         5          5     5272   \n",
       "6      3250000    -110.84     32.33         5          6     6480   \n",
       "9      2152700    -110.89     32.33         5          7     6755   \n",
       "7      1700000    -110.76     32.24         4          4     2385   \n",
       "3       585000    -110.73     32.27         4          4     3668   \n",
       "4       967269    -110.83     32.33         1          1     1484   \n",
       "5      2600000    -110.88     32.51         3          3     3095   \n",
       "0       885000    -110.91     32.29         3          3     3771   \n",
       "10     1100000    -111.10     32.47         3          3     2308   \n",
       "1       660000    -110.85     32.28         2          3     2498   \n",
       "8       800000    -110.91     31.39         4          5     8154   \n",
       "\n",
       "    price_per_sqft name_of_property  predicted_Price  price_diff  accuracy  \\\n",
       "2           136.57        property3        874621.99   154621.99     21.48   \n",
       "6           501.54        property7       3442651.87   192651.87      5.93   \n",
       "9           318.68       property10       2252295.11    99595.11      4.63   \n",
       "7           712.79        property8       1771800.18    71800.18      4.22   \n",
       "3           159.49        property4        609157.26    24157.26      4.13   \n",
       "4           651.80        property5        984352.83    17083.83      1.77   \n",
       "5           840.06        property6       2612304.88    12304.88      0.47   \n",
       "0           234.69        property1        883842.20     1157.80     -0.13   \n",
       "10          476.60       property11       1050997.08    49002.92     -4.45   \n",
       "1           264.21        property2        587295.80    72704.20    -11.02   \n",
       "8            98.11        property9        645724.54   154275.46    -19.28   \n",
       "\n",
       "    hottest_deals  \n",
       "2            1.00  \n",
       "6            2.00  \n",
       "9            3.00  \n",
       "7            4.00  \n",
       "3            5.00  \n",
       "4            6.00  \n",
       "5            7.00  \n",
       "0            8.00  \n",
       "10           9.00  \n",
       "1           10.00  \n",
       "8           11.00  "
      ]
     },
     "execution_count": 167,
     "metadata": {},
     "output_type": "execute_result"
    }
   ],
   "source": [
    "find_hottest_deal_data.sort_values(by=\"hottest_deals\")"
   ]
  },
  {
   "cell_type": "code",
   "execution_count": 168,
   "metadata": {},
   "outputs": [],
   "source": [
    "sold_price =[]\t\n",
    "longitude = []\t\n",
    "latitude = []\t\n",
    "bedrooms =[]\t\n",
    "bathrooms =[]\t\n",
    "sqrt_ft = []\t\n",
    "price_per_sqft = []\t\n",
    "name_of_property = []\n",
    "\n",
    "dic = {\"sold_price\":sold_price,\n",
    "       \"longitude\":longitude,\n",
    "       \"latitude\":latitude,\n",
    "       \"bedrooms\":bedrooms,\n",
    "       \"bathrooms\":bathrooms,\n",
    "       \"sqrt_ft\":sqrt_ft, \n",
    "       \"price_per_sqft\":price_per_sqft,\n",
    "       \"name_of_property\":name_of_property}"
   ]
  },
  {
   "cell_type": "code",
   "execution_count": 169,
   "metadata": {},
   "outputs": [],
   "source": [
    "Get_hottest_deals_df = pd.DataFrame(dic)"
   ]
  },
  {
   "cell_type": "code",
   "execution_count": 170,
   "metadata": {},
   "outputs": [],
   "source": [
    "def predict_hottest_deals(X):\n",
    "    lookup_mv_class = {0:mv_0,\n",
    "                   1:mv_1,\n",
    "                   2:mv_2,\n",
    "                   3:mv_3,\n",
    "                   4:mv_4,\n",
    "                   5:mv_5,\n",
    "                   6:mv_6,\n",
    "                   7:mv_7,\n",
    "                   8:mv_8,\n",
    "                   9:mv_9}\n",
    "    \n",
    "    X_log_lat_hottest_df = X.iloc[:,[1,2,6]]\n",
    "    X_log_lat_hottest = X_log_lat_hottest_df.to_numpy()\n",
    "    get_category = knn_location.predict(X_log_lat_hottest,10)\n",
    "\n",
    "    Xt_hottest_df = find_hottest_deal_data.iloc[:,[3,4,6,5]]\n",
    "    Xt_hottest = Xt_hottest_df.to_numpy()\n",
    "\n",
    "    N=len(get_category)\n",
    "    yhottest_price_prediction = np.zeros(N)\n",
    "\n",
    "\n",
    "    for i in range(N):    \n",
    "        yhottest_price_prediction[i]= lookup_mv_class[int(get_category[i])].predict(Xt_hottest[i])\n",
    "        \n",
    "    \n",
    "    X[\"predicted_Price\"] = yhottest_price_prediction\n",
    "\n",
    "    X[\"price_diff\"] = abs(X.predicted_Price.sub(X.sold_price))\n",
    "\n",
    "    X[\"accuracy\"] = round((X.predicted_Price - X.sold_price).div(X.sold_price)*100,2)\n",
    "\n",
    "    X[\"hottest_deals\"] = X.accuracy.rank(ascending=False, method=\"min\")\n",
    "\n",
    "    X.sort_values(by=\"hottest_deals\")\n",
    "\n",
    "    return X"
   ]
  },
  {
   "cell_type": "code",
   "execution_count": 171,
   "metadata": {},
   "outputs": [
    {
     "data": {
      "text/html": [
       "<div>\n",
       "<style scoped>\n",
       "    .dataframe tbody tr th:only-of-type {\n",
       "        vertical-align: middle;\n",
       "    }\n",
       "\n",
       "    .dataframe tbody tr th {\n",
       "        vertical-align: top;\n",
       "    }\n",
       "\n",
       "    .dataframe thead th {\n",
       "        text-align: right;\n",
       "    }\n",
       "</style>\n",
       "<table border=\"1\" class=\"dataframe\">\n",
       "  <thead>\n",
       "    <tr style=\"text-align: right;\">\n",
       "      <th></th>\n",
       "      <th>sold_price</th>\n",
       "      <th>longitude</th>\n",
       "      <th>latitude</th>\n",
       "      <th>bedrooms</th>\n",
       "      <th>bathrooms</th>\n",
       "      <th>sqrt_ft</th>\n",
       "      <th>price_per_sqft</th>\n",
       "      <th>name_of_property</th>\n",
       "      <th>predicted_Price</th>\n",
       "      <th>price_diff</th>\n",
       "      <th>accuracy</th>\n",
       "      <th>hottest_deals</th>\n",
       "    </tr>\n",
       "  </thead>\n",
       "  <tbody>\n",
       "    <tr>\n",
       "      <th>2</th>\n",
       "      <td>720000</td>\n",
       "      <td>-110.88</td>\n",
       "      <td>32.30</td>\n",
       "      <td>5</td>\n",
       "      <td>5</td>\n",
       "      <td>5272</td>\n",
       "      <td>136.57</td>\n",
       "      <td>property3</td>\n",
       "      <td>874621.99</td>\n",
       "      <td>154621.99</td>\n",
       "      <td>21.48</td>\n",
       "      <td>1.00</td>\n",
       "    </tr>\n",
       "    <tr>\n",
       "      <th>6</th>\n",
       "      <td>3250000</td>\n",
       "      <td>-110.84</td>\n",
       "      <td>32.33</td>\n",
       "      <td>5</td>\n",
       "      <td>6</td>\n",
       "      <td>6480</td>\n",
       "      <td>501.54</td>\n",
       "      <td>property7</td>\n",
       "      <td>3442651.87</td>\n",
       "      <td>192651.87</td>\n",
       "      <td>5.93</td>\n",
       "      <td>2.00</td>\n",
       "    </tr>\n",
       "    <tr>\n",
       "      <th>9</th>\n",
       "      <td>2152700</td>\n",
       "      <td>-110.89</td>\n",
       "      <td>32.33</td>\n",
       "      <td>5</td>\n",
       "      <td>7</td>\n",
       "      <td>6755</td>\n",
       "      <td>318.68</td>\n",
       "      <td>property10</td>\n",
       "      <td>2252295.11</td>\n",
       "      <td>99595.11</td>\n",
       "      <td>4.63</td>\n",
       "      <td>3.00</td>\n",
       "    </tr>\n",
       "    <tr>\n",
       "      <th>7</th>\n",
       "      <td>1700000</td>\n",
       "      <td>-110.76</td>\n",
       "      <td>32.24</td>\n",
       "      <td>4</td>\n",
       "      <td>4</td>\n",
       "      <td>2385</td>\n",
       "      <td>712.79</td>\n",
       "      <td>property8</td>\n",
       "      <td>1771800.18</td>\n",
       "      <td>71800.18</td>\n",
       "      <td>4.22</td>\n",
       "      <td>4.00</td>\n",
       "    </tr>\n",
       "    <tr>\n",
       "      <th>3</th>\n",
       "      <td>585000</td>\n",
       "      <td>-110.73</td>\n",
       "      <td>32.27</td>\n",
       "      <td>4</td>\n",
       "      <td>4</td>\n",
       "      <td>3668</td>\n",
       "      <td>159.49</td>\n",
       "      <td>property4</td>\n",
       "      <td>609157.26</td>\n",
       "      <td>24157.26</td>\n",
       "      <td>4.13</td>\n",
       "      <td>5.00</td>\n",
       "    </tr>\n",
       "    <tr>\n",
       "      <th>4</th>\n",
       "      <td>967269</td>\n",
       "      <td>-110.83</td>\n",
       "      <td>32.33</td>\n",
       "      <td>1</td>\n",
       "      <td>1</td>\n",
       "      <td>1484</td>\n",
       "      <td>651.80</td>\n",
       "      <td>property5</td>\n",
       "      <td>984352.83</td>\n",
       "      <td>17083.83</td>\n",
       "      <td>1.77</td>\n",
       "      <td>6.00</td>\n",
       "    </tr>\n",
       "    <tr>\n",
       "      <th>5</th>\n",
       "      <td>2600000</td>\n",
       "      <td>-110.88</td>\n",
       "      <td>32.51</td>\n",
       "      <td>3</td>\n",
       "      <td>3</td>\n",
       "      <td>3095</td>\n",
       "      <td>840.06</td>\n",
       "      <td>property6</td>\n",
       "      <td>2612304.88</td>\n",
       "      <td>12304.88</td>\n",
       "      <td>0.47</td>\n",
       "      <td>7.00</td>\n",
       "    </tr>\n",
       "    <tr>\n",
       "      <th>0</th>\n",
       "      <td>885000</td>\n",
       "      <td>-110.91</td>\n",
       "      <td>32.29</td>\n",
       "      <td>3</td>\n",
       "      <td>3</td>\n",
       "      <td>3771</td>\n",
       "      <td>234.69</td>\n",
       "      <td>property1</td>\n",
       "      <td>883842.20</td>\n",
       "      <td>1157.80</td>\n",
       "      <td>-0.13</td>\n",
       "      <td>8.00</td>\n",
       "    </tr>\n",
       "    <tr>\n",
       "      <th>10</th>\n",
       "      <td>1100000</td>\n",
       "      <td>-111.10</td>\n",
       "      <td>32.47</td>\n",
       "      <td>3</td>\n",
       "      <td>3</td>\n",
       "      <td>2308</td>\n",
       "      <td>476.60</td>\n",
       "      <td>property11</td>\n",
       "      <td>1050997.08</td>\n",
       "      <td>49002.92</td>\n",
       "      <td>-4.45</td>\n",
       "      <td>9.00</td>\n",
       "    </tr>\n",
       "    <tr>\n",
       "      <th>1</th>\n",
       "      <td>660000</td>\n",
       "      <td>-110.85</td>\n",
       "      <td>32.28</td>\n",
       "      <td>2</td>\n",
       "      <td>3</td>\n",
       "      <td>2498</td>\n",
       "      <td>264.21</td>\n",
       "      <td>property2</td>\n",
       "      <td>587295.80</td>\n",
       "      <td>72704.20</td>\n",
       "      <td>-11.02</td>\n",
       "      <td>10.00</td>\n",
       "    </tr>\n",
       "    <tr>\n",
       "      <th>8</th>\n",
       "      <td>800000</td>\n",
       "      <td>-110.91</td>\n",
       "      <td>31.39</td>\n",
       "      <td>4</td>\n",
       "      <td>5</td>\n",
       "      <td>8154</td>\n",
       "      <td>98.11</td>\n",
       "      <td>property9</td>\n",
       "      <td>645724.54</td>\n",
       "      <td>154275.46</td>\n",
       "      <td>-19.28</td>\n",
       "      <td>11.00</td>\n",
       "    </tr>\n",
       "  </tbody>\n",
       "</table>\n",
       "</div>"
      ],
      "text/plain": [
       "    sold_price  longitude  latitude  bedrooms  bathrooms  sqrt_ft  \\\n",
       "2       720000    -110.88     32.30         5          5     5272   \n",
       "6      3250000    -110.84     32.33         5          6     6480   \n",
       "9      2152700    -110.89     32.33         5          7     6755   \n",
       "7      1700000    -110.76     32.24         4          4     2385   \n",
       "3       585000    -110.73     32.27         4          4     3668   \n",
       "4       967269    -110.83     32.33         1          1     1484   \n",
       "5      2600000    -110.88     32.51         3          3     3095   \n",
       "0       885000    -110.91     32.29         3          3     3771   \n",
       "10     1100000    -111.10     32.47         3          3     2308   \n",
       "1       660000    -110.85     32.28         2          3     2498   \n",
       "8       800000    -110.91     31.39         4          5     8154   \n",
       "\n",
       "    price_per_sqft name_of_property  predicted_Price  price_diff  accuracy  \\\n",
       "2           136.57        property3        874621.99   154621.99     21.48   \n",
       "6           501.54        property7       3442651.87   192651.87      5.93   \n",
       "9           318.68       property10       2252295.11    99595.11      4.63   \n",
       "7           712.79        property8       1771800.18    71800.18      4.22   \n",
       "3           159.49        property4        609157.26    24157.26      4.13   \n",
       "4           651.80        property5        984352.83    17083.83      1.77   \n",
       "5           840.06        property6       2612304.88    12304.88      0.47   \n",
       "0           234.69        property1        883842.20     1157.80     -0.13   \n",
       "10          476.60       property11       1050997.08    49002.92     -4.45   \n",
       "1           264.21        property2        587295.80    72704.20    -11.02   \n",
       "8            98.11        property9        645724.54   154275.46    -19.28   \n",
       "\n",
       "    hottest_deals  \n",
       "2            1.00  \n",
       "6            2.00  \n",
       "9            3.00  \n",
       "7            4.00  \n",
       "3            5.00  \n",
       "4            6.00  \n",
       "5            7.00  \n",
       "0            8.00  \n",
       "10           9.00  \n",
       "1           10.00  \n",
       "8           11.00  "
      ]
     },
     "execution_count": 171,
     "metadata": {},
     "output_type": "execute_result"
    }
   ],
   "source": [
    "predict_hottest_deals(find_hottest_deal_data).sort_values(by=\"hottest_deals\")"
   ]
  }
 ],
 "metadata": {
  "kernelspec": {
   "display_name": "base",
   "language": "python",
   "name": "python3"
  },
  "language_info": {
   "codemirror_mode": {
    "name": "ipython",
    "version": 3
   },
   "file_extension": ".py",
   "mimetype": "text/x-python",
   "name": "python",
   "nbconvert_exporter": "python",
   "pygments_lexer": "ipython3",
   "version": "3.11.5"
  }
 },
 "nbformat": 4,
 "nbformat_minor": 2
}
